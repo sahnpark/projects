{
 "cells": [
  {
   "cell_type": "markdown",
   "metadata": {},
   "source": [
    "# Udacity Data Analyst Project 4: Data Wrangling"
   ]
  },
  {
   "cell_type": "markdown",
   "metadata": {},
   "source": [
    "In this project, data of WeRateDogs Twitter archive will be gathered from three sources. Data will be assessed then cleaned. All data will be combined into a table or into multiple tables to keep data tidy and clean. "
   ]
  },
  {
   "cell_type": "code",
   "execution_count": 1,
   "metadata": {},
   "outputs": [],
   "source": [
    "import pandas as pd\n",
    "import numpy as np\n",
    "import requests\n",
    "import os\n",
    "import tweepy\n",
    "import json"
   ]
  },
  {
   "cell_type": "markdown",
   "metadata": {},
   "source": [
    "## Part 1. twitter-archive-enhanced.csv"
   ]
  },
  {
   "cell_type": "markdown",
   "metadata": {},
   "source": [
    "### Gathering "
   ]
  },
  {
   "cell_type": "code",
   "execution_count": 2,
   "metadata": {},
   "outputs": [],
   "source": [
    "# Import uploaded twitter-archive-enhanced.csv file. \n",
    "# twitter-archive-enhanced.csv is given in the project.\n",
    "# The file was uploaded to the folder manually as intructed \n",
    "\n",
    "df_enhanced = pd.read_csv('Data/twitter-archive-enhanced.csv')"
   ]
  },
  {
   "cell_type": "markdown",
   "metadata": {},
   "source": [
    "### Visual and Programmatic Assessing "
   ]
  },
  {
   "cell_type": "markdown",
   "metadata": {},
   "source": [
    "**Quality**\n",
    "- Data include retweets. Project states that only original ratings should be used\n",
    "- Some rows have missing colums so individual data seems to be shifted\n",
    "- Data in `source` column includes unnecessary HTML codes \n",
    "- Sometimes \"a\" or \"an\" were taken as names in `name` column\n",
    "- Sometimes other random words (e.g. \"mad\" or \"this\") are taken as names in `name` column\n",
    "- Some data in `expanded_urls` are missing \n",
    "- Some data in `expanded_urls` are not twitter URLs (incorrect URL's) \n",
    "- Some data in `expanded_urls` is repeated twice within itself\n",
    "- The data type of `in_reply_to_status_id `, `in_reply_to_user_id `, `retweeted_status_id `, and `retweeted_status_user_id` are `float64` and `tweet_id` is `int64`. \n",
    "\n",
    "**Tidiness**\n",
    "- Stages (`doggo`, `floofer`, `pupper` & `puppo`) of dogs are separated into four columns \n",
    "- In Text column, Text of the tweet and image URL are combined together"
   ]
  },
  {
   "cell_type": "code",
   "execution_count": 3,
   "metadata": {
    "scrolled": true
   },
   "outputs": [
    {
     "name": "stdout",
     "output_type": "stream",
     "text": [
      "<class 'pandas.core.frame.DataFrame'>\n",
      "RangeIndex: 2356 entries, 0 to 2355\n",
      "Data columns (total 17 columns):\n",
      "tweet_id                      2356 non-null int64\n",
      "in_reply_to_status_id         78 non-null float64\n",
      "in_reply_to_user_id           78 non-null float64\n",
      "timestamp                     2356 non-null object\n",
      "source                        2356 non-null object\n",
      "text                          2356 non-null object\n",
      "retweeted_status_id           181 non-null float64\n",
      "retweeted_status_user_id      181 non-null float64\n",
      "retweeted_status_timestamp    181 non-null object\n",
      "expanded_urls                 2297 non-null object\n",
      "rating_numerator              2356 non-null int64\n",
      "rating_denominator            2356 non-null int64\n",
      "name                          2356 non-null object\n",
      "doggo                         2356 non-null object\n",
      "floofer                       2356 non-null object\n",
      "pupper                        2356 non-null object\n",
      "puppo                         2356 non-null object\n",
      "dtypes: float64(4), int64(3), object(10)\n",
      "memory usage: 313.0+ KB\n"
     ]
    }
   ],
   "source": [
    "df_enhanced.info()\n",
    "# There are 2,356 observations - some may not be valid \n",
    "# There are 17 variables - some may not be tidy \n",
    "# Some expanded_urls are missing "
   ]
  },
  {
   "cell_type": "code",
   "execution_count": 4,
   "metadata": {},
   "outputs": [
    {
     "data": {
      "text/html": [
       "<div>\n",
       "<style scoped>\n",
       "    .dataframe tbody tr th:only-of-type {\n",
       "        vertical-align: middle;\n",
       "    }\n",
       "\n",
       "    .dataframe tbody tr th {\n",
       "        vertical-align: top;\n",
       "    }\n",
       "\n",
       "    .dataframe thead th {\n",
       "        text-align: right;\n",
       "    }\n",
       "</style>\n",
       "<table border=\"1\" class=\"dataframe\">\n",
       "  <thead>\n",
       "    <tr style=\"text-align: right;\">\n",
       "      <th></th>\n",
       "      <th>tweet_id</th>\n",
       "      <th>in_reply_to_status_id</th>\n",
       "      <th>in_reply_to_user_id</th>\n",
       "      <th>retweeted_status_id</th>\n",
       "      <th>retweeted_status_user_id</th>\n",
       "      <th>rating_numerator</th>\n",
       "      <th>rating_denominator</th>\n",
       "    </tr>\n",
       "  </thead>\n",
       "  <tbody>\n",
       "    <tr>\n",
       "      <th>count</th>\n",
       "      <td>2.356000e+03</td>\n",
       "      <td>7.800000e+01</td>\n",
       "      <td>7.800000e+01</td>\n",
       "      <td>1.810000e+02</td>\n",
       "      <td>1.810000e+02</td>\n",
       "      <td>2356.000000</td>\n",
       "      <td>2356.000000</td>\n",
       "    </tr>\n",
       "    <tr>\n",
       "      <th>mean</th>\n",
       "      <td>7.427716e+17</td>\n",
       "      <td>7.455079e+17</td>\n",
       "      <td>2.014171e+16</td>\n",
       "      <td>7.720400e+17</td>\n",
       "      <td>1.241698e+16</td>\n",
       "      <td>13.126486</td>\n",
       "      <td>10.455433</td>\n",
       "    </tr>\n",
       "    <tr>\n",
       "      <th>std</th>\n",
       "      <td>6.856705e+16</td>\n",
       "      <td>7.582492e+16</td>\n",
       "      <td>1.252797e+17</td>\n",
       "      <td>6.236928e+16</td>\n",
       "      <td>9.599254e+16</td>\n",
       "      <td>45.876648</td>\n",
       "      <td>6.745237</td>\n",
       "    </tr>\n",
       "    <tr>\n",
       "      <th>min</th>\n",
       "      <td>6.660209e+17</td>\n",
       "      <td>6.658147e+17</td>\n",
       "      <td>1.185634e+07</td>\n",
       "      <td>6.661041e+17</td>\n",
       "      <td>7.832140e+05</td>\n",
       "      <td>0.000000</td>\n",
       "      <td>0.000000</td>\n",
       "    </tr>\n",
       "    <tr>\n",
       "      <th>25%</th>\n",
       "      <td>6.783989e+17</td>\n",
       "      <td>6.757419e+17</td>\n",
       "      <td>3.086374e+08</td>\n",
       "      <td>7.186315e+17</td>\n",
       "      <td>4.196984e+09</td>\n",
       "      <td>10.000000</td>\n",
       "      <td>10.000000</td>\n",
       "    </tr>\n",
       "    <tr>\n",
       "      <th>50%</th>\n",
       "      <td>7.196279e+17</td>\n",
       "      <td>7.038708e+17</td>\n",
       "      <td>4.196984e+09</td>\n",
       "      <td>7.804657e+17</td>\n",
       "      <td>4.196984e+09</td>\n",
       "      <td>11.000000</td>\n",
       "      <td>10.000000</td>\n",
       "    </tr>\n",
       "    <tr>\n",
       "      <th>75%</th>\n",
       "      <td>7.993373e+17</td>\n",
       "      <td>8.257804e+17</td>\n",
       "      <td>4.196984e+09</td>\n",
       "      <td>8.203146e+17</td>\n",
       "      <td>4.196984e+09</td>\n",
       "      <td>12.000000</td>\n",
       "      <td>10.000000</td>\n",
       "    </tr>\n",
       "    <tr>\n",
       "      <th>max</th>\n",
       "      <td>8.924206e+17</td>\n",
       "      <td>8.862664e+17</td>\n",
       "      <td>8.405479e+17</td>\n",
       "      <td>8.874740e+17</td>\n",
       "      <td>7.874618e+17</td>\n",
       "      <td>1776.000000</td>\n",
       "      <td>170.000000</td>\n",
       "    </tr>\n",
       "  </tbody>\n",
       "</table>\n",
       "</div>"
      ],
      "text/plain": [
       "           tweet_id  in_reply_to_status_id  in_reply_to_user_id  \\\n",
       "count  2.356000e+03           7.800000e+01         7.800000e+01   \n",
       "mean   7.427716e+17           7.455079e+17         2.014171e+16   \n",
       "std    6.856705e+16           7.582492e+16         1.252797e+17   \n",
       "min    6.660209e+17           6.658147e+17         1.185634e+07   \n",
       "25%    6.783989e+17           6.757419e+17         3.086374e+08   \n",
       "50%    7.196279e+17           7.038708e+17         4.196984e+09   \n",
       "75%    7.993373e+17           8.257804e+17         4.196984e+09   \n",
       "max    8.924206e+17           8.862664e+17         8.405479e+17   \n",
       "\n",
       "       retweeted_status_id  retweeted_status_user_id  rating_numerator  \\\n",
       "count         1.810000e+02              1.810000e+02       2356.000000   \n",
       "mean          7.720400e+17              1.241698e+16         13.126486   \n",
       "std           6.236928e+16              9.599254e+16         45.876648   \n",
       "min           6.661041e+17              7.832140e+05          0.000000   \n",
       "25%           7.186315e+17              4.196984e+09         10.000000   \n",
       "50%           7.804657e+17              4.196984e+09         11.000000   \n",
       "75%           8.203146e+17              4.196984e+09         12.000000   \n",
       "max           8.874740e+17              7.874618e+17       1776.000000   \n",
       "\n",
       "       rating_denominator  \n",
       "count         2356.000000  \n",
       "mean            10.455433  \n",
       "std              6.745237  \n",
       "min              0.000000  \n",
       "25%             10.000000  \n",
       "50%             10.000000  \n",
       "75%             10.000000  \n",
       "max            170.000000  "
      ]
     },
     "execution_count": 4,
     "metadata": {},
     "output_type": "execute_result"
    }
   ],
   "source": [
    "df_enhanced.describe()"
   ]
  },
  {
   "cell_type": "code",
   "execution_count": 5,
   "metadata": {},
   "outputs": [
    {
     "data": {
      "text/html": [
       "<div>\n",
       "<style scoped>\n",
       "    .dataframe tbody tr th:only-of-type {\n",
       "        vertical-align: middle;\n",
       "    }\n",
       "\n",
       "    .dataframe tbody tr th {\n",
       "        vertical-align: top;\n",
       "    }\n",
       "\n",
       "    .dataframe thead th {\n",
       "        text-align: right;\n",
       "    }\n",
       "</style>\n",
       "<table border=\"1\" class=\"dataframe\">\n",
       "  <thead>\n",
       "    <tr style=\"text-align: right;\">\n",
       "      <th></th>\n",
       "      <th>tweet_id</th>\n",
       "      <th>in_reply_to_status_id</th>\n",
       "      <th>in_reply_to_user_id</th>\n",
       "      <th>timestamp</th>\n",
       "      <th>source</th>\n",
       "      <th>text</th>\n",
       "      <th>retweeted_status_id</th>\n",
       "      <th>retweeted_status_user_id</th>\n",
       "      <th>retweeted_status_timestamp</th>\n",
       "      <th>expanded_urls</th>\n",
       "      <th>rating_numerator</th>\n",
       "      <th>rating_denominator</th>\n",
       "      <th>name</th>\n",
       "      <th>doggo</th>\n",
       "      <th>floofer</th>\n",
       "      <th>pupper</th>\n",
       "      <th>puppo</th>\n",
       "    </tr>\n",
       "  </thead>\n",
       "  <tbody>\n",
       "    <tr>\n",
       "      <th>300</th>\n",
       "      <td>836753516572119041</td>\n",
       "      <td>NaN</td>\n",
       "      <td>NaN</td>\n",
       "      <td>2017-03-01 01:42:39 +0000</td>\n",
       "      <td>&lt;a href=\"http://twitter.com/download/iphone\" r...</td>\n",
       "      <td>This is Meera. She just heard about taxes and ...</td>\n",
       "      <td>NaN</td>\n",
       "      <td>NaN</td>\n",
       "      <td>NaN</td>\n",
       "      <td>https://twitter.com/dog_rates/status/836753516...</td>\n",
       "      <td>12</td>\n",
       "      <td>10</td>\n",
       "      <td>Meera</td>\n",
       "      <td>doggo</td>\n",
       "      <td>None</td>\n",
       "      <td>None</td>\n",
       "      <td>None</td>\n",
       "    </tr>\n",
       "    <tr>\n",
       "      <th>1580</th>\n",
       "      <td>687127927494963200</td>\n",
       "      <td>NaN</td>\n",
       "      <td>NaN</td>\n",
       "      <td>2016-01-13 04:23:58 +0000</td>\n",
       "      <td>&lt;a href=\"http://twitter.com/download/iphone\" r...</td>\n",
       "      <td>Meet Gordon. He's an asshole. 9/10 would still...</td>\n",
       "      <td>NaN</td>\n",
       "      <td>NaN</td>\n",
       "      <td>NaN</td>\n",
       "      <td>https://twitter.com/dog_rates/status/687127927...</td>\n",
       "      <td>9</td>\n",
       "      <td>10</td>\n",
       "      <td>Gordon</td>\n",
       "      <td>None</td>\n",
       "      <td>None</td>\n",
       "      <td>None</td>\n",
       "      <td>None</td>\n",
       "    </tr>\n",
       "    <tr>\n",
       "      <th>837</th>\n",
       "      <td>767754930266464257</td>\n",
       "      <td>NaN</td>\n",
       "      <td>NaN</td>\n",
       "      <td>2016-08-22 16:06:54 +0000</td>\n",
       "      <td>&lt;a href=\"http://twitter.com/download/iphone\" r...</td>\n",
       "      <td>This is Philbert. His toilet broke and he does...</td>\n",
       "      <td>NaN</td>\n",
       "      <td>NaN</td>\n",
       "      <td>NaN</td>\n",
       "      <td>https://twitter.com/dog_rates/status/767754930...</td>\n",
       "      <td>11</td>\n",
       "      <td>10</td>\n",
       "      <td>Philbert</td>\n",
       "      <td>None</td>\n",
       "      <td>None</td>\n",
       "      <td>None</td>\n",
       "      <td>None</td>\n",
       "    </tr>\n",
       "    <tr>\n",
       "      <th>1220</th>\n",
       "      <td>714606013974974464</td>\n",
       "      <td>NaN</td>\n",
       "      <td>NaN</td>\n",
       "      <td>2016-03-29 00:12:05 +0000</td>\n",
       "      <td>&lt;a href=\"http://twitter.com/download/iphone\" r...</td>\n",
       "      <td>Here are two lil cuddly puppers. Both 12/10 wo...</td>\n",
       "      <td>NaN</td>\n",
       "      <td>NaN</td>\n",
       "      <td>NaN</td>\n",
       "      <td>https://twitter.com/dog_rates/status/714606013...</td>\n",
       "      <td>12</td>\n",
       "      <td>10</td>\n",
       "      <td>None</td>\n",
       "      <td>None</td>\n",
       "      <td>None</td>\n",
       "      <td>None</td>\n",
       "      <td>None</td>\n",
       "    </tr>\n",
       "    <tr>\n",
       "      <th>377</th>\n",
       "      <td>828011680017821696</td>\n",
       "      <td>NaN</td>\n",
       "      <td>NaN</td>\n",
       "      <td>2017-02-04 22:45:42 +0000</td>\n",
       "      <td>&lt;a href=\"http://twitter.com/download/iphone\" r...</td>\n",
       "      <td>Say hello to Brutus and Jersey. They think the...</td>\n",
       "      <td>NaN</td>\n",
       "      <td>NaN</td>\n",
       "      <td>NaN</td>\n",
       "      <td>https://twitter.com/dog_rates/status/828011680...</td>\n",
       "      <td>11</td>\n",
       "      <td>10</td>\n",
       "      <td>Brutus</td>\n",
       "      <td>None</td>\n",
       "      <td>None</td>\n",
       "      <td>None</td>\n",
       "      <td>None</td>\n",
       "    </tr>\n",
       "  </tbody>\n",
       "</table>\n",
       "</div>"
      ],
      "text/plain": [
       "                tweet_id  in_reply_to_status_id  in_reply_to_user_id  \\\n",
       "300   836753516572119041                    NaN                  NaN   \n",
       "1580  687127927494963200                    NaN                  NaN   \n",
       "837   767754930266464257                    NaN                  NaN   \n",
       "1220  714606013974974464                    NaN                  NaN   \n",
       "377   828011680017821696                    NaN                  NaN   \n",
       "\n",
       "                      timestamp  \\\n",
       "300   2017-03-01 01:42:39 +0000   \n",
       "1580  2016-01-13 04:23:58 +0000   \n",
       "837   2016-08-22 16:06:54 +0000   \n",
       "1220  2016-03-29 00:12:05 +0000   \n",
       "377   2017-02-04 22:45:42 +0000   \n",
       "\n",
       "                                                 source  \\\n",
       "300   <a href=\"http://twitter.com/download/iphone\" r...   \n",
       "1580  <a href=\"http://twitter.com/download/iphone\" r...   \n",
       "837   <a href=\"http://twitter.com/download/iphone\" r...   \n",
       "1220  <a href=\"http://twitter.com/download/iphone\" r...   \n",
       "377   <a href=\"http://twitter.com/download/iphone\" r...   \n",
       "\n",
       "                                                   text  retweeted_status_id  \\\n",
       "300   This is Meera. She just heard about taxes and ...                  NaN   \n",
       "1580  Meet Gordon. He's an asshole. 9/10 would still...                  NaN   \n",
       "837   This is Philbert. His toilet broke and he does...                  NaN   \n",
       "1220  Here are two lil cuddly puppers. Both 12/10 wo...                  NaN   \n",
       "377   Say hello to Brutus and Jersey. They think the...                  NaN   \n",
       "\n",
       "      retweeted_status_user_id retweeted_status_timestamp  \\\n",
       "300                        NaN                        NaN   \n",
       "1580                       NaN                        NaN   \n",
       "837                        NaN                        NaN   \n",
       "1220                       NaN                        NaN   \n",
       "377                        NaN                        NaN   \n",
       "\n",
       "                                          expanded_urls  rating_numerator  \\\n",
       "300   https://twitter.com/dog_rates/status/836753516...                12   \n",
       "1580  https://twitter.com/dog_rates/status/687127927...                 9   \n",
       "837   https://twitter.com/dog_rates/status/767754930...                11   \n",
       "1220  https://twitter.com/dog_rates/status/714606013...                12   \n",
       "377   https://twitter.com/dog_rates/status/828011680...                11   \n",
       "\n",
       "      rating_denominator      name  doggo floofer pupper puppo  \n",
       "300                   10     Meera  doggo    None   None  None  \n",
       "1580                  10    Gordon   None    None   None  None  \n",
       "837                   10  Philbert   None    None   None  None  \n",
       "1220                  10      None   None    None   None  None  \n",
       "377                   10    Brutus   None    None   None  None  "
      ]
     },
     "execution_count": 5,
     "metadata": {},
     "output_type": "execute_result"
    }
   ],
   "source": [
    "df_enhanced.sample(5)"
   ]
  },
  {
   "cell_type": "markdown",
   "metadata": {},
   "source": [
    "### Cleaning"
   ]
  },
  {
   "cell_type": "code",
   "execution_count": 6,
   "metadata": {},
   "outputs": [],
   "source": [
    "# Copy data \n",
    "df_enhanced_clean = df_enhanced.copy()"
   ]
  },
  {
   "cell_type": "markdown",
   "metadata": {},
   "source": [
    "**Define (1)**\n",
    "- Remove retweets "
   ]
  },
  {
   "cell_type": "markdown",
   "metadata": {},
   "source": [
    "**Clean**\n"
   ]
  },
  {
   "cell_type": "code",
   "execution_count": 7,
   "metadata": {},
   "outputs": [],
   "source": [
    "# Drop all RT's \n",
    "df_enhanced_clean = df_enhanced_clean.loc[df_enhanced_clean['text'].str.contains(\"RT @\") == False]\n",
    "\n",
    "# Reset index number \n",
    "df_enhanced_clean = df_enhanced_clean.reset_index(drop=True)"
   ]
  },
  {
   "cell_type": "markdown",
   "metadata": {},
   "source": [
    "**Define (2)**\n",
    "- Make sure all data of obervation matches to the columns "
   ]
  },
  {
   "cell_type": "markdown",
   "metadata": {},
   "source": [
    "**Clean**\n"
   ]
  },
  {
   "cell_type": "code",
   "execution_count": null,
   "metadata": {},
   "outputs": [],
   "source": [
    "# When all retweets are remove, shifted data were clearned as well\n",
    "# No further action is needed "
   ]
  },
  {
   "cell_type": "markdown",
   "metadata": {},
   "source": [
    "**Define (3)**\n",
    "- Remove unnecessary HTML codes from `source` column"
   ]
  },
  {
   "cell_type": "markdown",
   "metadata": {},
   "source": [
    "**Clean**\n"
   ]
  },
  {
   "cell_type": "code",
   "execution_count": 8,
   "metadata": {},
   "outputs": [
    {
     "data": {
      "text/plain": [
       "4"
      ]
     },
     "execution_count": 8,
     "metadata": {},
     "output_type": "execute_result"
    }
   ],
   "source": [
    "df_enhanced_clean.source.nunique()\n",
    "# There are four unique values for source "
   ]
  },
  {
   "cell_type": "code",
   "execution_count": 9,
   "metadata": {},
   "outputs": [],
   "source": [
    "# Find the unique values for source\n",
    "u_val, inds = np.unique(df_enhanced_clean.source, return_index=True) \n",
    "\n",
    "for ind in inds:\n",
    "    src = df_enhanced_clean.iloc[ind]['source'] # Find the exact string \n",
    "    # Get slices (text position)\n",
    "    slicefront = df_enhanced_clean.iloc[ind]['source'].find(\">\")\n",
    "    sliceend = df_enhanced_clean.iloc[ind]['source'].find(\"</a>\")\n",
    "    # Remove HTML codes and just leave the source \n",
    "    df_enhanced_clean.loc[df_enhanced_clean['source'] == src, 'source'] = df_enhanced_clean.loc[df_enhanced_clean['source'] == src,'source'].str[slicefront+1:sliceend]"
   ]
  },
  {
   "cell_type": "markdown",
   "metadata": {},
   "source": [
    "**Define (4)**\n",
    "- Replace incorrect names (e.g. \"a\", \"an\" etc) to \"None\"  "
   ]
  },
  {
   "cell_type": "markdown",
   "metadata": {},
   "source": [
    "**Clean**\n"
   ]
  },
  {
   "cell_type": "code",
   "execution_count": 10,
   "metadata": {},
   "outputs": [],
   "source": [
    "# From assessing, names start with lower case letter are incorrect names\n",
    "\n",
    "# Find all rows that names are start with lower case letter and replace with \"None\"\n",
    "df_enhanced_clean.loc[df_enhanced_clean['name'].str[0].str.islower(), 'name'] = \"None\""
   ]
  },
  {
   "cell_type": "markdown",
   "metadata": {},
   "source": [
    "**Define (5)**\n",
    "- Change the data type of `in_reply_to_status_id`, `in_reply_to_user_id`, `retweeted_status_id`, `retweeted_status_user_id` and `tweet_id` to `str`. \n",
    "- Change all null values to \"N/A\""
   ]
  },
  {
   "cell_type": "markdown",
   "metadata": {},
   "source": [
    "**Clean**\n"
   ]
  },
  {
   "cell_type": "code",
   "execution_count": 11,
   "metadata": {
    "scrolled": true
   },
   "outputs": [],
   "source": [
    "# nulls to \"N/A\"\n",
    "df_enhanced_clean.loc[df_enhanced_clean['in_reply_to_status_id'].isnull(),'in_reply_to_status_id'] = \"N/A\"\n",
    "df_enhanced_clean.loc[df_enhanced_clean['in_reply_to_user_id'].isnull(),'in_reply_to_user_id'] = \"N/A\" \n",
    "df_enhanced_clean.loc[df_enhanced_clean['retweeted_status_id'].isnull(),'retweeted_status_id'] = \"N/A\" \n",
    "df_enhanced_clean.loc[df_enhanced_clean['retweeted_status_user_id'].isnull(),'retweeted_status_user_id'] = \"N/A\" \n",
    "# tweet_id has no missing value"
   ]
  },
  {
   "cell_type": "code",
   "execution_count": 12,
   "metadata": {},
   "outputs": [],
   "source": [
    "# Convert to str \n",
    "df_enhanced_clean['in_reply_to_status_id'] = df_enhanced_clean['in_reply_to_status_id'].astype(str)\n",
    "df_enhanced_clean['in_reply_to_user_id'] = df_enhanced_clean['in_reply_to_user_id'].astype(str)\n",
    "df_enhanced_clean['retweeted_status_id'] = df_enhanced_clean['retweeted_status_id'].astype(str)\n",
    "df_enhanced_clean['retweeted_status_user_id'] = df_enhanced_clean['retweeted_status_user_id'].astype(str)\n",
    "df_enhanced_clean['tweet_id'] = df_enhanced_clean['tweet_id'].astype(str)"
   ]
  },
  {
   "cell_type": "markdown",
   "metadata": {},
   "source": [
    "**Define (6)**\n",
    "- Remove non-twitter URLs from `expanded_urls` column and replace with a correct one\n",
    "- Fill in missing `expanded_urls` column data\n",
    "\n",
    "Correct format of `expanded_urls`:\n",
    "- \"https://twitter.com/dog_rates/status/\" + TweetID + \"photo/1\""
   ]
  },
  {
   "cell_type": "markdown",
   "metadata": {},
   "source": [
    "**Clean**\n"
   ]
  },
  {
   "cell_type": "code",
   "execution_count": 13,
   "metadata": {},
   "outputs": [],
   "source": [
    "# Verify all extended urls \n",
    "df_enhanced_clean['expanded_urls'] = \"https://twitter.com/dog_rates/status/\" + df_enhanced_clean['tweet_id'] + \"photo/1\""
   ]
  },
  {
   "cell_type": "markdown",
   "metadata": {},
   "source": [
    "**Define (7)**\n",
    "- Combine `doggo`, `floofer`, `pupper` & `puppo` columns into `Stage`"
   ]
  },
  {
   "cell_type": "markdown",
   "metadata": {},
   "source": [
    "**Clean**\n"
   ]
  },
  {
   "cell_type": "code",
   "execution_count": 15,
   "metadata": {},
   "outputs": [
    {
     "data": {
      "text/html": [
       "<div>\n",
       "<style scoped>\n",
       "    .dataframe tbody tr th:only-of-type {\n",
       "        vertical-align: middle;\n",
       "    }\n",
       "\n",
       "    .dataframe tbody tr th {\n",
       "        vertical-align: top;\n",
       "    }\n",
       "\n",
       "    .dataframe thead th {\n",
       "        text-align: right;\n",
       "    }\n",
       "</style>\n",
       "<table border=\"1\" class=\"dataframe\">\n",
       "  <thead>\n",
       "    <tr style=\"text-align: right;\">\n",
       "      <th></th>\n",
       "      <th>tweet_id</th>\n",
       "      <th>doggo</th>\n",
       "      <th>floofer</th>\n",
       "      <th>pupper</th>\n",
       "      <th>puppo</th>\n",
       "    </tr>\n",
       "  </thead>\n",
       "  <tbody>\n",
       "    <tr>\n",
       "      <th>0</th>\n",
       "      <td>892420643555336193</td>\n",
       "      <td>None</td>\n",
       "      <td>None</td>\n",
       "      <td>None</td>\n",
       "      <td>None</td>\n",
       "    </tr>\n",
       "    <tr>\n",
       "      <th>1</th>\n",
       "      <td>892177421306343426</td>\n",
       "      <td>None</td>\n",
       "      <td>None</td>\n",
       "      <td>None</td>\n",
       "      <td>None</td>\n",
       "    </tr>\n",
       "    <tr>\n",
       "      <th>2</th>\n",
       "      <td>891815181378084864</td>\n",
       "      <td>None</td>\n",
       "      <td>None</td>\n",
       "      <td>None</td>\n",
       "      <td>None</td>\n",
       "    </tr>\n",
       "    <tr>\n",
       "      <th>3</th>\n",
       "      <td>891689557279858688</td>\n",
       "      <td>None</td>\n",
       "      <td>None</td>\n",
       "      <td>None</td>\n",
       "      <td>None</td>\n",
       "    </tr>\n",
       "    <tr>\n",
       "      <th>4</th>\n",
       "      <td>891327558926688256</td>\n",
       "      <td>None</td>\n",
       "      <td>None</td>\n",
       "      <td>None</td>\n",
       "      <td>None</td>\n",
       "    </tr>\n",
       "  </tbody>\n",
       "</table>\n",
       "</div>"
      ],
      "text/plain": [
       "             tweet_id doggo floofer pupper puppo\n",
       "0  892420643555336193  None    None   None  None\n",
       "1  892177421306343426  None    None   None  None\n",
       "2  891815181378084864  None    None   None  None\n",
       "3  891689557279858688  None    None   None  None\n",
       "4  891327558926688256  None    None   None  None"
      ]
     },
     "execution_count": 15,
     "metadata": {},
     "output_type": "execute_result"
    }
   ],
   "source": [
    "df_stage2 = df_enhanced_clean[['tweet_id', 'doggo', 'floofer', 'pupper', 'puppo']]\n",
    "df_stage2.head(5)"
   ]
  },
  {
   "cell_type": "code",
   "execution_count": 16,
   "metadata": {
    "scrolled": true
   },
   "outputs": [
    {
     "name": "stderr",
     "output_type": "stream",
     "text": [
      "/opt/conda/lib/python3.6/site-packages/pandas/core/indexing.py:362: SettingWithCopyWarning: \n",
      "A value is trying to be set on a copy of a slice from a DataFrame.\n",
      "Try using .loc[row_indexer,col_indexer] = value instead\n",
      "\n",
      "See the caveats in the documentation: http://pandas.pydata.org/pandas-docs/stable/indexing.html#indexing-view-versus-copy\n",
      "  self.obj[key] = _infer_fill_value(value)\n",
      "/opt/conda/lib/python3.6/site-packages/pandas/core/indexing.py:543: SettingWithCopyWarning: \n",
      "A value is trying to be set on a copy of a slice from a DataFrame.\n",
      "Try using .loc[row_indexer,col_indexer] = value instead\n",
      "\n",
      "See the caveats in the documentation: http://pandas.pydata.org/pandas-docs/stable/indexing.html#indexing-view-versus-copy\n",
      "  self.obj[item] = s\n",
      "/opt/conda/lib/python3.6/site-packages/pandas/core/indexing.py:189: SettingWithCopyWarning: \n",
      "A value is trying to be set on a copy of a slice from a DataFrame\n",
      "\n",
      "See the caveats in the documentation: http://pandas.pydata.org/pandas-docs/stable/indexing.html#indexing-view-versus-copy\n",
      "  self._setitem_with_indexer(indexer, value)\n",
      "/opt/conda/lib/python3.6/site-packages/ipykernel_launcher.py:2: SettingWithCopyWarning: \n",
      "A value is trying to be set on a copy of a slice from a DataFrame\n",
      "\n",
      "See the caveats in the documentation: http://pandas.pydata.org/pandas-docs/stable/indexing.html#indexing-view-versus-copy\n",
      "  \n"
     ]
    }
   ],
   "source": [
    "df_stage2.loc[(df_stage2 ['doggo'] == 'None') & (df_stage2 ['floofer'] == 'None') & (df_stage2 ['pupper'] == 'None') & (df_stage2 ['puppo'] == 'None') == False, 'all-none'] = \"N/A\"\n",
    "df_stage2.loc[(df_stage2 ['doggo'] == 'None') & (df_stage2 ['floofer'] == 'None') & (df_stage2 ['pupper'] == 'None') & (df_stage2 ['puppo'] == 'None') == False, 'all-none'] = \"None\""
   ]
  },
  {
   "cell_type": "code",
   "execution_count": 17,
   "metadata": {},
   "outputs": [],
   "source": [
    "df_stage2 = pd.melt(df_stage2, id_vars=['tweet_id'], value_vars=['doggo', 'floofer', 'pupper', 'puppo','all-none'],\n",
    "                   var_name='stage_name', value_name='stage')"
   ]
  },
  {
   "cell_type": "code",
   "execution_count": 18,
   "metadata": {},
   "outputs": [],
   "source": [
    "# Drop all \"None\"s \n",
    "df_stage2 = df_stage2.loc[df_stage2['stage'] != \"None\"]\n",
    "\n",
    "# Reset index number \n",
    "df_stage2 = df_stage2.reset_index(drop=True)"
   ]
  },
  {
   "cell_type": "code",
   "execution_count": 19,
   "metadata": {},
   "outputs": [],
   "source": [
    "df_stage2 = df_stage2.drop(['stage_name'], axis=1)"
   ]
  },
  {
   "cell_type": "code",
   "execution_count": 20,
   "metadata": {},
   "outputs": [
    {
     "name": "stdout",
     "output_type": "stream",
     "text": [
      "<class 'pandas.core.frame.DataFrame'>\n",
      "RangeIndex: 2187 entries, 0 to 2186\n",
      "Data columns (total 2 columns):\n",
      "tweet_id    2187 non-null object\n",
      "stage       356 non-null object\n",
      "dtypes: object(2)\n",
      "memory usage: 34.2+ KB\n"
     ]
    }
   ],
   "source": [
    "df_stage2.info()\n",
    "# There are duplicates. Total observation should be 2175. \n",
    "# Total duplicates are 12 "
   ]
  },
  {
   "cell_type": "code",
   "execution_count": 21,
   "metadata": {},
   "outputs": [
    {
     "data": {
      "text/plain": [
       "True"
      ]
     },
     "execution_count": 21,
     "metadata": {},
     "output_type": "execute_result"
    }
   ],
   "source": [
    "dupfirst = df_stage2[df_stage2.duplicated('tweet_id', keep='first')]\n",
    "duplast = df_stage2[df_stage2.duplicated('tweet_id', keep='last')]\n",
    "dupfirst.shape == duplast.shape\n",
    "# If ture, there is only one duplicate per observation"
   ]
  },
  {
   "cell_type": "code",
   "execution_count": 22,
   "metadata": {},
   "outputs": [],
   "source": [
    "# Combine duplicated stages \n",
    "for tweetid in dupfirst['tweet_id'] :\n",
    "    newstage = duplast[duplast['tweet_id']==tweetid]['stage'].values[0] + ', ' + dupfirst[dupfirst['tweet_id']==tweetid]['stage'].values[0]\n",
    "    df_stage2['stage'][np.where(df_stage2[\"tweet_id\"] == tweetid)[0][0]] = newstage"
   ]
  },
  {
   "cell_type": "code",
   "execution_count": 23,
   "metadata": {},
   "outputs": [],
   "source": [
    "# Drop duplicate tweet_id \n",
    "df_stage2.drop_duplicates('tweet_id', keep='first', inplace=True)"
   ]
  },
  {
   "cell_type": "code",
   "execution_count": 24,
   "metadata": {},
   "outputs": [],
   "source": [
    "# Merge df_stage2 to df_enhance_clean \n",
    "df_enhanced_clean = df_enhanced_clean.join(df_stage2.set_index('tweet_id'), on='tweet_id')"
   ]
  },
  {
   "cell_type": "code",
   "execution_count": 25,
   "metadata": {},
   "outputs": [],
   "source": [
    "# Fill nulls to \"Nones\" for stage column \n",
    "df_enhanced_clean['stage'] = df_enhanced_clean['stage'].fillna(\"None\")\n",
    "\n",
    "# Drop untidy stage columns\n",
    "df_enhanced_clean = df_enhanced_clean.drop(['doggo', 'floofer', 'pupper', 'puppo'], axis=1)\n"
   ]
  },
  {
   "cell_type": "markdown",
   "metadata": {},
   "source": [
    "**Define (8)**\n",
    "- Separate data in `text` column into `text` and `image_url`"
   ]
  },
  {
   "cell_type": "markdown",
   "metadata": {},
   "source": [
    "**Clean**"
   ]
  },
  {
   "cell_type": "code",
   "execution_count": 26,
   "metadata": {},
   "outputs": [],
   "source": [
    "textsplit = df_enhanced_clean[\"text\"].str.split(\"http\", n = 1, expand = True) \n",
    "df_enhanced_clean[\"tweet_text\"]= textsplit[0] \n",
    "df_enhanced_clean[\"tweet_image_url\"]= textsplit[1] \n",
    "df_enhanced_clean[\"tweet_image_url\"]= df_enhanced_clean[\"tweet_image_url\"].str.replace('s://','https://')\n",
    "\n",
    "# Fix obervations with multiple image URLs\n",
    "df_enhanced_clean[\"tweet_image_url\"]= df_enhanced_clean[\"tweet_image_url\"].str.replace(' httphttp',', http')"
   ]
  },
  {
   "cell_type": "code",
   "execution_count": 27,
   "metadata": {},
   "outputs": [],
   "source": [
    "# Drop untidy column\n",
    "df_enhanced_clean = df_enhanced_clean.drop(['text'], axis=1)\n",
    "\n",
    "# Fill missing value in image url's \n",
    "\n",
    "df_enhanced_clean['tweet_image_url'] = df_enhanced_clean['tweet_image_url'].fillna(\"No image URL\")"
   ]
  },
  {
   "cell_type": "markdown",
   "metadata": {},
   "source": [
    "## Part 2. image_predictions.tsv"
   ]
  },
  {
   "cell_type": "markdown",
   "metadata": {},
   "source": [
    "### Gathering"
   ]
  },
  {
   "cell_type": "code",
   "execution_count": null,
   "metadata": {},
   "outputs": [],
   "source": [
    "# Download the image prediction file (image_predictions.tsv) programically \n",
    "#     to the \"Data\" folder\n",
    "\n",
    "# Make directory if it doesn't already exist\n",
    "folder_name = 'Data'\n",
    "if not os.path.exists(folder_name):\n",
    "    os.makedirs(folder_name)\n",
    "\n",
    "# Image prediction url is given in the project \n",
    "image_prediction_url = \"https://d17h27t6h515a5.cloudfront.net/topher/2017/August/599fd2ad_image-predictions/image-predictions.tsv\"\n",
    "\n",
    "response = requests.get(image_prediction_url)\n",
    "\n",
    "with open(os.path.join(folder_name,\n",
    "                           image_prediction_url.split('/')[-1]), mode = 'wb') as file:\n",
    "        file.write(response.content)"
   ]
  },
  {
   "cell_type": "code",
   "execution_count": 28,
   "metadata": {},
   "outputs": [],
   "source": [
    "# Open the file in the notebook \n",
    "df_image = pd.read_csv('Data/image-predictions.tsv', delimiter='\\t', encoding='utf-8')"
   ]
  },
  {
   "cell_type": "markdown",
   "metadata": {},
   "source": [
    "### Visual and Programmatic Assessing"
   ]
  },
  {
   "cell_type": "code",
   "execution_count": 29,
   "metadata": {},
   "outputs": [
    {
     "data": {
      "text/html": [
       "<div>\n",
       "<style scoped>\n",
       "    .dataframe tbody tr th:only-of-type {\n",
       "        vertical-align: middle;\n",
       "    }\n",
       "\n",
       "    .dataframe tbody tr th {\n",
       "        vertical-align: top;\n",
       "    }\n",
       "\n",
       "    .dataframe thead th {\n",
       "        text-align: right;\n",
       "    }\n",
       "</style>\n",
       "<table border=\"1\" class=\"dataframe\">\n",
       "  <thead>\n",
       "    <tr style=\"text-align: right;\">\n",
       "      <th></th>\n",
       "      <th>tweet_id</th>\n",
       "      <th>jpg_url</th>\n",
       "      <th>img_num</th>\n",
       "      <th>p1</th>\n",
       "      <th>p1_conf</th>\n",
       "      <th>p1_dog</th>\n",
       "      <th>p2</th>\n",
       "      <th>p2_conf</th>\n",
       "      <th>p2_dog</th>\n",
       "      <th>p3</th>\n",
       "      <th>p3_conf</th>\n",
       "      <th>p3_dog</th>\n",
       "    </tr>\n",
       "  </thead>\n",
       "  <tbody>\n",
       "    <tr>\n",
       "      <th>0</th>\n",
       "      <td>666020888022790149</td>\n",
       "      <td>https://pbs.twimg.com/media/CT4udn0WwAA0aMy.jpg</td>\n",
       "      <td>1</td>\n",
       "      <td>Welsh_springer_spaniel</td>\n",
       "      <td>0.465074</td>\n",
       "      <td>True</td>\n",
       "      <td>collie</td>\n",
       "      <td>0.156665</td>\n",
       "      <td>True</td>\n",
       "      <td>Shetland_sheepdog</td>\n",
       "      <td>0.061428</td>\n",
       "      <td>True</td>\n",
       "    </tr>\n",
       "    <tr>\n",
       "      <th>1</th>\n",
       "      <td>666029285002620928</td>\n",
       "      <td>https://pbs.twimg.com/media/CT42GRgUYAA5iDo.jpg</td>\n",
       "      <td>1</td>\n",
       "      <td>redbone</td>\n",
       "      <td>0.506826</td>\n",
       "      <td>True</td>\n",
       "      <td>miniature_pinscher</td>\n",
       "      <td>0.074192</td>\n",
       "      <td>True</td>\n",
       "      <td>Rhodesian_ridgeback</td>\n",
       "      <td>0.072010</td>\n",
       "      <td>True</td>\n",
       "    </tr>\n",
       "    <tr>\n",
       "      <th>2</th>\n",
       "      <td>666033412701032449</td>\n",
       "      <td>https://pbs.twimg.com/media/CT4521TWwAEvMyu.jpg</td>\n",
       "      <td>1</td>\n",
       "      <td>German_shepherd</td>\n",
       "      <td>0.596461</td>\n",
       "      <td>True</td>\n",
       "      <td>malinois</td>\n",
       "      <td>0.138584</td>\n",
       "      <td>True</td>\n",
       "      <td>bloodhound</td>\n",
       "      <td>0.116197</td>\n",
       "      <td>True</td>\n",
       "    </tr>\n",
       "    <tr>\n",
       "      <th>3</th>\n",
       "      <td>666044226329800704</td>\n",
       "      <td>https://pbs.twimg.com/media/CT5Dr8HUEAA-lEu.jpg</td>\n",
       "      <td>1</td>\n",
       "      <td>Rhodesian_ridgeback</td>\n",
       "      <td>0.408143</td>\n",
       "      <td>True</td>\n",
       "      <td>redbone</td>\n",
       "      <td>0.360687</td>\n",
       "      <td>True</td>\n",
       "      <td>miniature_pinscher</td>\n",
       "      <td>0.222752</td>\n",
       "      <td>True</td>\n",
       "    </tr>\n",
       "    <tr>\n",
       "      <th>4</th>\n",
       "      <td>666049248165822465</td>\n",
       "      <td>https://pbs.twimg.com/media/CT5IQmsXIAAKY4A.jpg</td>\n",
       "      <td>1</td>\n",
       "      <td>miniature_pinscher</td>\n",
       "      <td>0.560311</td>\n",
       "      <td>True</td>\n",
       "      <td>Rottweiler</td>\n",
       "      <td>0.243682</td>\n",
       "      <td>True</td>\n",
       "      <td>Doberman</td>\n",
       "      <td>0.154629</td>\n",
       "      <td>True</td>\n",
       "    </tr>\n",
       "    <tr>\n",
       "      <th>5</th>\n",
       "      <td>666050758794694657</td>\n",
       "      <td>https://pbs.twimg.com/media/CT5Jof1WUAEuVxN.jpg</td>\n",
       "      <td>1</td>\n",
       "      <td>Bernese_mountain_dog</td>\n",
       "      <td>0.651137</td>\n",
       "      <td>True</td>\n",
       "      <td>English_springer</td>\n",
       "      <td>0.263788</td>\n",
       "      <td>True</td>\n",
       "      <td>Greater_Swiss_Mountain_dog</td>\n",
       "      <td>0.016199</td>\n",
       "      <td>True</td>\n",
       "    </tr>\n",
       "    <tr>\n",
       "      <th>6</th>\n",
       "      <td>666051853826850816</td>\n",
       "      <td>https://pbs.twimg.com/media/CT5KoJ1WoAAJash.jpg</td>\n",
       "      <td>1</td>\n",
       "      <td>box_turtle</td>\n",
       "      <td>0.933012</td>\n",
       "      <td>False</td>\n",
       "      <td>mud_turtle</td>\n",
       "      <td>0.045885</td>\n",
       "      <td>False</td>\n",
       "      <td>terrapin</td>\n",
       "      <td>0.017885</td>\n",
       "      <td>False</td>\n",
       "    </tr>\n",
       "    <tr>\n",
       "      <th>7</th>\n",
       "      <td>666055525042405380</td>\n",
       "      <td>https://pbs.twimg.com/media/CT5N9tpXIAAifs1.jpg</td>\n",
       "      <td>1</td>\n",
       "      <td>chow</td>\n",
       "      <td>0.692517</td>\n",
       "      <td>True</td>\n",
       "      <td>Tibetan_mastiff</td>\n",
       "      <td>0.058279</td>\n",
       "      <td>True</td>\n",
       "      <td>fur_coat</td>\n",
       "      <td>0.054449</td>\n",
       "      <td>False</td>\n",
       "    </tr>\n",
       "    <tr>\n",
       "      <th>8</th>\n",
       "      <td>666057090499244032</td>\n",
       "      <td>https://pbs.twimg.com/media/CT5PY90WoAAQGLo.jpg</td>\n",
       "      <td>1</td>\n",
       "      <td>shopping_cart</td>\n",
       "      <td>0.962465</td>\n",
       "      <td>False</td>\n",
       "      <td>shopping_basket</td>\n",
       "      <td>0.014594</td>\n",
       "      <td>False</td>\n",
       "      <td>golden_retriever</td>\n",
       "      <td>0.007959</td>\n",
       "      <td>True</td>\n",
       "    </tr>\n",
       "    <tr>\n",
       "      <th>9</th>\n",
       "      <td>666058600524156928</td>\n",
       "      <td>https://pbs.twimg.com/media/CT5Qw94XAAA_2dP.jpg</td>\n",
       "      <td>1</td>\n",
       "      <td>miniature_poodle</td>\n",
       "      <td>0.201493</td>\n",
       "      <td>True</td>\n",
       "      <td>komondor</td>\n",
       "      <td>0.192305</td>\n",
       "      <td>True</td>\n",
       "      <td>soft-coated_wheaten_terrier</td>\n",
       "      <td>0.082086</td>\n",
       "      <td>True</td>\n",
       "    </tr>\n",
       "  </tbody>\n",
       "</table>\n",
       "</div>"
      ],
      "text/plain": [
       "             tweet_id                                          jpg_url  \\\n",
       "0  666020888022790149  https://pbs.twimg.com/media/CT4udn0WwAA0aMy.jpg   \n",
       "1  666029285002620928  https://pbs.twimg.com/media/CT42GRgUYAA5iDo.jpg   \n",
       "2  666033412701032449  https://pbs.twimg.com/media/CT4521TWwAEvMyu.jpg   \n",
       "3  666044226329800704  https://pbs.twimg.com/media/CT5Dr8HUEAA-lEu.jpg   \n",
       "4  666049248165822465  https://pbs.twimg.com/media/CT5IQmsXIAAKY4A.jpg   \n",
       "5  666050758794694657  https://pbs.twimg.com/media/CT5Jof1WUAEuVxN.jpg   \n",
       "6  666051853826850816  https://pbs.twimg.com/media/CT5KoJ1WoAAJash.jpg   \n",
       "7  666055525042405380  https://pbs.twimg.com/media/CT5N9tpXIAAifs1.jpg   \n",
       "8  666057090499244032  https://pbs.twimg.com/media/CT5PY90WoAAQGLo.jpg   \n",
       "9  666058600524156928  https://pbs.twimg.com/media/CT5Qw94XAAA_2dP.jpg   \n",
       "\n",
       "   img_num                      p1   p1_conf  p1_dog                  p2  \\\n",
       "0        1  Welsh_springer_spaniel  0.465074    True              collie   \n",
       "1        1                 redbone  0.506826    True  miniature_pinscher   \n",
       "2        1         German_shepherd  0.596461    True            malinois   \n",
       "3        1     Rhodesian_ridgeback  0.408143    True             redbone   \n",
       "4        1      miniature_pinscher  0.560311    True          Rottweiler   \n",
       "5        1    Bernese_mountain_dog  0.651137    True    English_springer   \n",
       "6        1              box_turtle  0.933012   False          mud_turtle   \n",
       "7        1                    chow  0.692517    True     Tibetan_mastiff   \n",
       "8        1           shopping_cart  0.962465   False     shopping_basket   \n",
       "9        1        miniature_poodle  0.201493    True            komondor   \n",
       "\n",
       "    p2_conf  p2_dog                           p3   p3_conf  p3_dog  \n",
       "0  0.156665    True            Shetland_sheepdog  0.061428    True  \n",
       "1  0.074192    True          Rhodesian_ridgeback  0.072010    True  \n",
       "2  0.138584    True                   bloodhound  0.116197    True  \n",
       "3  0.360687    True           miniature_pinscher  0.222752    True  \n",
       "4  0.243682    True                     Doberman  0.154629    True  \n",
       "5  0.263788    True   Greater_Swiss_Mountain_dog  0.016199    True  \n",
       "6  0.045885   False                     terrapin  0.017885   False  \n",
       "7  0.058279    True                     fur_coat  0.054449   False  \n",
       "8  0.014594   False             golden_retriever  0.007959    True  \n",
       "9  0.192305    True  soft-coated_wheaten_terrier  0.082086    True  "
      ]
     },
     "execution_count": 29,
     "metadata": {},
     "output_type": "execute_result"
    }
   ],
   "source": [
    "df_image.head(10)"
   ]
  },
  {
   "cell_type": "markdown",
   "metadata": {},
   "source": [
    "**Quality**\n",
    "- Dog breed names (`p1`, `p2`, and `p3` columns) are mixed with lower and upper case letters\n",
    "- Dog breed names (`p1`, `p2`, and `p3` columns) use underscore instead of space \n",
    "- `p1`, `p2`, and `p3` column names aren't clear\n",
    "- The data type of `tweet_id` is `int64`"
   ]
  },
  {
   "cell_type": "code",
   "execution_count": 30,
   "metadata": {},
   "outputs": [
    {
     "name": "stdout",
     "output_type": "stream",
     "text": [
      "<class 'pandas.core.frame.DataFrame'>\n",
      "RangeIndex: 2075 entries, 0 to 2074\n",
      "Data columns (total 12 columns):\n",
      "tweet_id    2075 non-null int64\n",
      "jpg_url     2075 non-null object\n",
      "img_num     2075 non-null int64\n",
      "p1          2075 non-null object\n",
      "p1_conf     2075 non-null float64\n",
      "p1_dog      2075 non-null bool\n",
      "p2          2075 non-null object\n",
      "p2_conf     2075 non-null float64\n",
      "p2_dog      2075 non-null bool\n",
      "p3          2075 non-null object\n",
      "p3_conf     2075 non-null float64\n",
      "p3_dog      2075 non-null bool\n",
      "dtypes: bool(3), float64(3), int64(2), object(4)\n",
      "memory usage: 152.1+ KB\n"
     ]
    }
   ],
   "source": [
    "df_image.info()\n",
    "# No mising data "
   ]
  },
  {
   "cell_type": "code",
   "execution_count": 31,
   "metadata": {},
   "outputs": [
    {
     "data": {
      "text/html": [
       "<div>\n",
       "<style scoped>\n",
       "    .dataframe tbody tr th:only-of-type {\n",
       "        vertical-align: middle;\n",
       "    }\n",
       "\n",
       "    .dataframe tbody tr th {\n",
       "        vertical-align: top;\n",
       "    }\n",
       "\n",
       "    .dataframe thead th {\n",
       "        text-align: right;\n",
       "    }\n",
       "</style>\n",
       "<table border=\"1\" class=\"dataframe\">\n",
       "  <thead>\n",
       "    <tr style=\"text-align: right;\">\n",
       "      <th></th>\n",
       "      <th>tweet_id</th>\n",
       "      <th>img_num</th>\n",
       "      <th>p1_conf</th>\n",
       "      <th>p2_conf</th>\n",
       "      <th>p3_conf</th>\n",
       "    </tr>\n",
       "  </thead>\n",
       "  <tbody>\n",
       "    <tr>\n",
       "      <th>count</th>\n",
       "      <td>2.075000e+03</td>\n",
       "      <td>2075.000000</td>\n",
       "      <td>2075.000000</td>\n",
       "      <td>2.075000e+03</td>\n",
       "      <td>2.075000e+03</td>\n",
       "    </tr>\n",
       "    <tr>\n",
       "      <th>mean</th>\n",
       "      <td>7.384514e+17</td>\n",
       "      <td>1.203855</td>\n",
       "      <td>0.594548</td>\n",
       "      <td>1.345886e-01</td>\n",
       "      <td>6.032417e-02</td>\n",
       "    </tr>\n",
       "    <tr>\n",
       "      <th>std</th>\n",
       "      <td>6.785203e+16</td>\n",
       "      <td>0.561875</td>\n",
       "      <td>0.271174</td>\n",
       "      <td>1.006657e-01</td>\n",
       "      <td>5.090593e-02</td>\n",
       "    </tr>\n",
       "    <tr>\n",
       "      <th>min</th>\n",
       "      <td>6.660209e+17</td>\n",
       "      <td>1.000000</td>\n",
       "      <td>0.044333</td>\n",
       "      <td>1.011300e-08</td>\n",
       "      <td>1.740170e-10</td>\n",
       "    </tr>\n",
       "    <tr>\n",
       "      <th>25%</th>\n",
       "      <td>6.764835e+17</td>\n",
       "      <td>1.000000</td>\n",
       "      <td>0.364412</td>\n",
       "      <td>5.388625e-02</td>\n",
       "      <td>1.622240e-02</td>\n",
       "    </tr>\n",
       "    <tr>\n",
       "      <th>50%</th>\n",
       "      <td>7.119988e+17</td>\n",
       "      <td>1.000000</td>\n",
       "      <td>0.588230</td>\n",
       "      <td>1.181810e-01</td>\n",
       "      <td>4.944380e-02</td>\n",
       "    </tr>\n",
       "    <tr>\n",
       "      <th>75%</th>\n",
       "      <td>7.932034e+17</td>\n",
       "      <td>1.000000</td>\n",
       "      <td>0.843855</td>\n",
       "      <td>1.955655e-01</td>\n",
       "      <td>9.180755e-02</td>\n",
       "    </tr>\n",
       "    <tr>\n",
       "      <th>max</th>\n",
       "      <td>8.924206e+17</td>\n",
       "      <td>4.000000</td>\n",
       "      <td>1.000000</td>\n",
       "      <td>4.880140e-01</td>\n",
       "      <td>2.734190e-01</td>\n",
       "    </tr>\n",
       "  </tbody>\n",
       "</table>\n",
       "</div>"
      ],
      "text/plain": [
       "           tweet_id      img_num      p1_conf       p2_conf       p3_conf\n",
       "count  2.075000e+03  2075.000000  2075.000000  2.075000e+03  2.075000e+03\n",
       "mean   7.384514e+17     1.203855     0.594548  1.345886e-01  6.032417e-02\n",
       "std    6.785203e+16     0.561875     0.271174  1.006657e-01  5.090593e-02\n",
       "min    6.660209e+17     1.000000     0.044333  1.011300e-08  1.740170e-10\n",
       "25%    6.764835e+17     1.000000     0.364412  5.388625e-02  1.622240e-02\n",
       "50%    7.119988e+17     1.000000     0.588230  1.181810e-01  4.944380e-02\n",
       "75%    7.932034e+17     1.000000     0.843855  1.955655e-01  9.180755e-02\n",
       "max    8.924206e+17     4.000000     1.000000  4.880140e-01  2.734190e-01"
      ]
     },
     "execution_count": 31,
     "metadata": {},
     "output_type": "execute_result"
    }
   ],
   "source": [
    "df_image.describe()\n",
    "# All p_conf values must be between 0 and 1 --> Fit the criteria "
   ]
  },
  {
   "cell_type": "code",
   "execution_count": 32,
   "metadata": {},
   "outputs": [
    {
     "data": {
      "text/html": [
       "<div>\n",
       "<style scoped>\n",
       "    .dataframe tbody tr th:only-of-type {\n",
       "        vertical-align: middle;\n",
       "    }\n",
       "\n",
       "    .dataframe tbody tr th {\n",
       "        vertical-align: top;\n",
       "    }\n",
       "\n",
       "    .dataframe thead th {\n",
       "        text-align: right;\n",
       "    }\n",
       "</style>\n",
       "<table border=\"1\" class=\"dataframe\">\n",
       "  <thead>\n",
       "    <tr style=\"text-align: right;\">\n",
       "      <th></th>\n",
       "      <th>tweet_id</th>\n",
       "      <th>jpg_url</th>\n",
       "      <th>img_num</th>\n",
       "      <th>p1</th>\n",
       "      <th>p1_conf</th>\n",
       "      <th>p1_dog</th>\n",
       "      <th>p2</th>\n",
       "      <th>p2_conf</th>\n",
       "      <th>p2_dog</th>\n",
       "      <th>p3</th>\n",
       "      <th>p3_conf</th>\n",
       "      <th>p3_dog</th>\n",
       "    </tr>\n",
       "  </thead>\n",
       "  <tbody>\n",
       "    <tr>\n",
       "      <th>113</th>\n",
       "      <td>667915453470232577</td>\n",
       "      <td>https://pbs.twimg.com/media/CUTpj-GWcAATc6A.jpg</td>\n",
       "      <td>1</td>\n",
       "      <td>leatherback_turtle</td>\n",
       "      <td>0.452517</td>\n",
       "      <td>False</td>\n",
       "      <td>boxer</td>\n",
       "      <td>0.196655</td>\n",
       "      <td>True</td>\n",
       "      <td>terrapin</td>\n",
       "      <td>0.160983</td>\n",
       "      <td>False</td>\n",
       "    </tr>\n",
       "    <tr>\n",
       "      <th>228</th>\n",
       "      <td>670385711116361728</td>\n",
       "      <td>https://pbs.twimg.com/media/CU2wPyWWUAAb1MJ.jpg</td>\n",
       "      <td>1</td>\n",
       "      <td>whippet</td>\n",
       "      <td>0.178027</td>\n",
       "      <td>True</td>\n",
       "      <td>Chesapeake_Bay_retriever</td>\n",
       "      <td>0.105969</td>\n",
       "      <td>True</td>\n",
       "      <td>beagle</td>\n",
       "      <td>0.078720</td>\n",
       "      <td>True</td>\n",
       "    </tr>\n",
       "    <tr>\n",
       "      <th>133</th>\n",
       "      <td>668480044826800133</td>\n",
       "      <td>https://pbs.twimg.com/media/CUbrDWOWcAEyMdM.jpg</td>\n",
       "      <td>1</td>\n",
       "      <td>Arctic_fox</td>\n",
       "      <td>0.119243</td>\n",
       "      <td>False</td>\n",
       "      <td>Labrador_retriever</td>\n",
       "      <td>0.099965</td>\n",
       "      <td>True</td>\n",
       "      <td>pug</td>\n",
       "      <td>0.086717</td>\n",
       "      <td>True</td>\n",
       "    </tr>\n",
       "    <tr>\n",
       "      <th>1761</th>\n",
       "      <td>826115272272650244</td>\n",
       "      <td>https://pbs.twimg.com/media/C3bzVILWcAUjS5i.jpg</td>\n",
       "      <td>1</td>\n",
       "      <td>tennis_ball</td>\n",
       "      <td>0.997071</td>\n",
       "      <td>False</td>\n",
       "      <td>golden_retriever</td>\n",
       "      <td>0.002331</td>\n",
       "      <td>True</td>\n",
       "      <td>kuvasz</td>\n",
       "      <td>0.000283</td>\n",
       "      <td>True</td>\n",
       "    </tr>\n",
       "    <tr>\n",
       "      <th>103</th>\n",
       "      <td>667806454573760512</td>\n",
       "      <td>https://pbs.twimg.com/media/CUSGbXeVAAAgztZ.jpg</td>\n",
       "      <td>1</td>\n",
       "      <td>toyshop</td>\n",
       "      <td>0.253089</td>\n",
       "      <td>False</td>\n",
       "      <td>Chihuahua</td>\n",
       "      <td>0.187155</td>\n",
       "      <td>True</td>\n",
       "      <td>Brabancon_griffon</td>\n",
       "      <td>0.112799</td>\n",
       "      <td>True</td>\n",
       "    </tr>\n",
       "  </tbody>\n",
       "</table>\n",
       "</div>"
      ],
      "text/plain": [
       "                tweet_id                                          jpg_url  \\\n",
       "113   667915453470232577  https://pbs.twimg.com/media/CUTpj-GWcAATc6A.jpg   \n",
       "228   670385711116361728  https://pbs.twimg.com/media/CU2wPyWWUAAb1MJ.jpg   \n",
       "133   668480044826800133  https://pbs.twimg.com/media/CUbrDWOWcAEyMdM.jpg   \n",
       "1761  826115272272650244  https://pbs.twimg.com/media/C3bzVILWcAUjS5i.jpg   \n",
       "103   667806454573760512  https://pbs.twimg.com/media/CUSGbXeVAAAgztZ.jpg   \n",
       "\n",
       "      img_num                  p1   p1_conf  p1_dog                        p2  \\\n",
       "113         1  leatherback_turtle  0.452517   False                     boxer   \n",
       "228         1             whippet  0.178027    True  Chesapeake_Bay_retriever   \n",
       "133         1          Arctic_fox  0.119243   False        Labrador_retriever   \n",
       "1761        1         tennis_ball  0.997071   False          golden_retriever   \n",
       "103         1             toyshop  0.253089   False                 Chihuahua   \n",
       "\n",
       "       p2_conf  p2_dog                 p3   p3_conf  p3_dog  \n",
       "113   0.196655    True           terrapin  0.160983   False  \n",
       "228   0.105969    True             beagle  0.078720    True  \n",
       "133   0.099965    True                pug  0.086717    True  \n",
       "1761  0.002331    True             kuvasz  0.000283    True  \n",
       "103   0.187155    True  Brabancon_griffon  0.112799    True  "
      ]
     },
     "execution_count": 32,
     "metadata": {},
     "output_type": "execute_result"
    }
   ],
   "source": [
    "df_image.sample(5)"
   ]
  },
  {
   "cell_type": "markdown",
   "metadata": {},
   "source": [
    "### Cleaning"
   ]
  },
  {
   "cell_type": "markdown",
   "metadata": {},
   "source": [
    "This Data is overally tidy itself.\n",
    "Each observation is on each row. Each variable is in each column. Also, observational unit (i.e. Image prediction from given dog images) forms a table. Therefore, only quality issue will be addressed for this table. \n",
    "\n",
    "**Define (1)**\n",
    "- ID needs to be string. Change `tweet_id` to `str`"
   ]
  },
  {
   "cell_type": "code",
   "execution_count": 33,
   "metadata": {},
   "outputs": [],
   "source": [
    "# Copy data \n",
    "df_image_clean = df_image.copy()"
   ]
  },
  {
   "cell_type": "code",
   "execution_count": 34,
   "metadata": {},
   "outputs": [],
   "source": [
    "df_image_clean['tweet_id'] = df_image_clean['tweet_id'].astype(str)"
   ]
  },
  {
   "cell_type": "markdown",
   "metadata": {},
   "source": [
    "**Define (2)**\n",
    "- Replace underscore to space in `p1`, `p2`, and `p3` columns\n",
    "- Make all letters lower case except for the first letter in `p1`, `p2`, and `p3` columns\n",
    "- Rename `p1`, `p2`, and `p3` columns to `prediction1`, `prediction2`, `predictino3`"
   ]
  },
  {
   "cell_type": "code",
   "execution_count": 35,
   "metadata": {},
   "outputs": [],
   "source": [
    "df_image_clean['p1'] = df_image_clean['p1'].str.replace('_', ' ').str.capitalize()\n",
    "df_image_clean['p2'] = df_image_clean['p2'].str.replace('_', ' ').str.capitalize()\n",
    "df_image_clean['p3'] = df_image_clean['p3'].str.replace('_', ' ').str.capitalize()"
   ]
  },
  {
   "cell_type": "code",
   "execution_count": 36,
   "metadata": {},
   "outputs": [],
   "source": [
    "df_image_clean.rename(columns={'p1':'prediction1',\n",
    "                          'p2':'prediction2',\n",
    "                          'p3':'prediction3'}, inplace=True)"
   ]
  },
  {
   "cell_type": "code",
   "execution_count": 37,
   "metadata": {},
   "outputs": [
    {
     "data": {
      "text/html": [
       "<div>\n",
       "<style scoped>\n",
       "    .dataframe tbody tr th:only-of-type {\n",
       "        vertical-align: middle;\n",
       "    }\n",
       "\n",
       "    .dataframe tbody tr th {\n",
       "        vertical-align: top;\n",
       "    }\n",
       "\n",
       "    .dataframe thead th {\n",
       "        text-align: right;\n",
       "    }\n",
       "</style>\n",
       "<table border=\"1\" class=\"dataframe\">\n",
       "  <thead>\n",
       "    <tr style=\"text-align: right;\">\n",
       "      <th></th>\n",
       "      <th>tweet_id</th>\n",
       "      <th>jpg_url</th>\n",
       "      <th>img_num</th>\n",
       "      <th>prediction1</th>\n",
       "      <th>p1_conf</th>\n",
       "      <th>p1_dog</th>\n",
       "      <th>prediction2</th>\n",
       "      <th>p2_conf</th>\n",
       "      <th>p2_dog</th>\n",
       "      <th>prediction3</th>\n",
       "      <th>p3_conf</th>\n",
       "      <th>p3_dog</th>\n",
       "    </tr>\n",
       "  </thead>\n",
       "  <tbody>\n",
       "    <tr>\n",
       "      <th>0</th>\n",
       "      <td>666020888022790149</td>\n",
       "      <td>https://pbs.twimg.com/media/CT4udn0WwAA0aMy.jpg</td>\n",
       "      <td>1</td>\n",
       "      <td>Welsh springer spaniel</td>\n",
       "      <td>0.465074</td>\n",
       "      <td>True</td>\n",
       "      <td>Collie</td>\n",
       "      <td>0.156665</td>\n",
       "      <td>True</td>\n",
       "      <td>Shetland sheepdog</td>\n",
       "      <td>0.061428</td>\n",
       "      <td>True</td>\n",
       "    </tr>\n",
       "    <tr>\n",
       "      <th>1</th>\n",
       "      <td>666029285002620928</td>\n",
       "      <td>https://pbs.twimg.com/media/CT42GRgUYAA5iDo.jpg</td>\n",
       "      <td>1</td>\n",
       "      <td>Redbone</td>\n",
       "      <td>0.506826</td>\n",
       "      <td>True</td>\n",
       "      <td>Miniature pinscher</td>\n",
       "      <td>0.074192</td>\n",
       "      <td>True</td>\n",
       "      <td>Rhodesian ridgeback</td>\n",
       "      <td>0.072010</td>\n",
       "      <td>True</td>\n",
       "    </tr>\n",
       "    <tr>\n",
       "      <th>2</th>\n",
       "      <td>666033412701032449</td>\n",
       "      <td>https://pbs.twimg.com/media/CT4521TWwAEvMyu.jpg</td>\n",
       "      <td>1</td>\n",
       "      <td>German shepherd</td>\n",
       "      <td>0.596461</td>\n",
       "      <td>True</td>\n",
       "      <td>Malinois</td>\n",
       "      <td>0.138584</td>\n",
       "      <td>True</td>\n",
       "      <td>Bloodhound</td>\n",
       "      <td>0.116197</td>\n",
       "      <td>True</td>\n",
       "    </tr>\n",
       "    <tr>\n",
       "      <th>3</th>\n",
       "      <td>666044226329800704</td>\n",
       "      <td>https://pbs.twimg.com/media/CT5Dr8HUEAA-lEu.jpg</td>\n",
       "      <td>1</td>\n",
       "      <td>Rhodesian ridgeback</td>\n",
       "      <td>0.408143</td>\n",
       "      <td>True</td>\n",
       "      <td>Redbone</td>\n",
       "      <td>0.360687</td>\n",
       "      <td>True</td>\n",
       "      <td>Miniature pinscher</td>\n",
       "      <td>0.222752</td>\n",
       "      <td>True</td>\n",
       "    </tr>\n",
       "    <tr>\n",
       "      <th>4</th>\n",
       "      <td>666049248165822465</td>\n",
       "      <td>https://pbs.twimg.com/media/CT5IQmsXIAAKY4A.jpg</td>\n",
       "      <td>1</td>\n",
       "      <td>Miniature pinscher</td>\n",
       "      <td>0.560311</td>\n",
       "      <td>True</td>\n",
       "      <td>Rottweiler</td>\n",
       "      <td>0.243682</td>\n",
       "      <td>True</td>\n",
       "      <td>Doberman</td>\n",
       "      <td>0.154629</td>\n",
       "      <td>True</td>\n",
       "    </tr>\n",
       "  </tbody>\n",
       "</table>\n",
       "</div>"
      ],
      "text/plain": [
       "             tweet_id                                          jpg_url  \\\n",
       "0  666020888022790149  https://pbs.twimg.com/media/CT4udn0WwAA0aMy.jpg   \n",
       "1  666029285002620928  https://pbs.twimg.com/media/CT42GRgUYAA5iDo.jpg   \n",
       "2  666033412701032449  https://pbs.twimg.com/media/CT4521TWwAEvMyu.jpg   \n",
       "3  666044226329800704  https://pbs.twimg.com/media/CT5Dr8HUEAA-lEu.jpg   \n",
       "4  666049248165822465  https://pbs.twimg.com/media/CT5IQmsXIAAKY4A.jpg   \n",
       "\n",
       "   img_num             prediction1   p1_conf  p1_dog         prediction2  \\\n",
       "0        1  Welsh springer spaniel  0.465074    True              Collie   \n",
       "1        1                 Redbone  0.506826    True  Miniature pinscher   \n",
       "2        1         German shepherd  0.596461    True            Malinois   \n",
       "3        1     Rhodesian ridgeback  0.408143    True             Redbone   \n",
       "4        1      Miniature pinscher  0.560311    True          Rottweiler   \n",
       "\n",
       "    p2_conf  p2_dog          prediction3   p3_conf  p3_dog  \n",
       "0  0.156665    True    Shetland sheepdog  0.061428    True  \n",
       "1  0.074192    True  Rhodesian ridgeback  0.072010    True  \n",
       "2  0.138584    True           Bloodhound  0.116197    True  \n",
       "3  0.360687    True   Miniature pinscher  0.222752    True  \n",
       "4  0.243682    True             Doberman  0.154629    True  "
      ]
     },
     "execution_count": 37,
     "metadata": {},
     "output_type": "execute_result"
    }
   ],
   "source": [
    "df_image_clean.head()"
   ]
  },
  {
   "cell_type": "markdown",
   "metadata": {},
   "source": [
    "## Part 3. Query Twitter Data"
   ]
  },
  {
   "cell_type": "markdown",
   "metadata": {},
   "source": [
    "### Gathering"
   ]
  },
  {
   "cell_type": "code",
   "execution_count": 38,
   "metadata": {
    "scrolled": true
   },
   "outputs": [],
   "source": [
    "# Download twitter data using tweet ID \n",
    "\n",
    "auth = tweepy.OAuthHandler('nGw2t9SzYTrhlDXrcbwak2Lbp', '59Skd400ChIqR9WITrlgM9J3XeXE1iBA8YlceSSIqzlvGoSI2j')\n",
    "auth.set_access_token('1000428586371764224-bq8evKmtvkopZduO0vC50xRvPTNpMq', 'zHNdnCfepxNx0zgqR3Bfa3QA1VeAB0GawpXEy4OKMwmEa')\n",
    "api = tweepy.API(auth)"
   ]
  },
  {
   "cell_type": "code",
   "execution_count": 39,
   "metadata": {},
   "outputs": [],
   "source": [
    "# Tweet ID's are given in the twitter-archive-enhanced.csv\n",
    "# Tweet ID's in cleaned data will be used \n",
    "\n",
    "tweetids = df_enhanced_clean.tweet_id\n",
    "n = 0\n",
    "\n",
    "for tweetid in tweetids:\n",
    "    try:     \n",
    "        print(n)\n",
    "        tweet = api.get_status(tweetid, tweet_mode='extended', wait_on_rate_limit=True, wait_on_rate_limit_notify=True)\n",
    "        with open('tweet-json.txt', 'a+') as outfile:\n",
    "            json.dump(tweet._json, outfile)\n",
    "            outfile.write(\"\\n\")\n",
    "        n = n + 1\n",
    "    except Exception as e: #when error \n",
    "#         print(e)\n",
    "        with open('tweet-json.txt', 'a+') as outfile:\n",
    "            outfile.write(\"Tweepy could not get data!\\n\")\n",
    "        n = n + 1\n",
    "        pass #skip error"
   ]
  },
  {
   "cell_type": "code",
   "execution_count": 40,
   "metadata": {},
   "outputs": [],
   "source": [
    "# Load downloded json file\n",
    "\n",
    "with open('tweet-json.txt') as json_file:\n",
    "    twtcontent = json_file.readlines()"
   ]
  },
  {
   "cell_type": "markdown",
   "metadata": {
    "scrolled": true
   },
   "source": [
    "We are interested in retweet count and favorite count of each tweet. "
   ]
  },
  {
   "cell_type": "code",
   "execution_count": 41,
   "metadata": {},
   "outputs": [
    {
     "name": "stdout",
     "output_type": "stream",
     "text": [
      "Expecting value: line 1 column 1 (char 0)\n",
      "Expecting value: line 1 column 1 (char 0)\n",
      "Expecting value: line 1 column 1 (char 0)\n",
      "Expecting value: line 1 column 1 (char 0)\n",
      "Expecting value: line 1 column 1 (char 0)\n",
      "Expecting value: line 1 column 1 (char 0)\n",
      "Expecting value: line 1 column 1 (char 0)\n"
     ]
    }
   ],
   "source": [
    "# Read one line as json (type: dict)\n",
    "loadedtwt = json.loads(twtcontent[0])\n",
    "\n",
    "# And get RT and Favorite counts \n",
    "rt = json.loads(twtcontent[0])['retweet_count']\n",
    "fav = json.loads(twtcontent[0])['favorite_count']\n",
    "twtid = json.loads(twtcontent[0])['id']\n",
    "\n",
    "# Get rest of data\n",
    "for n in np.arange(len(twtcontent)-1)+1:\n",
    "    try: \n",
    "        loadedtwt = json.loads(twtcontent[n])\n",
    "        rt = np.append(rt, loadedtwt['retweet_count'])\n",
    "        fav = np.append(fav, loadedtwt['favorite_count'])\n",
    "        twtid = np.append(twtid, loadedtwt['id'])\n",
    "    except Exception as e: #when error \n",
    "        print(e)\n",
    "        rt = np.append(rt, 0)\n",
    "        fav = np.append(fav, 0)\n",
    "        twtid = np.append(twtid, tweetids[n])\n",
    "        pass   \n",
    "    "
   ]
  },
  {
   "cell_type": "code",
   "execution_count": 42,
   "metadata": {},
   "outputs": [],
   "source": [
    "# Create a table\n",
    "df_rt_fav = pd.DataFrame.from_records(twtid.reshape(-1,1))\n",
    "df_rt_fav.rename(columns={0:'tweet_id'}, inplace=True)\n",
    "df_rt_fav['rt_count'] = pd.DataFrame.from_records(rt.reshape(-1,1))\n",
    "df_rt_fav['favorite_count'] = pd.DataFrame.from_records(fav.reshape(-1,1))"
   ]
  },
  {
   "cell_type": "code",
   "execution_count": 43,
   "metadata": {},
   "outputs": [
    {
     "data": {
      "text/html": [
       "<div>\n",
       "<style scoped>\n",
       "    .dataframe tbody tr th:only-of-type {\n",
       "        vertical-align: middle;\n",
       "    }\n",
       "\n",
       "    .dataframe tbody tr th {\n",
       "        vertical-align: top;\n",
       "    }\n",
       "\n",
       "    .dataframe thead th {\n",
       "        text-align: right;\n",
       "    }\n",
       "</style>\n",
       "<table border=\"1\" class=\"dataframe\">\n",
       "  <thead>\n",
       "    <tr style=\"text-align: right;\">\n",
       "      <th></th>\n",
       "      <th>tweet_id</th>\n",
       "      <th>rt_count</th>\n",
       "      <th>favorite_count</th>\n",
       "    </tr>\n",
       "  </thead>\n",
       "  <tbody>\n",
       "    <tr>\n",
       "      <th>0</th>\n",
       "      <td>892420643555336193</td>\n",
       "      <td>7979</td>\n",
       "      <td>37247</td>\n",
       "    </tr>\n",
       "    <tr>\n",
       "      <th>1</th>\n",
       "      <td>892177421306343426</td>\n",
       "      <td>5925</td>\n",
       "      <td>32029</td>\n",
       "    </tr>\n",
       "    <tr>\n",
       "      <th>2</th>\n",
       "      <td>891815181378084864</td>\n",
       "      <td>3913</td>\n",
       "      <td>24129</td>\n",
       "    </tr>\n",
       "    <tr>\n",
       "      <th>3</th>\n",
       "      <td>891689557279858688</td>\n",
       "      <td>8132</td>\n",
       "      <td>40569</td>\n",
       "    </tr>\n",
       "    <tr>\n",
       "      <th>4</th>\n",
       "      <td>891327558926688256</td>\n",
       "      <td>8812</td>\n",
       "      <td>38804</td>\n",
       "    </tr>\n",
       "  </tbody>\n",
       "</table>\n",
       "</div>"
      ],
      "text/plain": [
       "             tweet_id  rt_count  favorite_count\n",
       "0  892420643555336193      7979           37247\n",
       "1  892177421306343426      5925           32029\n",
       "2  891815181378084864      3913           24129\n",
       "3  891689557279858688      8132           40569\n",
       "4  891327558926688256      8812           38804"
      ]
     },
     "execution_count": 43,
     "metadata": {},
     "output_type": "execute_result"
    }
   ],
   "source": [
    "df_rt_fav.head()"
   ]
  },
  {
   "cell_type": "code",
   "execution_count": 44,
   "metadata": {},
   "outputs": [
    {
     "name": "stdout",
     "output_type": "stream",
     "text": [
      "<class 'pandas.core.frame.DataFrame'>\n",
      "RangeIndex: 2175 entries, 0 to 2174\n",
      "Data columns (total 3 columns):\n",
      "tweet_id          2175 non-null object\n",
      "rt_count          2175 non-null int64\n",
      "favorite_count    2175 non-null int64\n",
      "dtypes: int64(2), object(1)\n",
      "memory usage: 51.1+ KB\n"
     ]
    }
   ],
   "source": [
    "df_rt_fav.info()"
   ]
  },
  {
   "cell_type": "markdown",
   "metadata": {},
   "source": [
    "No assessing and cleaning is needed. \n",
    "If no data is collected from Tweepy, counts of RT or Favorite will show 0. \n",
    "\n",
    "However, since the data in the table(`df_rt_fav`) contains basic tweet information, will merge the table to `df_enhanced_clean`. "
   ]
  },
  {
   "cell_type": "code",
   "execution_count": 45,
   "metadata": {},
   "outputs": [],
   "source": [
    "# Merge df_rt_fav to df_enhance_clean \n",
    "df_enhanced_clean = df_enhanced_clean.join(df_rt_fav.set_index('tweet_id'), on='tweet_id')"
   ]
  },
  {
   "cell_type": "code",
   "execution_count": 46,
   "metadata": {},
   "outputs": [
    {
     "name": "stdout",
     "output_type": "stream",
     "text": [
      "<class 'pandas.core.frame.DataFrame'>\n",
      "RangeIndex: 2175 entries, 0 to 2174\n",
      "Data columns (total 17 columns):\n",
      "tweet_id                      2175 non-null object\n",
      "in_reply_to_status_id         2175 non-null object\n",
      "in_reply_to_user_id           2175 non-null object\n",
      "timestamp                     2175 non-null object\n",
      "source                        2175 non-null object\n",
      "retweeted_status_id           2175 non-null object\n",
      "retweeted_status_user_id      2175 non-null object\n",
      "retweeted_status_timestamp    0 non-null object\n",
      "expanded_urls                 2175 non-null object\n",
      "rating_numerator              2175 non-null int64\n",
      "rating_denominator            2175 non-null int64\n",
      "name                          2175 non-null object\n",
      "stage                         2175 non-null object\n",
      "tweet_text                    2175 non-null object\n",
      "tweet_image_url               2175 non-null object\n",
      "rt_count                      2175 non-null int64\n",
      "favorite_count                2175 non-null int64\n",
      "dtypes: int64(4), object(13)\n",
      "memory usage: 288.9+ KB\n"
     ]
    }
   ],
   "source": [
    "df_enhanced_clean.info()"
   ]
  },
  {
   "cell_type": "markdown",
   "metadata": {},
   "source": [
    "There are few rows, which doesn't have retweet and favorite counts because tweets are no longer available. This means image URLs and other data are missing as well. Those rows are removed. \n",
    "\n",
    "Finally, drop the column `retweeted_status_timestamp`, since the column doesn't contain any meaningful data. "
   ]
  },
  {
   "cell_type": "code",
   "execution_count": 47,
   "metadata": {},
   "outputs": [],
   "source": [
    "# Drop if retweet count and favorite counts are 0. \n",
    "# If rt is 0, favorite is also 0, based on how it was coded during gathering. \n",
    "df_enhanced_clean = df_enhanced_clean.loc[df_enhanced_clean['rt_count'] != 0] "
   ]
  },
  {
   "cell_type": "code",
   "execution_count": 48,
   "metadata": {},
   "outputs": [],
   "source": [
    "df_enhanced_clean = df_enhanced_clean.drop(['retweeted_status_timestamp'], axis=1)"
   ]
  },
  {
   "cell_type": "code",
   "execution_count": 49,
   "metadata": {},
   "outputs": [
    {
     "name": "stdout",
     "output_type": "stream",
     "text": [
      "<class 'pandas.core.frame.DataFrame'>\n",
      "RangeIndex: 2168 entries, 0 to 2167\n",
      "Data columns (total 16 columns):\n",
      "tweet_id                    2168 non-null object\n",
      "in_reply_to_status_id       2168 non-null object\n",
      "in_reply_to_user_id         2168 non-null object\n",
      "timestamp                   2168 non-null object\n",
      "source                      2168 non-null object\n",
      "retweeted_status_id         2168 non-null object\n",
      "retweeted_status_user_id    2168 non-null object\n",
      "expanded_urls               2168 non-null object\n",
      "rating_numerator            2168 non-null int64\n",
      "rating_denominator          2168 non-null int64\n",
      "name                        2168 non-null object\n",
      "stage                       2168 non-null object\n",
      "tweet_text                  2168 non-null object\n",
      "tweet_image_url             2168 non-null object\n",
      "rt_count                    2168 non-null int64\n",
      "favorite_count              2168 non-null int64\n",
      "dtypes: int64(4), object(12)\n",
      "memory usage: 271.1+ KB\n"
     ]
    }
   ],
   "source": [
    "# Reset index number \n",
    "df_enhanced_clean = df_enhanced_clean.reset_index(drop=True)\n",
    "\n",
    "df_enhanced_clean.info()"
   ]
  },
  {
   "cell_type": "code",
   "execution_count": 50,
   "metadata": {},
   "outputs": [],
   "source": [
    "# Save cleaned tables \n",
    "\n",
    "df_enhanced_clean.to_csv('twitter_archive_master_tweetdata.csv',index=False)\n",
    "df_enhanced_clean.to_csv('twitter_archive_master_imageprediction.csv',index=False)"
   ]
  },
  {
   "cell_type": "markdown",
   "metadata": {},
   "source": [
    "Summary of data wrangling can be found in `wrangle_report.pdf`. "
   ]
  },
  {
   "cell_type": "markdown",
   "metadata": {},
   "source": [
    "## Part 4. Analysis "
   ]
  },
  {
   "cell_type": "markdown",
   "metadata": {},
   "source": [
    "Following three questions are addressed: \n",
    "\n",
    "- Have retweet counts and favorite counts changed over time?\n",
    "- What is the average rating of per dog \"stage\"? \n",
    "- Do all tweets have image(s)? Is there any relationship in rt count and image? What about with favorite counts? "
   ]
  },
  {
   "cell_type": "code",
   "execution_count": 51,
   "metadata": {},
   "outputs": [],
   "source": [
    "# Make copy of data frame \n",
    "df = df_enhanced_clean.copy()"
   ]
  },
  {
   "cell_type": "code",
   "execution_count": 52,
   "metadata": {},
   "outputs": [],
   "source": [
    "# import extra libraries for analysis \n",
    "import matplotlib.pyplot as plt\n",
    "from scipy import stats"
   ]
  },
  {
   "cell_type": "code",
   "execution_count": 53,
   "metadata": {},
   "outputs": [],
   "source": [
    "# Drop columns that won't be used in analysis for easier handling of table \n",
    "# Following columns will be kept:\n",
    "# tweet_id: identifier \n",
    "# timestamp, rating_numerator, rating_denominator, tweet_image_url, rt_count, favorite_count: for anaysis\n",
    "\n",
    "df = df.drop(['in_reply_to_status_id', 'in_reply_to_user_id',\n",
    "             'retweeted_status_id', 'retweeted_status_user_id',\n",
    "              'expanded_urls', 'name', 'source', 'tweet_text'], axis=1)"
   ]
  },
  {
   "cell_type": "code",
   "execution_count": 54,
   "metadata": {},
   "outputs": [
    {
     "data": {
      "text/html": [
       "<div>\n",
       "<style scoped>\n",
       "    .dataframe tbody tr th:only-of-type {\n",
       "        vertical-align: middle;\n",
       "    }\n",
       "\n",
       "    .dataframe tbody tr th {\n",
       "        vertical-align: top;\n",
       "    }\n",
       "\n",
       "    .dataframe thead th {\n",
       "        text-align: right;\n",
       "    }\n",
       "</style>\n",
       "<table border=\"1\" class=\"dataframe\">\n",
       "  <thead>\n",
       "    <tr style=\"text-align: right;\">\n",
       "      <th></th>\n",
       "      <th>tweet_id</th>\n",
       "      <th>timestamp</th>\n",
       "      <th>rating_numerator</th>\n",
       "      <th>rating_denominator</th>\n",
       "      <th>stage</th>\n",
       "      <th>tweet_image_url</th>\n",
       "      <th>rt_count</th>\n",
       "      <th>favorite_count</th>\n",
       "    </tr>\n",
       "  </thead>\n",
       "  <tbody>\n",
       "    <tr>\n",
       "      <th>0</th>\n",
       "      <td>892420643555336193</td>\n",
       "      <td>2017-08-01 16:23:56 +0000</td>\n",
       "      <td>13</td>\n",
       "      <td>10</td>\n",
       "      <td>None</td>\n",
       "      <td>https://t.co/MgUWQ76dJU</td>\n",
       "      <td>7979</td>\n",
       "      <td>37247</td>\n",
       "    </tr>\n",
       "    <tr>\n",
       "      <th>1</th>\n",
       "      <td>892177421306343426</td>\n",
       "      <td>2017-08-01 00:17:27 +0000</td>\n",
       "      <td>13</td>\n",
       "      <td>10</td>\n",
       "      <td>None</td>\n",
       "      <td>https://t.co/0Xxu71qeIV</td>\n",
       "      <td>5925</td>\n",
       "      <td>32029</td>\n",
       "    </tr>\n",
       "    <tr>\n",
       "      <th>2</th>\n",
       "      <td>891815181378084864</td>\n",
       "      <td>2017-07-31 00:18:03 +0000</td>\n",
       "      <td>12</td>\n",
       "      <td>10</td>\n",
       "      <td>None</td>\n",
       "      <td>https://t.co/wUnZnhtVJB</td>\n",
       "      <td>3913</td>\n",
       "      <td>24129</td>\n",
       "    </tr>\n",
       "    <tr>\n",
       "      <th>3</th>\n",
       "      <td>891689557279858688</td>\n",
       "      <td>2017-07-30 15:58:51 +0000</td>\n",
       "      <td>13</td>\n",
       "      <td>10</td>\n",
       "      <td>None</td>\n",
       "      <td>https://t.co/tD36da7qLQ</td>\n",
       "      <td>8132</td>\n",
       "      <td>40569</td>\n",
       "    </tr>\n",
       "    <tr>\n",
       "      <th>4</th>\n",
       "      <td>891327558926688256</td>\n",
       "      <td>2017-07-29 16:00:24 +0000</td>\n",
       "      <td>12</td>\n",
       "      <td>10</td>\n",
       "      <td>None</td>\n",
       "      <td>https://t.co/AtUZn91f7f</td>\n",
       "      <td>8812</td>\n",
       "      <td>38804</td>\n",
       "    </tr>\n",
       "  </tbody>\n",
       "</table>\n",
       "</div>"
      ],
      "text/plain": [
       "             tweet_id                  timestamp  rating_numerator  \\\n",
       "0  892420643555336193  2017-08-01 16:23:56 +0000                13   \n",
       "1  892177421306343426  2017-08-01 00:17:27 +0000                13   \n",
       "2  891815181378084864  2017-07-31 00:18:03 +0000                12   \n",
       "3  891689557279858688  2017-07-30 15:58:51 +0000                13   \n",
       "4  891327558926688256  2017-07-29 16:00:24 +0000                12   \n",
       "\n",
       "   rating_denominator stage          tweet_image_url  rt_count  favorite_count  \n",
       "0                  10  None  https://t.co/MgUWQ76dJU      7979           37247  \n",
       "1                  10  None  https://t.co/0Xxu71qeIV      5925           32029  \n",
       "2                  10  None  https://t.co/wUnZnhtVJB      3913           24129  \n",
       "3                  10  None  https://t.co/tD36da7qLQ      8132           40569  \n",
       "4                  10  None  https://t.co/AtUZn91f7f      8812           38804  "
      ]
     },
     "execution_count": 54,
     "metadata": {},
     "output_type": "execute_result"
    }
   ],
   "source": [
    "df.head()"
   ]
  },
  {
   "cell_type": "markdown",
   "metadata": {},
   "source": [
    "### Q1. Have retweet counts and favorite counts changed over time?"
   ]
  },
  {
   "cell_type": "code",
   "execution_count": 55,
   "metadata": {},
   "outputs": [],
   "source": [
    "# Clean timestamp data \n",
    "df['date'] = df['timestamp'].str[:len('yyyy-mm-dd')]\n",
    "df = df.drop(['timestamp'], axis=1)"
   ]
  },
  {
   "cell_type": "code",
   "execution_count": 56,
   "metadata": {},
   "outputs": [],
   "source": [
    "# update datatype\n",
    "df['date'] = pd.to_datetime(df['date'])"
   ]
  },
  {
   "cell_type": "code",
   "execution_count": 59,
   "metadata": {},
   "outputs": [
    {
     "data": {
      "image/png": "[encoded data removed]",
      "text/plain": [
       "<matplotlib.figure.Figure at 0x7f19cb4abc50>"
      ]
     },
     "metadata": {
      "needs_background": "light"
     },
     "output_type": "display_data"
    },
    {
     "data": {
      "image/png": "[encoded data removed]",
      "text/plain": [
       "<matplotlib.figure.Figure at 0x7f19c9b73080>"
      ]
     },
     "metadata": {
      "needs_background": "light"
     },
     "output_type": "display_data"
    }
   ],
   "source": [
    "# Plot \n",
    "plt.figure(figsize=(8,4))\n",
    "plt.scatter(df['date'].tolist(), df['rt_count'], alpha=0.5)\n",
    "plt.scatter(df['date'].tolist(), df['favorite_count'], alpha=0.5)\n",
    "plt.legend(['RT', 'Favorite'])\n",
    "plt.xlabel('Dates') \n",
    "plt.ylabel('Counts')\n",
    "plt.title('Number of Retweets and Favorites per Tweet Date')\n",
    "plt.show()\n",
    "\n",
    "# Same plot as above but limit y-axis to see the trend without outliers \n",
    "plt.figure(figsize=(8,4))\n",
    "plt.scatter(df['date'].tolist(), df['rt_count'], alpha=0.5)\n",
    "plt.scatter(df['date'].tolist(), df['favorite_count'], alpha=0.5)\n",
    "plt.ylim(top=30000,  bottom = 0)\n",
    "plt.legend(['RT', 'Favorite'])\n",
    "plt.xlabel('Dates') \n",
    "plt.ylabel('Counts')\n",
    "plt.title('Number of Retweets and Favorites per Tweet Date (Y-limit adjusted)')\n",
    "plt.show()\n"
   ]
  },
  {
   "cell_type": "markdown",
   "metadata": {},
   "source": [
    "### Q2: What is average score per stage? "
   ]
  },
  {
   "cell_type": "code",
   "execution_count": 60,
   "metadata": {},
   "outputs": [
    {
     "data": {
      "text/html": [
       "<div>\n",
       "<style scoped>\n",
       "    .dataframe tbody tr th:only-of-type {\n",
       "        vertical-align: middle;\n",
       "    }\n",
       "\n",
       "    .dataframe tbody tr th {\n",
       "        vertical-align: top;\n",
       "    }\n",
       "\n",
       "    .dataframe thead th {\n",
       "        text-align: right;\n",
       "    }\n",
       "</style>\n",
       "<table border=\"1\" class=\"dataframe\">\n",
       "  <thead>\n",
       "    <tr style=\"text-align: right;\">\n",
       "      <th></th>\n",
       "      <th>tweet_id</th>\n",
       "      <th>rating_numerator</th>\n",
       "      <th>rating_denominator</th>\n",
       "      <th>stage</th>\n",
       "      <th>tweet_image_url</th>\n",
       "      <th>rt_count</th>\n",
       "      <th>favorite_count</th>\n",
       "      <th>date</th>\n",
       "    </tr>\n",
       "  </thead>\n",
       "  <tbody>\n",
       "    <tr>\n",
       "      <th>260</th>\n",
       "      <td>835246439529840640</td>\n",
       "      <td>960</td>\n",
       "      <td>0</td>\n",
       "      <td>None</td>\n",
       "      <td>No image URL</td>\n",
       "      <td>73</td>\n",
       "      <td>2163</td>\n",
       "      <td>2017-02-24</td>\n",
       "    </tr>\n",
       "    <tr>\n",
       "      <th>284</th>\n",
       "      <td>832088576586297345</td>\n",
       "      <td>11</td>\n",
       "      <td>15</td>\n",
       "      <td>None</td>\n",
       "      <td>No image URL</td>\n",
       "      <td>2</td>\n",
       "      <td>67</td>\n",
       "      <td>2017-02-16</td>\n",
       "    </tr>\n",
       "    <tr>\n",
       "      <th>359</th>\n",
       "      <td>820690176645140481</td>\n",
       "      <td>84</td>\n",
       "      <td>70</td>\n",
       "      <td>None</td>\n",
       "      <td>https://t.co/NIYC820tmd</td>\n",
       "      <td>3390</td>\n",
       "      <td>12705</td>\n",
       "      <td>2017-01-15</td>\n",
       "    </tr>\n",
       "    <tr>\n",
       "      <th>425</th>\n",
       "      <td>810984652412424192</td>\n",
       "      <td>24</td>\n",
       "      <td>7</td>\n",
       "      <td>None</td>\n",
       "      <td>https://t.co/98tB8y7y7t, https://t.co/LouL5vdvxx</td>\n",
       "      <td>1526</td>\n",
       "      <td>5591</td>\n",
       "      <td>2016-12-19</td>\n",
       "    </tr>\n",
       "    <tr>\n",
       "      <th>728</th>\n",
       "      <td>758467244762497024</td>\n",
       "      <td>165</td>\n",
       "      <td>150</td>\n",
       "      <td>None</td>\n",
       "      <td>https://t.co/HmwrdfEfUE</td>\n",
       "      <td>2312</td>\n",
       "      <td>4967</td>\n",
       "      <td>2016-07-28</td>\n",
       "    </tr>\n",
       "    <tr>\n",
       "      <th>884</th>\n",
       "      <td>740373189193256964</td>\n",
       "      <td>9</td>\n",
       "      <td>11</td>\n",
       "      <td>None</td>\n",
       "      <td>https://t.co/XAVDNDaVgQ</td>\n",
       "      <td>13681</td>\n",
       "      <td>35776</td>\n",
       "      <td>2016-06-08</td>\n",
       "    </tr>\n",
       "    <tr>\n",
       "      <th>936</th>\n",
       "      <td>731156023742988288</td>\n",
       "      <td>204</td>\n",
       "      <td>170</td>\n",
       "      <td>None</td>\n",
       "      <td>https://t.co/yGQI3He3xv</td>\n",
       "      <td>1303</td>\n",
       "      <td>3920</td>\n",
       "      <td>2016-05-13</td>\n",
       "    </tr>\n",
       "    <tr>\n",
       "      <th>981</th>\n",
       "      <td>722974582966214656</td>\n",
       "      <td>4</td>\n",
       "      <td>20</td>\n",
       "      <td>None</td>\n",
       "      <td>https://t.co/eV1diwds8a</td>\n",
       "      <td>1596</td>\n",
       "      <td>4195</td>\n",
       "      <td>2016-04-21</td>\n",
       "    </tr>\n",
       "    <tr>\n",
       "      <th>1018</th>\n",
       "      <td>716439118184652801</td>\n",
       "      <td>50</td>\n",
       "      <td>50</td>\n",
       "      <td>None</td>\n",
       "      <td>https://t.co/Kky1DPG4iq</td>\n",
       "      <td>215</td>\n",
       "      <td>2422</td>\n",
       "      <td>2016-04-03</td>\n",
       "    </tr>\n",
       "    <tr>\n",
       "      <th>1044</th>\n",
       "      <td>713900603437621249</td>\n",
       "      <td>99</td>\n",
       "      <td>90</td>\n",
       "      <td>None</td>\n",
       "      <td>https://t.co/mpvaVxKmc1</td>\n",
       "      <td>755</td>\n",
       "      <td>2905</td>\n",
       "      <td>2016-03-27</td>\n",
       "    </tr>\n",
       "    <tr>\n",
       "      <th>1069</th>\n",
       "      <td>710658690886586372</td>\n",
       "      <td>80</td>\n",
       "      <td>80</td>\n",
       "      <td>None</td>\n",
       "      <td>https://t.co/0eb7R1Om12</td>\n",
       "      <td>573</td>\n",
       "      <td>2368</td>\n",
       "      <td>2016-03-18</td>\n",
       "    </tr>\n",
       "    <tr>\n",
       "      <th>1089</th>\n",
       "      <td>709198395643068416</td>\n",
       "      <td>45</td>\n",
       "      <td>50</td>\n",
       "      <td>None</td>\n",
       "      <td>https://t.co/sedre1ivTK</td>\n",
       "      <td>660</td>\n",
       "      <td>2482</td>\n",
       "      <td>2016-03-14</td>\n",
       "    </tr>\n",
       "    <tr>\n",
       "      <th>1166</th>\n",
       "      <td>704054845121142784</td>\n",
       "      <td>60</td>\n",
       "      <td>50</td>\n",
       "      <td>None</td>\n",
       "      <td>https://t.co/9dpcw6MdWa</td>\n",
       "      <td>934</td>\n",
       "      <td>3004</td>\n",
       "      <td>2016-02-28</td>\n",
       "    </tr>\n",
       "    <tr>\n",
       "      <th>1248</th>\n",
       "      <td>697463031882764288</td>\n",
       "      <td>44</td>\n",
       "      <td>40</td>\n",
       "      <td>None</td>\n",
       "      <td>https://t.co/HppvrYuamZ</td>\n",
       "      <td>1425</td>\n",
       "      <td>3505</td>\n",
       "      <td>2016-02-10</td>\n",
       "    </tr>\n",
       "    <tr>\n",
       "      <th>1413</th>\n",
       "      <td>686035780142297088</td>\n",
       "      <td>4</td>\n",
       "      <td>20</td>\n",
       "      <td>None</td>\n",
       "      <td>No image URL</td>\n",
       "      <td>122</td>\n",
       "      <td>1186</td>\n",
       "      <td>2016-01-10</td>\n",
       "    </tr>\n",
       "    <tr>\n",
       "      <th>1449</th>\n",
       "      <td>684225744407494656</td>\n",
       "      <td>143</td>\n",
       "      <td>130</td>\n",
       "      <td>None</td>\n",
       "      <td>https://t.co/kRK51Y5ac3</td>\n",
       "      <td>214</td>\n",
       "      <td>1266</td>\n",
       "      <td>2016-01-05</td>\n",
       "    </tr>\n",
       "    <tr>\n",
       "      <th>1450</th>\n",
       "      <td>684222868335505415</td>\n",
       "      <td>121</td>\n",
       "      <td>110</td>\n",
       "      <td>None</td>\n",
       "      <td>https://t.co/1zfnTJLt55</td>\n",
       "      <td>1409</td>\n",
       "      <td>3929</td>\n",
       "      <td>2016-01-05</td>\n",
       "    </tr>\n",
       "    <tr>\n",
       "      <th>1477</th>\n",
       "      <td>682962037429899265</td>\n",
       "      <td>7</td>\n",
       "      <td>11</td>\n",
       "      <td>None</td>\n",
       "      <td>https://t.co/7EsP8LmSp5</td>\n",
       "      <td>17146</td>\n",
       "      <td>37891</td>\n",
       "      <td>2016-01-01</td>\n",
       "    </tr>\n",
       "    <tr>\n",
       "      <th>1478</th>\n",
       "      <td>682808988178739200</td>\n",
       "      <td>20</td>\n",
       "      <td>16</td>\n",
       "      <td>None</td>\n",
       "      <td>No image URL</td>\n",
       "      <td>182</td>\n",
       "      <td>1823</td>\n",
       "      <td>2016-01-01</td>\n",
       "    </tr>\n",
       "    <tr>\n",
       "      <th>1593</th>\n",
       "      <td>677716515794329600</td>\n",
       "      <td>144</td>\n",
       "      <td>120</td>\n",
       "      <td>None</td>\n",
       "      <td>https://t.co/ZanVtAtvIq</td>\n",
       "      <td>990</td>\n",
       "      <td>3116</td>\n",
       "      <td>2015-12-18</td>\n",
       "    </tr>\n",
       "    <tr>\n",
       "      <th>1657</th>\n",
       "      <td>675853064436391936</td>\n",
       "      <td>88</td>\n",
       "      <td>80</td>\n",
       "      <td>None</td>\n",
       "      <td>https://t.co/y93p6FLvVw</td>\n",
       "      <td>1312</td>\n",
       "      <td>2707</td>\n",
       "      <td>2015-12-13</td>\n",
       "    </tr>\n",
       "    <tr>\n",
       "      <th>2147</th>\n",
       "      <td>666287406224695296</td>\n",
       "      <td>1</td>\n",
       "      <td>2</td>\n",
       "      <td>None</td>\n",
       "      <td>https://t.co/d9NcXFKwLv</td>\n",
       "      <td>63</td>\n",
       "      <td>141</td>\n",
       "      <td>2015-11-16</td>\n",
       "    </tr>\n",
       "  </tbody>\n",
       "</table>\n",
       "</div>"
      ],
      "text/plain": [
       "                tweet_id  rating_numerator  rating_denominator stage  \\\n",
       "260   835246439529840640               960                   0  None   \n",
       "284   832088576586297345                11                  15  None   \n",
       "359   820690176645140481                84                  70  None   \n",
       "425   810984652412424192                24                   7  None   \n",
       "728   758467244762497024               165                 150  None   \n",
       "884   740373189193256964                 9                  11  None   \n",
       "936   731156023742988288               204                 170  None   \n",
       "981   722974582966214656                 4                  20  None   \n",
       "1018  716439118184652801                50                  50  None   \n",
       "1044  713900603437621249                99                  90  None   \n",
       "1069  710658690886586372                80                  80  None   \n",
       "1089  709198395643068416                45                  50  None   \n",
       "1166  704054845121142784                60                  50  None   \n",
       "1248  697463031882764288                44                  40  None   \n",
       "1413  686035780142297088                 4                  20  None   \n",
       "1449  684225744407494656               143                 130  None   \n",
       "1450  684222868335505415               121                 110  None   \n",
       "1477  682962037429899265                 7                  11  None   \n",
       "1478  682808988178739200                20                  16  None   \n",
       "1593  677716515794329600               144                 120  None   \n",
       "1657  675853064436391936                88                  80  None   \n",
       "2147  666287406224695296                 1                   2  None   \n",
       "\n",
       "                                       tweet_image_url  rt_count  \\\n",
       "260                                       No image URL        73   \n",
       "284                                       No image URL         2   \n",
       "359                            https://t.co/NIYC820tmd      3390   \n",
       "425   https://t.co/98tB8y7y7t, https://t.co/LouL5vdvxx      1526   \n",
       "728                            https://t.co/HmwrdfEfUE      2312   \n",
       "884                            https://t.co/XAVDNDaVgQ     13681   \n",
       "936                            https://t.co/yGQI3He3xv      1303   \n",
       "981                            https://t.co/eV1diwds8a      1596   \n",
       "1018                           https://t.co/Kky1DPG4iq       215   \n",
       "1044                           https://t.co/mpvaVxKmc1       755   \n",
       "1069                           https://t.co/0eb7R1Om12       573   \n",
       "1089                           https://t.co/sedre1ivTK       660   \n",
       "1166                           https://t.co/9dpcw6MdWa       934   \n",
       "1248                           https://t.co/HppvrYuamZ      1425   \n",
       "1413                                      No image URL       122   \n",
       "1449                           https://t.co/kRK51Y5ac3       214   \n",
       "1450                           https://t.co/1zfnTJLt55      1409   \n",
       "1477                           https://t.co/7EsP8LmSp5     17146   \n",
       "1478                                      No image URL       182   \n",
       "1593                           https://t.co/ZanVtAtvIq       990   \n",
       "1657                           https://t.co/y93p6FLvVw      1312   \n",
       "2147                           https://t.co/d9NcXFKwLv        63   \n",
       "\n",
       "      favorite_count       date  \n",
       "260             2163 2017-02-24  \n",
       "284               67 2017-02-16  \n",
       "359            12705 2017-01-15  \n",
       "425             5591 2016-12-19  \n",
       "728             4967 2016-07-28  \n",
       "884            35776 2016-06-08  \n",
       "936             3920 2016-05-13  \n",
       "981             4195 2016-04-21  \n",
       "1018            2422 2016-04-03  \n",
       "1044            2905 2016-03-27  \n",
       "1069            2368 2016-03-18  \n",
       "1089            2482 2016-03-14  \n",
       "1166            3004 2016-02-28  \n",
       "1248            3505 2016-02-10  \n",
       "1413            1186 2016-01-10  \n",
       "1449            1266 2016-01-05  \n",
       "1450            3929 2016-01-05  \n",
       "1477           37891 2016-01-01  \n",
       "1478            1823 2016-01-01  \n",
       "1593            3116 2015-12-18  \n",
       "1657            2707 2015-12-13  \n",
       "2147             141 2015-11-16  "
      ]
     },
     "execution_count": 60,
     "metadata": {},
     "output_type": "execute_result"
    }
   ],
   "source": [
    "df.loc[df['rating_denominator'] != 10] \n",
    "\n",
    "# Most of denominators are 10. \n",
    "# If denominator is not 10, convert the rating so the new denominator can be 10. \n",
    "# Note that one denominator is 0, which will cause error in calculation.\n",
    "# Therefore we will say max rating is 999 out of 10. "
   ]
  },
  {
   "cell_type": "code",
   "execution_count": 61,
   "metadata": {},
   "outputs": [],
   "source": [
    "# Remove 0 from denominator first \n",
    "df.loc[df['rating_denominator'] == 0, 'rating_numerator'] = 999\n",
    "df.loc[df['rating_denominator'] == 0, 'rating_denominator'] = 10\n"
   ]
  },
  {
   "cell_type": "code",
   "execution_count": 62,
   "metadata": {},
   "outputs": [],
   "source": [
    "non10_numerator = df.loc[df['rating_denominator'] != 10, 'rating_numerator'] \n",
    "non10_denominator = df.loc[df['rating_denominator'] != 10, 'rating_denominator'] \n",
    "\n",
    "df.loc[df['rating_denominator'] != 10, 'rating_numerator'] = non10_numerator*(non10_denominator/10)\n",
    "df.loc[df['rating_denominator'] != 10, 'rating_denominator'] = 10"
   ]
  },
  {
   "cell_type": "code",
   "execution_count": 63,
   "metadata": {},
   "outputs": [
    {
     "data": {
      "text/plain": [
       "array(['None', 'doggo', 'doggo, floofer', 'doggo, pupper', 'doggo, puppo',\n",
       "       'floofer', 'pupper', 'puppo'], dtype=object)"
      ]
     },
     "execution_count": 63,
     "metadata": {},
     "output_type": "execute_result"
    }
   ],
   "source": [
    "dogstage, inds = np.unique(df.stage, return_index=True) \n",
    "dogstage"
   ]
  },
  {
   "cell_type": "code",
   "execution_count": 64,
   "metadata": {},
   "outputs": [],
   "source": [
    "# Sometimes two stages are on the same row: \n",
    "#'doggo, floofer', 'doggo, pupper', 'doggo, puppo'. \n",
    "# Make a new df with and separate them into two rows. \n",
    "# Rest of column data will be replicated \n",
    "\n",
    "df2 = df.loc[df['stage'] == 'doggo, floofer']  \n",
    "df2 = df2.append(df.loc[df['stage'] == 'doggo, pupper'] )\n",
    "df2 = df2.append(df.loc[df['stage'] == 'doggo, puppo'] )\n",
    "df2['stage'] = 'doggo'\n",
    "df2 = df2.append(df)\n",
    "df2 = df2.reset_index(drop=True)"
   ]
  },
  {
   "cell_type": "code",
   "execution_count": 65,
   "metadata": {},
   "outputs": [
    {
     "data": {
      "text/plain": [
       "array(['None', 'doggo', 'floofer', 'pupper', 'puppo'], dtype=object)"
      ]
     },
     "execution_count": 65,
     "metadata": {},
     "output_type": "execute_result"
    }
   ],
   "source": [
    "df2.loc[df2['stage'] == 'doggo, floofer', 'stage'] = df2.loc[df2['stage'] == 'doggo, floofer', 'stage'].str[len('doggo, '):]\n",
    "df2.loc[df2['stage'] == 'doggo, pupper', 'stage'] = df2.loc[df2['stage'] == 'doggo, pupper', 'stage'].str[len('doggo, '):]\n",
    "df2.loc[df2['stage'] == 'doggo, puppo', 'stage'] = df2.loc[df2['stage'] == 'doggo, puppo', 'stage'].str[len('doggo, '):]\n",
    "\n",
    "dogstage_df2, inds_df2 = np.unique(df2.stage, return_index=True) \n",
    "dogstage_df2"
   ]
  },
  {
   "cell_type": "code",
   "execution_count": 66,
   "metadata": {},
   "outputs": [
    {
     "name": "stdout",
     "output_type": "stream",
     "text": [
      "Average score of all dogs is  19.3833487085 .\n"
     ]
    }
   ],
   "source": [
    "#Total average score for all dogs \n",
    "# Important: Must use df, not df2 \n",
    "print('Average score of all dogs is ', np.mean(df['rating_numerator']), '.')\n"
   ]
  },
  {
   "cell_type": "code",
   "execution_count": 67,
   "metadata": {
    "scrolled": true
   },
   "outputs": [],
   "source": [
    "# Average score per stage. \n",
    "# Important : Must use df2 \n",
    "\n",
    "stagename = 'firstrow'\n",
    "stageave = 0\n",
    "stagecount = 0\n",
    "\n",
    "for stage in dogstage_df2:\n",
    "#     print('Total number of ', stage, ' is ',\n",
    "#           len(df.loc[df['stage'] == stage, 'rating_numerator']), '.\\n',\n",
    "#          'Average score of them is',\n",
    "#          np.mean(df.loc[df['stage'] == stage, 'rating_numerator']), '.')\n",
    "#     print(stagename)\n",
    "#     print(stageave)\n",
    "#     print(stagecount)\n",
    "    stagename = np.append(stagename, stage)\n",
    "    stageave = np.append(stageave, np.mean(df2.loc[df2['stage'] == stage, 'rating_numerator']))\n",
    "    stagecount = np.append(stagecount, len(df2.loc[df2['stage'] == stage, 'rating_numerator']))\n",
    "    \n",
    "# Create a table\n",
    "df_stage = pd.DataFrame.from_records(stagename.reshape(-1,1))\n",
    "df_stage.rename(columns={0:'stage'}, inplace=True)\n",
    "df_stage['mean_score'] = pd.DataFrame.from_records(stageave.reshape(-1,1))\n",
    "df_stage['counts'] = pd.DataFrame.from_records(stagecount.reshape(-1,1))\n",
    "df_stage = df_stage.drop([0], axis=0)\n",
    "df_stage = df_stage.reset_index(drop=True)"
   ]
  },
  {
   "cell_type": "code",
   "execution_count": 68,
   "metadata": {},
   "outputs": [
    {
     "data": {
      "text/html": [
       "<div>\n",
       "<style scoped>\n",
       "    .dataframe tbody tr th:only-of-type {\n",
       "        vertical-align: middle;\n",
       "    }\n",
       "\n",
       "    .dataframe tbody tr th {\n",
       "        vertical-align: top;\n",
       "    }\n",
       "\n",
       "    .dataframe thead th {\n",
       "        text-align: right;\n",
       "    }\n",
       "</style>\n",
       "<table border=\"1\" class=\"dataframe\">\n",
       "  <thead>\n",
       "    <tr style=\"text-align: right;\">\n",
       "      <th></th>\n",
       "      <th>stage</th>\n",
       "      <th>mean_score</th>\n",
       "      <th>counts</th>\n",
       "    </tr>\n",
       "  </thead>\n",
       "  <tbody>\n",
       "    <tr>\n",
       "      <th>0</th>\n",
       "      <td>None</td>\n",
       "      <td>20.928822</td>\n",
       "      <td>1825</td>\n",
       "    </tr>\n",
       "    <tr>\n",
       "      <th>1</th>\n",
       "      <td>doggo</td>\n",
       "      <td>11.755814</td>\n",
       "      <td>86</td>\n",
       "    </tr>\n",
       "    <tr>\n",
       "      <th>2</th>\n",
       "      <td>floofer</td>\n",
       "      <td>11.800000</td>\n",
       "      <td>10</td>\n",
       "    </tr>\n",
       "    <tr>\n",
       "      <th>3</th>\n",
       "      <td>pupper</td>\n",
       "      <td>10.820513</td>\n",
       "      <td>234</td>\n",
       "    </tr>\n",
       "    <tr>\n",
       "      <th>4</th>\n",
       "      <td>puppo</td>\n",
       "      <td>12.080000</td>\n",
       "      <td>25</td>\n",
       "    </tr>\n",
       "  </tbody>\n",
       "</table>\n",
       "</div>"
      ],
      "text/plain": [
       "     stage  mean_score  counts\n",
       "0     None   20.928822    1825\n",
       "1    doggo   11.755814      86\n",
       "2  floofer   11.800000      10\n",
       "3   pupper   10.820513     234\n",
       "4    puppo   12.080000      25"
      ]
     },
     "execution_count": 68,
     "metadata": {},
     "output_type": "execute_result"
    }
   ],
   "source": [
    "df_stage"
   ]
  },
  {
   "cell_type": "markdown",
   "metadata": {},
   "source": [
    "### Q3. Do images affect to number of retweets and/or favorite counts?"
   ]
  },
  {
   "cell_type": "code",
   "execution_count": 73,
   "metadata": {},
   "outputs": [
    {
     "name": "stdout",
     "output_type": "stream",
     "text": [
      "There are  2110  tweets with image(s).\n",
      "There are  58  tweets without image.\n"
     ]
    }
   ],
   "source": [
    "df_image = df.loc[df['tweet_image_url'] != 'No image URL', ['tweet_image_url', 'rt_count', 'favorite_count']]\n",
    "df_noimage = df.loc[df['tweet_image_url'] == 'No image URL', ['tweet_image_url', 'rt_count', 'favorite_count']]\n",
    "\n",
    "print('There are ', len(df_image), ' tweets with image(s).')\n",
    "print('There are ', len(df_noimage), ' tweets without image.')"
   ]
  },
  {
   "cell_type": "code",
   "execution_count": 70,
   "metadata": {},
   "outputs": [
    {
     "name": "stdout",
     "output_type": "stream",
     "text": [
      "Tweets with images have average of  2594.67772512 retweets, and its standard error is  99.0447174041 .\n",
      "Tweets with images have average of  8538.21706161 favorites, and its standard error is  270.301470749 .\n",
      "Tweets with no image have average of  225.431034483 retweets, and its standard error is  43.5511788542 .\n",
      "Tweets with no image have average of  1700.32758621 favorites, and its standard error is  41.3911519749 .\n"
     ]
    }
   ],
   "source": [
    "print('Tweets with images have average of ', np.mean(df_image['rt_count']),\n",
    "     'retweets, and its standard error is ', np.std(df_image['rt_count']/np.sqrt(len(df_image))),\n",
    "      '.')\n",
    "print('Tweets with images have average of ', np.mean(df_image['favorite_count']),\n",
    "     'favorites, and its standard error is ', np.std(df_image['favorite_count']/np.sqrt(len(df_image))),\n",
    "      '.')\n",
    "\n",
    "print('Tweets with no image have average of ', np.mean(df_noimage['rt_count']),\n",
    "     'retweets, and its standard error is ', np.std(df_noimage['rt_count']/np.sqrt(len(df_noimage))),\n",
    "      '.')\n",
    "print('Tweets with no image have average of ', np.mean(df_noimage['favorite_count']),\n",
    "     'favorites, and its standard error is ', np.std(df_noimage['favorite_count']/np.sqrt(len(df_image))),\n",
    "      '.')"
   ]
  },
  {
   "cell_type": "code",
   "execution_count": 78,
   "metadata": {},
   "outputs": [
    {
     "data": {
      "image/png": "[encoded data removed]",
      "text/plain": [
       "<matplotlib.figure.Figure at 0x7f19c9abf160>"
      ]
     },
     "metadata": {
      "needs_background": "light"
     },
     "output_type": "display_data"
    }
   ],
   "source": [
    "image_means = (np.mean(df_image['rt_count']),np.mean(df_image['favorite_count']))\n",
    "image_ste = (np.std(df_image['rt_count'])/np.sqrt(len(df_image)),np.std(df_image['favorite_count'])/np.sqrt(len(df_image)))\n",
    "noimage_means = (np.mean(df_noimage['rt_count']),np.mean(df_noimage['favorite_count']))\n",
    "noimage_ste = (np.std(df_noimage['rt_count'])/np.sqrt(len(df_noimage)),np.std(df_noimage['favorite_count'])/np.sqrt(len(df_noimage)))\n",
    "\n",
    "ind = np.arange(len(image_means))  # the x locations for the groups\n",
    "width = 0.35  # the width of the bars\n",
    "\n",
    "fig, ax = plt.subplots()\n",
    "rects1 = ax.bar(ind - width/2, image_means, width, yerr=image_ste,\n",
    "                label='Image')\n",
    "rects2 = ax.bar(ind + width/2, noimage_means, width, yerr=noimage_ste,\n",
    "                label='No image')\n",
    "\n",
    "# Add some text for labels, title and custom x-axis tick labels, etc.\n",
    "ax.set_ylabel('Counts')\n",
    "ax.set_title('Average RTs and Favorites of Tweets')\n",
    "ax.set_xticks(ind)\n",
    "ax.set_xticklabels(('Retweets', 'Favorites'))\n",
    "ax.legend()\n",
    "\n",
    "\n",
    "\n",
    "plt.show()"
   ]
  },
  {
   "cell_type": "code",
   "execution_count": 72,
   "metadata": {},
   "outputs": [
    {
     "name": "stdout",
     "output_type": "stream",
     "text": [
      "Retweet: p = 7.61338936335e-05\n",
      "Retweet: p = 2.89022716599e-05\n"
     ]
    }
   ],
   "source": [
    "t_rt, p_rt = stats.ttest_ind(df_image['rt_count'],df_noimage['rt_count'])\n",
    "print(\"Retweet: p = \" + str(p_rt))\n",
    "\n",
    "t_fav, p_fav = stats.ttest_ind(df_image['favorite_count'],df_noimage['favorite_count'])\n",
    "print(\"Retweet: p = \" + str(p_fav))\n",
    "\n",
    "#p values are very small (p<0.05). This means the difference is significant "
   ]
  },
  {
   "cell_type": "markdown",
   "metadata": {},
   "source": [
    "Summary of analysis can be found in `act_report.pdf`."
   ]
  }
 ],
 "metadata": {
  "kernelspec": {
   "display_name": "Python 3",
   "language": "python",
   "name": "python3"
  },
  "language_info": {
   "codemirror_mode": {
    "name": "ipython",
    "version": 3
   },
   "file_extension": ".py",
   "mimetype": "text/x-python",
   "name": "python",
   "nbconvert_exporter": "python",
   "pygments_lexer": "ipython3",
   "version": "3.6.3"
  }
 },
 "nbformat": 4,
 "nbformat_minor": 2
}
