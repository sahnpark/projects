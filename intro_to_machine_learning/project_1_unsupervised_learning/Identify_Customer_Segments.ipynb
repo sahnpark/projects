{
 "cells": [
  {
   "cell_type": "markdown",
   "metadata": {},
   "source": [
    "# Project: Identify Customer Segments\n",
    "\n",
    "In this project, you will apply unsupervised learning techniques to identify segments of the population that form the core customer base for a mail-order sales company in Germany. These segments can then be used to direct marketing campaigns towards audiences that will have the highest expected rate of returns. The data that you will use has been provided by our partners at Bertelsmann Arvato Analytics, and represents a real-life data science task.\n",
    "\n",
    "This notebook will help you complete this task by providing a framework within which you will perform your analysis steps. In each step of the project, you will see some text describing the subtask that you will perform, followed by one or more code cells for you to complete your work. **Feel free to add additional code and markdown cells as you go along so that you can explore everything in precise chunks.** The code cells provided in the base template will outline only the major tasks, and will usually not be enough to cover all of the minor tasks that comprise it.\n",
    "\n",
    "It should be noted that while there will be precise guidelines on how you should handle certain tasks in the project, there will also be places where an exact specification is not provided. **There will be times in the project where you will need to make and justify your own decisions on how to treat the data.** These are places where there may not be only one way to handle the data. In real-life tasks, there may be many valid ways to approach an analysis task. One of the most important things you can do is clearly document your approach so that other scientists can understand the decisions you've made.\n",
    "\n",
    "At the end of most sections, there will be a Markdown cell labeled **Discussion**. In these cells, you will report your findings for the completed section, as well as document the decisions that you made in your approach to each subtask. **Your project will be evaluated not just on the code used to complete the tasks outlined, but also your communication about your observations and conclusions at each stage.**"
   ]
  },
  {
   "cell_type": "code",
   "execution_count": 1,
   "metadata": {},
   "outputs": [
    {
     "data": {
      "text/plain": [
       "'\\nImport note: The classroom currently uses sklearn version 0.19.\\nIf you need to use an imputer, it is available in sklearn.preprocessing.Imputer,\\ninstead of sklearn.impute as in newer versions of sklearn.\\n'"
      ]
     },
     "execution_count": 1,
     "metadata": {},
     "output_type": "execute_result"
    }
   ],
   "source": [
    "# import libraries here; add more as necessary\n",
    "import numpy as np\n",
    "import pandas as pd\n",
    "import matplotlib.pyplot as plt\n",
    "import seaborn as sns\n",
    "\n",
    "from sklearn.preprocessing import StandardScaler\n",
    "from sklearn.decomposition import PCA \n",
    "from sklearn.cluster import KMeans\n",
    "\n",
    "# magic word for producing visualizations in notebook\n",
    "%matplotlib inline\n",
    "\n",
    "'''\n",
    "Import note: The classroom currently uses sklearn version 0.19.\n",
    "If you need to use an imputer, it is available in sklearn.preprocessing.Imputer,\n",
    "instead of sklearn.impute as in newer versions of sklearn.\n",
    "'''"
   ]
  },
  {
   "cell_type": "markdown",
   "metadata": {},
   "source": [
    "### Step 0: Load the Data\n",
    "\n",
    "There are four files associated with this project (not including this one):\n",
    "\n",
    "- `Udacity_AZDIAS_Subset.csv`: Demographics data for the general population of Germany; 891211 persons (rows) x 85 features (columns).\n",
    "- `Udacity_CUSTOMERS_Subset.csv`: Demographics data for customers of a mail-order company; 191652 persons (rows) x 85 features (columns).\n",
    "- `Data_Dictionary.md`: Detailed information file about the features in the provided datasets.\n",
    "- `AZDIAS_Feature_Summary.csv`: Summary of feature attributes for demographics data; 85 features (rows) x 4 columns\n",
    "\n",
    "Each row of the demographics files represents a single person, but also includes information outside of individuals, including information about their household, building, and neighborhood. You will use this information to cluster the general population into groups with similar demographic properties. Then, you will see how the people in the customers dataset fit into those created clusters. The hope here is that certain clusters are over-represented in the customers data, as compared to the general population; those over-represented clusters will be assumed to be part of the core userbase. This information can then be used for further applications, such as targeting for a marketing campaign.\n",
    "\n",
    "To start off with, load in the demographics data for the general population into a pandas DataFrame, and do the same for the feature attributes summary. Note for all of the `.csv` data files in this project: they're semicolon (`;`) delimited, so you'll need an additional argument in your [`read_csv()`](https://pandas.pydata.org/pandas-docs/stable/generated/pandas.read_csv.html) call to read in the data properly. Also, considering the size of the main dataset, it may take some time for it to load completely.\n",
    "\n",
    "Once the dataset is loaded, it's recommended that you take a little bit of time just browsing the general structure of the dataset and feature summary file. You'll be getting deep into the innards of the cleaning in the first major step of the project, so gaining some general familiarity can help you get your bearings."
   ]
  },
  {
   "cell_type": "code",
   "execution_count": 2,
   "metadata": {},
   "outputs": [],
   "source": [
    "# Load in the general demographics data.\n",
    "azdias = pd.read_csv(\"Udacity_AZDIAS_Subset.csv\", delimiter=\";\")\n",
    "\n",
    "# Load in the feature summary file.\n",
    "feat_info = pd.read_csv(\"AZDIAS_Feature_Summary.csv\", delimiter=\";\")"
   ]
  },
  {
   "cell_type": "code",
   "execution_count": 3,
   "metadata": {},
   "outputs": [
    {
     "name": "stdout",
     "output_type": "stream",
     "text": [
      "(891221, 85)\n"
     ]
    },
    {
     "data": {
      "text/html": [
       "<div>\n",
       "<style scoped>\n",
       "    .dataframe tbody tr th:only-of-type {\n",
       "        vertical-align: middle;\n",
       "    }\n",
       "\n",
       "    .dataframe tbody tr th {\n",
       "        vertical-align: top;\n",
       "    }\n",
       "\n",
       "    .dataframe thead th {\n",
       "        text-align: right;\n",
       "    }\n",
       "</style>\n",
       "<table border=\"1\" class=\"dataframe\">\n",
       "  <thead>\n",
       "    <tr style=\"text-align: right;\">\n",
       "      <th></th>\n",
       "      <th>AGER_TYP</th>\n",
       "      <th>ALTERSKATEGORIE_GROB</th>\n",
       "      <th>ANREDE_KZ</th>\n",
       "      <th>CJT_GESAMTTYP</th>\n",
       "      <th>FINANZ_MINIMALIST</th>\n",
       "      <th>FINANZ_SPARER</th>\n",
       "      <th>FINANZ_VORSORGER</th>\n",
       "      <th>FINANZ_ANLEGER</th>\n",
       "      <th>FINANZ_UNAUFFAELLIGER</th>\n",
       "      <th>FINANZ_HAUSBAUER</th>\n",
       "      <th>...</th>\n",
       "      <th>PLZ8_ANTG1</th>\n",
       "      <th>PLZ8_ANTG2</th>\n",
       "      <th>PLZ8_ANTG3</th>\n",
       "      <th>PLZ8_ANTG4</th>\n",
       "      <th>PLZ8_BAUMAX</th>\n",
       "      <th>PLZ8_HHZ</th>\n",
       "      <th>PLZ8_GBZ</th>\n",
       "      <th>ARBEIT</th>\n",
       "      <th>ORTSGR_KLS9</th>\n",
       "      <th>RELAT_AB</th>\n",
       "    </tr>\n",
       "  </thead>\n",
       "  <tbody>\n",
       "    <tr>\n",
       "      <th>0</th>\n",
       "      <td>-1</td>\n",
       "      <td>2</td>\n",
       "      <td>1</td>\n",
       "      <td>2.0</td>\n",
       "      <td>3</td>\n",
       "      <td>4</td>\n",
       "      <td>3</td>\n",
       "      <td>5</td>\n",
       "      <td>5</td>\n",
       "      <td>3</td>\n",
       "      <td>...</td>\n",
       "      <td>NaN</td>\n",
       "      <td>NaN</td>\n",
       "      <td>NaN</td>\n",
       "      <td>NaN</td>\n",
       "      <td>NaN</td>\n",
       "      <td>NaN</td>\n",
       "      <td>NaN</td>\n",
       "      <td>NaN</td>\n",
       "      <td>NaN</td>\n",
       "      <td>NaN</td>\n",
       "    </tr>\n",
       "    <tr>\n",
       "      <th>1</th>\n",
       "      <td>-1</td>\n",
       "      <td>1</td>\n",
       "      <td>2</td>\n",
       "      <td>5.0</td>\n",
       "      <td>1</td>\n",
       "      <td>5</td>\n",
       "      <td>2</td>\n",
       "      <td>5</td>\n",
       "      <td>4</td>\n",
       "      <td>5</td>\n",
       "      <td>...</td>\n",
       "      <td>2.0</td>\n",
       "      <td>3.0</td>\n",
       "      <td>2.0</td>\n",
       "      <td>1.0</td>\n",
       "      <td>1.0</td>\n",
       "      <td>5.0</td>\n",
       "      <td>4.0</td>\n",
       "      <td>3.0</td>\n",
       "      <td>5.0</td>\n",
       "      <td>4.0</td>\n",
       "    </tr>\n",
       "    <tr>\n",
       "      <th>2</th>\n",
       "      <td>-1</td>\n",
       "      <td>3</td>\n",
       "      <td>2</td>\n",
       "      <td>3.0</td>\n",
       "      <td>1</td>\n",
       "      <td>4</td>\n",
       "      <td>1</td>\n",
       "      <td>2</td>\n",
       "      <td>3</td>\n",
       "      <td>5</td>\n",
       "      <td>...</td>\n",
       "      <td>3.0</td>\n",
       "      <td>3.0</td>\n",
       "      <td>1.0</td>\n",
       "      <td>0.0</td>\n",
       "      <td>1.0</td>\n",
       "      <td>4.0</td>\n",
       "      <td>4.0</td>\n",
       "      <td>3.0</td>\n",
       "      <td>5.0</td>\n",
       "      <td>2.0</td>\n",
       "    </tr>\n",
       "    <tr>\n",
       "      <th>3</th>\n",
       "      <td>2</td>\n",
       "      <td>4</td>\n",
       "      <td>2</td>\n",
       "      <td>2.0</td>\n",
       "      <td>4</td>\n",
       "      <td>2</td>\n",
       "      <td>5</td>\n",
       "      <td>2</td>\n",
       "      <td>1</td>\n",
       "      <td>2</td>\n",
       "      <td>...</td>\n",
       "      <td>2.0</td>\n",
       "      <td>2.0</td>\n",
       "      <td>2.0</td>\n",
       "      <td>0.0</td>\n",
       "      <td>1.0</td>\n",
       "      <td>3.0</td>\n",
       "      <td>4.0</td>\n",
       "      <td>2.0</td>\n",
       "      <td>3.0</td>\n",
       "      <td>3.0</td>\n",
       "    </tr>\n",
       "    <tr>\n",
       "      <th>4</th>\n",
       "      <td>-1</td>\n",
       "      <td>3</td>\n",
       "      <td>1</td>\n",
       "      <td>5.0</td>\n",
       "      <td>4</td>\n",
       "      <td>3</td>\n",
       "      <td>4</td>\n",
       "      <td>1</td>\n",
       "      <td>3</td>\n",
       "      <td>2</td>\n",
       "      <td>...</td>\n",
       "      <td>2.0</td>\n",
       "      <td>4.0</td>\n",
       "      <td>2.0</td>\n",
       "      <td>1.0</td>\n",
       "      <td>2.0</td>\n",
       "      <td>3.0</td>\n",
       "      <td>3.0</td>\n",
       "      <td>4.0</td>\n",
       "      <td>6.0</td>\n",
       "      <td>5.0</td>\n",
       "    </tr>\n",
       "  </tbody>\n",
       "</table>\n",
       "<p>5 rows × 85 columns</p>\n",
       "</div>"
      ],
      "text/plain": [
       "   AGER_TYP  ALTERSKATEGORIE_GROB  ANREDE_KZ  CJT_GESAMTTYP  \\\n",
       "0        -1                     2          1            2.0   \n",
       "1        -1                     1          2            5.0   \n",
       "2        -1                     3          2            3.0   \n",
       "3         2                     4          2            2.0   \n",
       "4        -1                     3          1            5.0   \n",
       "\n",
       "   FINANZ_MINIMALIST  FINANZ_SPARER  FINANZ_VORSORGER  FINANZ_ANLEGER  \\\n",
       "0                  3              4                 3               5   \n",
       "1                  1              5                 2               5   \n",
       "2                  1              4                 1               2   \n",
       "3                  4              2                 5               2   \n",
       "4                  4              3                 4               1   \n",
       "\n",
       "   FINANZ_UNAUFFAELLIGER  FINANZ_HAUSBAUER    ...     PLZ8_ANTG1  PLZ8_ANTG2  \\\n",
       "0                      5                 3    ...            NaN         NaN   \n",
       "1                      4                 5    ...            2.0         3.0   \n",
       "2                      3                 5    ...            3.0         3.0   \n",
       "3                      1                 2    ...            2.0         2.0   \n",
       "4                      3                 2    ...            2.0         4.0   \n",
       "\n",
       "   PLZ8_ANTG3  PLZ8_ANTG4  PLZ8_BAUMAX  PLZ8_HHZ  PLZ8_GBZ  ARBEIT  \\\n",
       "0         NaN         NaN          NaN       NaN       NaN     NaN   \n",
       "1         2.0         1.0          1.0       5.0       4.0     3.0   \n",
       "2         1.0         0.0          1.0       4.0       4.0     3.0   \n",
       "3         2.0         0.0          1.0       3.0       4.0     2.0   \n",
       "4         2.0         1.0          2.0       3.0       3.0     4.0   \n",
       "\n",
       "   ORTSGR_KLS9  RELAT_AB  \n",
       "0          NaN       NaN  \n",
       "1          5.0       4.0  \n",
       "2          5.0       2.0  \n",
       "3          3.0       3.0  \n",
       "4          6.0       5.0  \n",
       "\n",
       "[5 rows x 85 columns]"
      ]
     },
     "metadata": {},
     "output_type": "display_data"
    }
   ],
   "source": [
    "# Check the structure of the data after it's loaded (e.g. print the number of\n",
    "# rows and columns, print the first few rows).\n",
    "print(azdias.shape)\n",
    "display(azdias.head())"
   ]
  },
  {
   "cell_type": "code",
   "execution_count": 4,
   "metadata": {},
   "outputs": [
    {
     "name": "stdout",
     "output_type": "stream",
     "text": [
      "(85, 4)\n"
     ]
    },
    {
     "data": {
      "text/html": [
       "<div>\n",
       "<style scoped>\n",
       "    .dataframe tbody tr th:only-of-type {\n",
       "        vertical-align: middle;\n",
       "    }\n",
       "\n",
       "    .dataframe tbody tr th {\n",
       "        vertical-align: top;\n",
       "    }\n",
       "\n",
       "    .dataframe thead th {\n",
       "        text-align: right;\n",
       "    }\n",
       "</style>\n",
       "<table border=\"1\" class=\"dataframe\">\n",
       "  <thead>\n",
       "    <tr style=\"text-align: right;\">\n",
       "      <th></th>\n",
       "      <th>attribute</th>\n",
       "      <th>information_level</th>\n",
       "      <th>type</th>\n",
       "      <th>missing_or_unknown</th>\n",
       "    </tr>\n",
       "  </thead>\n",
       "  <tbody>\n",
       "    <tr>\n",
       "      <th>0</th>\n",
       "      <td>AGER_TYP</td>\n",
       "      <td>person</td>\n",
       "      <td>categorical</td>\n",
       "      <td>[-1,0]</td>\n",
       "    </tr>\n",
       "    <tr>\n",
       "      <th>1</th>\n",
       "      <td>ALTERSKATEGORIE_GROB</td>\n",
       "      <td>person</td>\n",
       "      <td>ordinal</td>\n",
       "      <td>[-1,0,9]</td>\n",
       "    </tr>\n",
       "    <tr>\n",
       "      <th>2</th>\n",
       "      <td>ANREDE_KZ</td>\n",
       "      <td>person</td>\n",
       "      <td>categorical</td>\n",
       "      <td>[-1,0]</td>\n",
       "    </tr>\n",
       "    <tr>\n",
       "      <th>3</th>\n",
       "      <td>CJT_GESAMTTYP</td>\n",
       "      <td>person</td>\n",
       "      <td>categorical</td>\n",
       "      <td>[0]</td>\n",
       "    </tr>\n",
       "    <tr>\n",
       "      <th>4</th>\n",
       "      <td>FINANZ_MINIMALIST</td>\n",
       "      <td>person</td>\n",
       "      <td>ordinal</td>\n",
       "      <td>[-1]</td>\n",
       "    </tr>\n",
       "  </tbody>\n",
       "</table>\n",
       "</div>"
      ],
      "text/plain": [
       "              attribute information_level         type missing_or_unknown\n",
       "0              AGER_TYP            person  categorical             [-1,0]\n",
       "1  ALTERSKATEGORIE_GROB            person      ordinal           [-1,0,9]\n",
       "2             ANREDE_KZ            person  categorical             [-1,0]\n",
       "3         CJT_GESAMTTYP            person  categorical                [0]\n",
       "4     FINANZ_MINIMALIST            person      ordinal               [-1]"
      ]
     },
     "metadata": {},
     "output_type": "display_data"
    }
   ],
   "source": [
    "print(feat_info.shape)\n",
    "display(feat_info.head())"
   ]
  },
  {
   "cell_type": "markdown",
   "metadata": {},
   "source": [
    "> **Tip**: Add additional cells to keep everything in reasonably-sized chunks! Keyboard shortcut `esc --> a` (press escape to enter command mode, then press the 'A' key) adds a new cell before the active cell, and `esc --> b` adds a new cell after the active cell. If you need to convert an active cell to a markdown cell, use `esc --> m` and to convert to a code cell, use `esc --> y`. \n",
    "\n",
    "## Step 1: Preprocessing\n",
    "\n",
    "### Step 1.1: Assess Missing Data\n",
    "\n",
    "The feature summary file contains a summary of properties for each demographics data column. You will use this file to help you make cleaning decisions during this stage of the project. First of all, you should assess the demographics data in terms of missing data. Pay attention to the following points as you perform your analysis, and take notes on what you observe. Make sure that you fill in the **Discussion** cell with your findings and decisions at the end of each step that has one!\n",
    "\n",
    "#### Step 1.1.1: Convert Missing Value Codes to NaNs\n",
    "The fourth column of the feature attributes summary (loaded in above as `feat_info`) documents the codes from the data dictionary that indicate missing or unknown data. While the file encodes this as a list (e.g. `[-1,0]`), this will get read in as a string object. You'll need to do a little bit of parsing to make use of it to identify and clean the data. Convert data that matches a 'missing' or 'unknown' value code into a numpy NaN value. You might want to see how much data takes on a 'missing' or 'unknown' code, and how much data is naturally missing, as a point of interest.\n",
    "\n",
    "**As one more reminder, you are encouraged to add additional cells to break up your analysis into manageable chunks.**"
   ]
  },
  {
   "cell_type": "code",
   "execution_count": 5,
   "metadata": {},
   "outputs": [
    {
     "data": {
      "text/plain": [
       "attribute             object\n",
       "information_level     object\n",
       "type                  object\n",
       "missing_or_unknown    object\n",
       "dtype: object"
      ]
     },
     "execution_count": 5,
     "metadata": {},
     "output_type": "execute_result"
    }
   ],
   "source": [
    "feat_info.dtypes"
   ]
  },
  {
   "cell_type": "code",
   "execution_count": 6,
   "metadata": {},
   "outputs": [],
   "source": [
    "# str to list \n",
    "feat_info['missing_or_unknown'] = feat_info['missing_or_unknown'].apply(lambda x: x[1:-1].split(','))"
   ]
  },
  {
   "cell_type": "code",
   "execution_count": 7,
   "metadata": {},
   "outputs": [
    {
     "data": {
      "text/html": [
       "<div>\n",
       "<style scoped>\n",
       "    .dataframe tbody tr th:only-of-type {\n",
       "        vertical-align: middle;\n",
       "    }\n",
       "\n",
       "    .dataframe tbody tr th {\n",
       "        vertical-align: top;\n",
       "    }\n",
       "\n",
       "    .dataframe thead th {\n",
       "        text-align: right;\n",
       "    }\n",
       "</style>\n",
       "<table border=\"1\" class=\"dataframe\">\n",
       "  <thead>\n",
       "    <tr style=\"text-align: right;\">\n",
       "      <th></th>\n",
       "      <th>attribute</th>\n",
       "      <th>information_level</th>\n",
       "      <th>type</th>\n",
       "      <th>missing_or_unknown</th>\n",
       "    </tr>\n",
       "  </thead>\n",
       "  <tbody>\n",
       "    <tr>\n",
       "      <th>0</th>\n",
       "      <td>AGER_TYP</td>\n",
       "      <td>person</td>\n",
       "      <td>categorical</td>\n",
       "      <td>[-1, 0]</td>\n",
       "    </tr>\n",
       "    <tr>\n",
       "      <th>1</th>\n",
       "      <td>ALTERSKATEGORIE_GROB</td>\n",
       "      <td>person</td>\n",
       "      <td>ordinal</td>\n",
       "      <td>[-1, 0, 9]</td>\n",
       "    </tr>\n",
       "    <tr>\n",
       "      <th>2</th>\n",
       "      <td>ANREDE_KZ</td>\n",
       "      <td>person</td>\n",
       "      <td>categorical</td>\n",
       "      <td>[-1, 0]</td>\n",
       "    </tr>\n",
       "    <tr>\n",
       "      <th>3</th>\n",
       "      <td>CJT_GESAMTTYP</td>\n",
       "      <td>person</td>\n",
       "      <td>categorical</td>\n",
       "      <td>[0]</td>\n",
       "    </tr>\n",
       "    <tr>\n",
       "      <th>4</th>\n",
       "      <td>FINANZ_MINIMALIST</td>\n",
       "      <td>person</td>\n",
       "      <td>ordinal</td>\n",
       "      <td>[-1]</td>\n",
       "    </tr>\n",
       "  </tbody>\n",
       "</table>\n",
       "</div>"
      ],
      "text/plain": [
       "              attribute information_level         type missing_or_unknown\n",
       "0              AGER_TYP            person  categorical            [-1, 0]\n",
       "1  ALTERSKATEGORIE_GROB            person      ordinal         [-1, 0, 9]\n",
       "2             ANREDE_KZ            person  categorical            [-1, 0]\n",
       "3         CJT_GESAMTTYP            person  categorical                [0]\n",
       "4     FINANZ_MINIMALIST            person      ordinal               [-1]"
      ]
     },
     "metadata": {},
     "output_type": "display_data"
    }
   ],
   "source": [
    "display(feat_info.head())"
   ]
  },
  {
   "cell_type": "code",
   "execution_count": 8,
   "metadata": {},
   "outputs": [],
   "source": [
    "# Identify missing or unknown data values and convert them to NaNs.\n",
    "\n",
    "#########################\n",
    "# for n, m in zip(feat_info['attribute'], feat_info['missing_or_unknown']):\n",
    "#     if m[0] != '':\n",
    "#         for value in m:\n",
    "#             if value.isnumeric() or value.lstrip('-').isnumeric():\n",
    "#                 value = int(value)\n",
    "#             azdias.loc[azdias[n] == value, n] = np.nan\n",
    "\n",
    "for n in np.arange(feat_info.shape[0]):\n",
    "    attb = feat_info['attribute'][n]\n",
    "    nanvals = feat_info['missing_or_unknown'][n]\n",
    "    if nanvals != ['']:\n",
    "        for val in nanvals:\n",
    "            try:\n",
    "                val = int(val)\n",
    "            except:\n",
    "                val = val\n",
    "            azdias.loc[azdias[attb] == val,attb] = np.nan"
   ]
  },
  {
   "cell_type": "code",
   "execution_count": 9,
   "metadata": {},
   "outputs": [
    {
     "data": {
      "text/html": [
       "<div>\n",
       "<style scoped>\n",
       "    .dataframe tbody tr th:only-of-type {\n",
       "        vertical-align: middle;\n",
       "    }\n",
       "\n",
       "    .dataframe tbody tr th {\n",
       "        vertical-align: top;\n",
       "    }\n",
       "\n",
       "    .dataframe thead th {\n",
       "        text-align: right;\n",
       "    }\n",
       "</style>\n",
       "<table border=\"1\" class=\"dataframe\">\n",
       "  <thead>\n",
       "    <tr style=\"text-align: right;\">\n",
       "      <th></th>\n",
       "      <th>AGER_TYP</th>\n",
       "      <th>ALTERSKATEGORIE_GROB</th>\n",
       "      <th>ANREDE_KZ</th>\n",
       "      <th>CJT_GESAMTTYP</th>\n",
       "      <th>FINANZ_MINIMALIST</th>\n",
       "      <th>FINANZ_SPARER</th>\n",
       "      <th>FINANZ_VORSORGER</th>\n",
       "      <th>FINANZ_ANLEGER</th>\n",
       "      <th>FINANZ_UNAUFFAELLIGER</th>\n",
       "      <th>FINANZ_HAUSBAUER</th>\n",
       "      <th>...</th>\n",
       "      <th>PLZ8_ANTG1</th>\n",
       "      <th>PLZ8_ANTG2</th>\n",
       "      <th>PLZ8_ANTG3</th>\n",
       "      <th>PLZ8_ANTG4</th>\n",
       "      <th>PLZ8_BAUMAX</th>\n",
       "      <th>PLZ8_HHZ</th>\n",
       "      <th>PLZ8_GBZ</th>\n",
       "      <th>ARBEIT</th>\n",
       "      <th>ORTSGR_KLS9</th>\n",
       "      <th>RELAT_AB</th>\n",
       "    </tr>\n",
       "  </thead>\n",
       "  <tbody>\n",
       "    <tr>\n",
       "      <th>0</th>\n",
       "      <td>NaN</td>\n",
       "      <td>2.0</td>\n",
       "      <td>1.0</td>\n",
       "      <td>2.0</td>\n",
       "      <td>3.0</td>\n",
       "      <td>4.0</td>\n",
       "      <td>3.0</td>\n",
       "      <td>5.0</td>\n",
       "      <td>5.0</td>\n",
       "      <td>3.0</td>\n",
       "      <td>...</td>\n",
       "      <td>NaN</td>\n",
       "      <td>NaN</td>\n",
       "      <td>NaN</td>\n",
       "      <td>NaN</td>\n",
       "      <td>NaN</td>\n",
       "      <td>NaN</td>\n",
       "      <td>NaN</td>\n",
       "      <td>NaN</td>\n",
       "      <td>NaN</td>\n",
       "      <td>NaN</td>\n",
       "    </tr>\n",
       "    <tr>\n",
       "      <th>1</th>\n",
       "      <td>NaN</td>\n",
       "      <td>1.0</td>\n",
       "      <td>2.0</td>\n",
       "      <td>5.0</td>\n",
       "      <td>1.0</td>\n",
       "      <td>5.0</td>\n",
       "      <td>2.0</td>\n",
       "      <td>5.0</td>\n",
       "      <td>4.0</td>\n",
       "      <td>5.0</td>\n",
       "      <td>...</td>\n",
       "      <td>2.0</td>\n",
       "      <td>3.0</td>\n",
       "      <td>2.0</td>\n",
       "      <td>1.0</td>\n",
       "      <td>1.0</td>\n",
       "      <td>5.0</td>\n",
       "      <td>4.0</td>\n",
       "      <td>3.0</td>\n",
       "      <td>5.0</td>\n",
       "      <td>4.0</td>\n",
       "    </tr>\n",
       "    <tr>\n",
       "      <th>2</th>\n",
       "      <td>NaN</td>\n",
       "      <td>3.0</td>\n",
       "      <td>2.0</td>\n",
       "      <td>3.0</td>\n",
       "      <td>1.0</td>\n",
       "      <td>4.0</td>\n",
       "      <td>1.0</td>\n",
       "      <td>2.0</td>\n",
       "      <td>3.0</td>\n",
       "      <td>5.0</td>\n",
       "      <td>...</td>\n",
       "      <td>3.0</td>\n",
       "      <td>3.0</td>\n",
       "      <td>1.0</td>\n",
       "      <td>0.0</td>\n",
       "      <td>1.0</td>\n",
       "      <td>4.0</td>\n",
       "      <td>4.0</td>\n",
       "      <td>3.0</td>\n",
       "      <td>5.0</td>\n",
       "      <td>2.0</td>\n",
       "    </tr>\n",
       "    <tr>\n",
       "      <th>3</th>\n",
       "      <td>2.0</td>\n",
       "      <td>4.0</td>\n",
       "      <td>2.0</td>\n",
       "      <td>2.0</td>\n",
       "      <td>4.0</td>\n",
       "      <td>2.0</td>\n",
       "      <td>5.0</td>\n",
       "      <td>2.0</td>\n",
       "      <td>1.0</td>\n",
       "      <td>2.0</td>\n",
       "      <td>...</td>\n",
       "      <td>2.0</td>\n",
       "      <td>2.0</td>\n",
       "      <td>2.0</td>\n",
       "      <td>0.0</td>\n",
       "      <td>1.0</td>\n",
       "      <td>3.0</td>\n",
       "      <td>4.0</td>\n",
       "      <td>2.0</td>\n",
       "      <td>3.0</td>\n",
       "      <td>3.0</td>\n",
       "    </tr>\n",
       "    <tr>\n",
       "      <th>4</th>\n",
       "      <td>NaN</td>\n",
       "      <td>3.0</td>\n",
       "      <td>1.0</td>\n",
       "      <td>5.0</td>\n",
       "      <td>4.0</td>\n",
       "      <td>3.0</td>\n",
       "      <td>4.0</td>\n",
       "      <td>1.0</td>\n",
       "      <td>3.0</td>\n",
       "      <td>2.0</td>\n",
       "      <td>...</td>\n",
       "      <td>2.0</td>\n",
       "      <td>4.0</td>\n",
       "      <td>2.0</td>\n",
       "      <td>1.0</td>\n",
       "      <td>2.0</td>\n",
       "      <td>3.0</td>\n",
       "      <td>3.0</td>\n",
       "      <td>4.0</td>\n",
       "      <td>6.0</td>\n",
       "      <td>5.0</td>\n",
       "    </tr>\n",
       "  </tbody>\n",
       "</table>\n",
       "<p>5 rows × 85 columns</p>\n",
       "</div>"
      ],
      "text/plain": [
       "   AGER_TYP  ALTERSKATEGORIE_GROB  ANREDE_KZ  CJT_GESAMTTYP  \\\n",
       "0       NaN                   2.0        1.0            2.0   \n",
       "1       NaN                   1.0        2.0            5.0   \n",
       "2       NaN                   3.0        2.0            3.0   \n",
       "3       2.0                   4.0        2.0            2.0   \n",
       "4       NaN                   3.0        1.0            5.0   \n",
       "\n",
       "   FINANZ_MINIMALIST  FINANZ_SPARER  FINANZ_VORSORGER  FINANZ_ANLEGER  \\\n",
       "0                3.0            4.0               3.0             5.0   \n",
       "1                1.0            5.0               2.0             5.0   \n",
       "2                1.0            4.0               1.0             2.0   \n",
       "3                4.0            2.0               5.0             2.0   \n",
       "4                4.0            3.0               4.0             1.0   \n",
       "\n",
       "   FINANZ_UNAUFFAELLIGER  FINANZ_HAUSBAUER    ...     PLZ8_ANTG1  PLZ8_ANTG2  \\\n",
       "0                    5.0               3.0    ...            NaN         NaN   \n",
       "1                    4.0               5.0    ...            2.0         3.0   \n",
       "2                    3.0               5.0    ...            3.0         3.0   \n",
       "3                    1.0               2.0    ...            2.0         2.0   \n",
       "4                    3.0               2.0    ...            2.0         4.0   \n",
       "\n",
       "   PLZ8_ANTG3  PLZ8_ANTG4  PLZ8_BAUMAX  PLZ8_HHZ  PLZ8_GBZ  ARBEIT  \\\n",
       "0         NaN         NaN          NaN       NaN       NaN     NaN   \n",
       "1         2.0         1.0          1.0       5.0       4.0     3.0   \n",
       "2         1.0         0.0          1.0       4.0       4.0     3.0   \n",
       "3         2.0         0.0          1.0       3.0       4.0     2.0   \n",
       "4         2.0         1.0          2.0       3.0       3.0     4.0   \n",
       "\n",
       "   ORTSGR_KLS9  RELAT_AB  \n",
       "0          NaN       NaN  \n",
       "1          5.0       4.0  \n",
       "2          5.0       2.0  \n",
       "3          3.0       3.0  \n",
       "4          6.0       5.0  \n",
       "\n",
       "[5 rows x 85 columns]"
      ]
     },
     "metadata": {},
     "output_type": "display_data"
    }
   ],
   "source": [
    "display(azdias.head())"
   ]
  },
  {
   "cell_type": "markdown",
   "metadata": {},
   "source": [
    "#### Step 1.1.2: Assess Missing Data in Each Column\n",
    "\n",
    "How much missing data is present in each column? There are a few columns that are outliers in terms of the proportion of values that are missing. You will want to use matplotlib's [`hist()`](https://matplotlib.org/api/_as_gen/matplotlib.pyplot.hist.html) function to visualize the distribution of missing value counts to find these columns. Identify and document these columns. While some of these columns might have justifications for keeping or re-encoding the data, for this project you should just remove them from the dataframe. (Feel free to make remarks about these outlier columns in the discussion, however!)\n",
    "\n",
    "For the remaining features, are there any patterns in which columns have, or share, missing data?"
   ]
  },
  {
   "cell_type": "code",
   "execution_count": 10,
   "metadata": {},
   "outputs": [],
   "source": [
    "# Perform an assessment of how much missing data there is in each column of the dataset.\n",
    "missing_data = azdias.isnull().sum()\n",
    "missing_p = azdias.isnull().sum() / azdias.shape[0]"
   ]
  },
  {
   "cell_type": "code",
   "execution_count": 11,
   "metadata": {},
   "outputs": [
    {
     "data": {
      "image/png": "[encoded data removed]",
      "text/plain": [
       "<matplotlib.figure.Figure at 0x7f99f7a52cc0>"
      ]
     },
     "metadata": {
      "needs_background": "light"
     },
     "output_type": "display_data"
    }
   ],
   "source": [
    "plt.hist(missing_p, bins = 25)\n",
    "plt.xlabel('Missing Ratio')\n",
    "plt.ylabel('Counts')\n",
    "plt.show()"
   ]
  },
  {
   "cell_type": "code",
   "execution_count": 12,
   "metadata": {},
   "outputs": [
    {
     "name": "stdout",
     "output_type": "stream",
     "text": [
      "There are 6 columns with more than 30% of missing data. These columns are outliers.\n"
     ]
    }
   ],
   "source": [
    "print('There are {} columns with more than 30% of missing data. These columns are outliers.'.format((missing_p > 0.3).sum()))"
   ]
  },
  {
   "cell_type": "code",
   "execution_count": 13,
   "metadata": {},
   "outputs": [
    {
     "data": {
      "image/png": "[encoded data removed]",
      "text/plain": [
       "<matplotlib.figure.Figure at 0x7f99f5200908>"
      ]
     },
     "metadata": {
      "needs_background": "light"
     },
     "output_type": "display_data"
    }
   ],
   "source": [
    "# Investigate patterns in the amount of missing data in each column.\n",
    "\n",
    "missing_p.sort_values(inplace=False).plot.barh(figsize=(10, 30))\n",
    "plt.xlabel('Column Names')\n",
    "plt.ylabel('Missing Rate')\n",
    "plt.show()"
   ]
  },
  {
   "cell_type": "code",
   "execution_count": 14,
   "metadata": {},
   "outputs": [
    {
     "name": "stdout",
     "output_type": "stream",
     "text": [
      "['AGER_TYP', 'GEBURTSJAHR', 'TITEL_KZ', 'ALTER_HH', 'KK_KUNDENTYP', 'KBA05_BAUMAX']\n"
     ]
    }
   ],
   "source": [
    "outlier_col = list(missing_p[missing_p > 0.3].index)\n",
    "print(outlier_col)"
   ]
  },
  {
   "cell_type": "code",
   "execution_count": 15,
   "metadata": {},
   "outputs": [
    {
     "data": {
      "text/plain": [
       "(891221, 79)"
      ]
     },
     "execution_count": 15,
     "metadata": {},
     "output_type": "execute_result"
    }
   ],
   "source": [
    "# Remove the outlier columns from the dataset. (You'll perform other data\n",
    "# engineering tasks such as re-encoding and imputation later.)\n",
    "\n",
    "# Drop 6 outliers \n",
    "azdias.drop(list(outlier_col),axis=1,inplace=True)\n",
    "azdias.shape"
   ]
  },
  {
   "cell_type": "code",
   "execution_count": 16,
   "metadata": {},
   "outputs": [],
   "source": [
    "feat_info_with_missing = feat_info\n",
    "# feat_info_with_missing= pd.concat([feat_info_with_missing,\n",
    "#                                    pd.DataFrame(missing_data,columns=['missing_count'])['missing_count'],\n",
    "#                                    pd.DataFrame(missing_p,columns=['missing_p'])['missing_p']], axis=1, join='outer')\n",
    "# pd.DataFrame(missing_data,columns=['attribute','missing_count'])\n",
    "missing_table = pd.concat([pd.DataFrame(missing_data,columns=['missing_count']),\n",
    "                           pd.DataFrame(missing_p,columns=['missing_p'])], axis=1)\n",
    "missing_table.name = 'attribute'\n",
    "missing_table.reset_index(inplace=True)\n",
    "feat_info_with_missing = pd.concat([feat_info_with_missing,missing_table], axis=1)"
   ]
  },
  {
   "cell_type": "code",
   "execution_count": 17,
   "metadata": {},
   "outputs": [],
   "source": [
    "feat_info_with_missing = feat_info\n",
    "# feat_info_with_missing= pd.concat([feat_info_with_missing,\n",
    "#                                    pd.DataFrame(missing_data,columns=['missing_count'])['missing_count'],\n",
    "#                                    pd.DataFrame(missing_p,columns=['missing_p'])['missing_p']], axis=1, join='outer')\n",
    "# pd.DataFrame(missing_data,columns=['attribute','missing_count'])\n",
    "missing_table = pd.concat([pd.DataFrame(missing_data,columns=['missing_count']),\n",
    "                           pd.DataFrame(missing_p,columns=['missing_p'])], axis=1)\n",
    "missing_table.name = 'attribute'\n",
    "missing_table.reset_index(inplace=True)\n",
    "feat_info_with_missing = pd.concat([feat_info_with_missing,missing_table], axis=1)"
   ]
  },
  {
   "cell_type": "code",
   "execution_count": 18,
   "metadata": {},
   "outputs": [
    {
     "data": {
      "text/html": [
       "<div>\n",
       "<style scoped>\n",
       "    .dataframe tbody tr th:only-of-type {\n",
       "        vertical-align: middle;\n",
       "    }\n",
       "\n",
       "    .dataframe tbody tr th {\n",
       "        vertical-align: top;\n",
       "    }\n",
       "\n",
       "    .dataframe thead th {\n",
       "        text-align: right;\n",
       "    }\n",
       "</style>\n",
       "<table border=\"1\" class=\"dataframe\">\n",
       "  <thead>\n",
       "    <tr style=\"text-align: right;\">\n",
       "      <th></th>\n",
       "      <th>attribute</th>\n",
       "      <th>information_level</th>\n",
       "      <th>type</th>\n",
       "      <th>missing_or_unknown</th>\n",
       "      <th>index</th>\n",
       "      <th>missing_count</th>\n",
       "      <th>missing_p</th>\n",
       "    </tr>\n",
       "  </thead>\n",
       "  <tbody>\n",
       "    <tr>\n",
       "      <th>40</th>\n",
       "      <td>TITEL_KZ</td>\n",
       "      <td>person</td>\n",
       "      <td>categorical</td>\n",
       "      <td>[-1, 0]</td>\n",
       "      <td>TITEL_KZ</td>\n",
       "      <td>889061</td>\n",
       "      <td>0.997576</td>\n",
       "    </tr>\n",
       "    <tr>\n",
       "      <th>0</th>\n",
       "      <td>AGER_TYP</td>\n",
       "      <td>person</td>\n",
       "      <td>categorical</td>\n",
       "      <td>[-1, 0]</td>\n",
       "      <td>AGER_TYP</td>\n",
       "      <td>685843</td>\n",
       "      <td>0.769554</td>\n",
       "    </tr>\n",
       "    <tr>\n",
       "      <th>47</th>\n",
       "      <td>KK_KUNDENTYP</td>\n",
       "      <td>household</td>\n",
       "      <td>categorical</td>\n",
       "      <td>[-1]</td>\n",
       "      <td>KK_KUNDENTYP</td>\n",
       "      <td>584612</td>\n",
       "      <td>0.655967</td>\n",
       "    </tr>\n",
       "    <tr>\n",
       "      <th>64</th>\n",
       "      <td>KBA05_BAUMAX</td>\n",
       "      <td>microcell_rr3</td>\n",
       "      <td>mixed</td>\n",
       "      <td>[-1, 0]</td>\n",
       "      <td>KBA05_BAUMAX</td>\n",
       "      <td>476524</td>\n",
       "      <td>0.534687</td>\n",
       "    </tr>\n",
       "    <tr>\n",
       "      <th>11</th>\n",
       "      <td>GEBURTSJAHR</td>\n",
       "      <td>person</td>\n",
       "      <td>numeric</td>\n",
       "      <td>[0]</td>\n",
       "      <td>GEBURTSJAHR</td>\n",
       "      <td>392318</td>\n",
       "      <td>0.440203</td>\n",
       "    </tr>\n",
       "    <tr>\n",
       "      <th>43</th>\n",
       "      <td>ALTER_HH</td>\n",
       "      <td>household</td>\n",
       "      <td>interval</td>\n",
       "      <td>[0]</td>\n",
       "      <td>ALTER_HH</td>\n",
       "      <td>310267</td>\n",
       "      <td>0.348137</td>\n",
       "    </tr>\n",
       "    <tr>\n",
       "      <th>70</th>\n",
       "      <td>KKK</td>\n",
       "      <td>region_rr1</td>\n",
       "      <td>ordinal</td>\n",
       "      <td>[-1, 0]</td>\n",
       "      <td>KKK</td>\n",
       "      <td>158064</td>\n",
       "      <td>0.177357</td>\n",
       "    </tr>\n",
       "    <tr>\n",
       "      <th>73</th>\n",
       "      <td>REGIOTYP</td>\n",
       "      <td>region_rr1</td>\n",
       "      <td>ordinal</td>\n",
       "      <td>[-1, 0]</td>\n",
       "      <td>REGIOTYP</td>\n",
       "      <td>158064</td>\n",
       "      <td>0.177357</td>\n",
       "    </tr>\n",
       "    <tr>\n",
       "      <th>48</th>\n",
       "      <td>W_KEIT_KIND_HH</td>\n",
       "      <td>household</td>\n",
       "      <td>ordinal</td>\n",
       "      <td>[-1, 0]</td>\n",
       "      <td>W_KEIT_KIND_HH</td>\n",
       "      <td>147988</td>\n",
       "      <td>0.166051</td>\n",
       "    </tr>\n",
       "    <tr>\n",
       "      <th>60</th>\n",
       "      <td>KBA05_ANTG1</td>\n",
       "      <td>microcell_rr3</td>\n",
       "      <td>ordinal</td>\n",
       "      <td>[-1]</td>\n",
       "      <td>KBA05_ANTG1</td>\n",
       "      <td>133324</td>\n",
       "      <td>0.149597</td>\n",
       "    </tr>\n",
       "    <tr>\n",
       "      <th>61</th>\n",
       "      <td>KBA05_ANTG2</td>\n",
       "      <td>microcell_rr3</td>\n",
       "      <td>ordinal</td>\n",
       "      <td>[-1]</td>\n",
       "      <td>KBA05_ANTG2</td>\n",
       "      <td>133324</td>\n",
       "      <td>0.149597</td>\n",
       "    </tr>\n",
       "    <tr>\n",
       "      <th>62</th>\n",
       "      <td>KBA05_ANTG3</td>\n",
       "      <td>microcell_rr3</td>\n",
       "      <td>ordinal</td>\n",
       "      <td>[-1]</td>\n",
       "      <td>KBA05_ANTG3</td>\n",
       "      <td>133324</td>\n",
       "      <td>0.149597</td>\n",
       "    </tr>\n",
       "    <tr>\n",
       "      <th>63</th>\n",
       "      <td>KBA05_ANTG4</td>\n",
       "      <td>microcell_rr3</td>\n",
       "      <td>ordinal</td>\n",
       "      <td>[-1]</td>\n",
       "      <td>KBA05_ANTG4</td>\n",
       "      <td>133324</td>\n",
       "      <td>0.149597</td>\n",
       "    </tr>\n",
       "    <tr>\n",
       "      <th>65</th>\n",
       "      <td>KBA05_GBZ</td>\n",
       "      <td>microcell_rr3</td>\n",
       "      <td>ordinal</td>\n",
       "      <td>[-1, 0]</td>\n",
       "      <td>KBA05_GBZ</td>\n",
       "      <td>133324</td>\n",
       "      <td>0.149597</td>\n",
       "    </tr>\n",
       "    <tr>\n",
       "      <th>71</th>\n",
       "      <td>MOBI_REGIO</td>\n",
       "      <td>region_rr1</td>\n",
       "      <td>ordinal</td>\n",
       "      <td>[]</td>\n",
       "      <td>MOBI_REGIO</td>\n",
       "      <td>133324</td>\n",
       "      <td>0.149597</td>\n",
       "    </tr>\n",
       "    <tr>\n",
       "      <th>77</th>\n",
       "      <td>PLZ8_ANTG3</td>\n",
       "      <td>macrocell_plz8</td>\n",
       "      <td>ordinal</td>\n",
       "      <td>[-1]</td>\n",
       "      <td>PLZ8_ANTG3</td>\n",
       "      <td>116515</td>\n",
       "      <td>0.130736</td>\n",
       "    </tr>\n",
       "    <tr>\n",
       "      <th>76</th>\n",
       "      <td>PLZ8_ANTG2</td>\n",
       "      <td>macrocell_plz8</td>\n",
       "      <td>ordinal</td>\n",
       "      <td>[-1]</td>\n",
       "      <td>PLZ8_ANTG2</td>\n",
       "      <td>116515</td>\n",
       "      <td>0.130736</td>\n",
       "    </tr>\n",
       "    <tr>\n",
       "      <th>81</th>\n",
       "      <td>PLZ8_GBZ</td>\n",
       "      <td>macrocell_plz8</td>\n",
       "      <td>ordinal</td>\n",
       "      <td>[-1]</td>\n",
       "      <td>PLZ8_GBZ</td>\n",
       "      <td>116515</td>\n",
       "      <td>0.130736</td>\n",
       "    </tr>\n",
       "    <tr>\n",
       "      <th>80</th>\n",
       "      <td>PLZ8_HHZ</td>\n",
       "      <td>macrocell_plz8</td>\n",
       "      <td>ordinal</td>\n",
       "      <td>[-1]</td>\n",
       "      <td>PLZ8_HHZ</td>\n",
       "      <td>116515</td>\n",
       "      <td>0.130736</td>\n",
       "    </tr>\n",
       "    <tr>\n",
       "      <th>75</th>\n",
       "      <td>PLZ8_ANTG1</td>\n",
       "      <td>macrocell_plz8</td>\n",
       "      <td>ordinal</td>\n",
       "      <td>[-1]</td>\n",
       "      <td>PLZ8_ANTG1</td>\n",
       "      <td>116515</td>\n",
       "      <td>0.130736</td>\n",
       "    </tr>\n",
       "    <tr>\n",
       "      <th>79</th>\n",
       "      <td>PLZ8_BAUMAX</td>\n",
       "      <td>macrocell_plz8</td>\n",
       "      <td>mixed</td>\n",
       "      <td>[-1, 0]</td>\n",
       "      <td>PLZ8_BAUMAX</td>\n",
       "      <td>116515</td>\n",
       "      <td>0.130736</td>\n",
       "    </tr>\n",
       "    <tr>\n",
       "      <th>78</th>\n",
       "      <td>PLZ8_ANTG4</td>\n",
       "      <td>macrocell_plz8</td>\n",
       "      <td>ordinal</td>\n",
       "      <td>[-1]</td>\n",
       "      <td>PLZ8_ANTG4</td>\n",
       "      <td>116515</td>\n",
       "      <td>0.130736</td>\n",
       "    </tr>\n",
       "    <tr>\n",
       "      <th>41</th>\n",
       "      <td>VERS_TYP</td>\n",
       "      <td>person</td>\n",
       "      <td>categorical</td>\n",
       "      <td>[-1]</td>\n",
       "      <td>VERS_TYP</td>\n",
       "      <td>111196</td>\n",
       "      <td>0.124768</td>\n",
       "    </tr>\n",
       "    <tr>\n",
       "      <th>14</th>\n",
       "      <td>HEALTH_TYP</td>\n",
       "      <td>person</td>\n",
       "      <td>ordinal</td>\n",
       "      <td>[-1, 0]</td>\n",
       "      <td>HEALTH_TYP</td>\n",
       "      <td>111196</td>\n",
       "      <td>0.124768</td>\n",
       "    </tr>\n",
       "    <tr>\n",
       "      <th>38</th>\n",
       "      <td>SHOPPER_TYP</td>\n",
       "      <td>person</td>\n",
       "      <td>categorical</td>\n",
       "      <td>[-1]</td>\n",
       "      <td>SHOPPER_TYP</td>\n",
       "      <td>111196</td>\n",
       "      <td>0.124768</td>\n",
       "    </tr>\n",
       "    <tr>\n",
       "      <th>21</th>\n",
       "      <td>NATIONALITAET_KZ</td>\n",
       "      <td>person</td>\n",
       "      <td>categorical</td>\n",
       "      <td>[-1, 0]</td>\n",
       "      <td>NATIONALITAET_KZ</td>\n",
       "      <td>108315</td>\n",
       "      <td>0.121536</td>\n",
       "    </tr>\n",
       "    <tr>\n",
       "      <th>22</th>\n",
       "      <td>PRAEGENDE_JUGENDJAHRE</td>\n",
       "      <td>person</td>\n",
       "      <td>mixed</td>\n",
       "      <td>[-1, 0]</td>\n",
       "      <td>PRAEGENDE_JUGENDJAHRE</td>\n",
       "      <td>108164</td>\n",
       "      <td>0.121366</td>\n",
       "    </tr>\n",
       "    <tr>\n",
       "      <th>74</th>\n",
       "      <td>KBA13_ANZAHL_PKW</td>\n",
       "      <td>macrocell_plz8</td>\n",
       "      <td>numeric</td>\n",
       "      <td>[]</td>\n",
       "      <td>KBA13_ANZAHL_PKW</td>\n",
       "      <td>105800</td>\n",
       "      <td>0.118714</td>\n",
       "    </tr>\n",
       "    <tr>\n",
       "      <th>50</th>\n",
       "      <td>ANZ_HAUSHALTE_AKTIV</td>\n",
       "      <td>building</td>\n",
       "      <td>numeric</td>\n",
       "      <td>[0]</td>\n",
       "      <td>ANZ_HAUSHALTE_AKTIV</td>\n",
       "      <td>99611</td>\n",
       "      <td>0.111769</td>\n",
       "    </tr>\n",
       "    <tr>\n",
       "      <th>59</th>\n",
       "      <td>CAMEO_INTL_2015</td>\n",
       "      <td>microcell_rr4</td>\n",
       "      <td>mixed</td>\n",
       "      <td>[-1, XX]</td>\n",
       "      <td>CAMEO_INTL_2015</td>\n",
       "      <td>99352</td>\n",
       "      <td>0.111479</td>\n",
       "    </tr>\n",
       "    <tr>\n",
       "      <th>...</th>\n",
       "      <td>...</td>\n",
       "      <td>...</td>\n",
       "      <td>...</td>\n",
       "      <td>...</td>\n",
       "      <td>...</td>\n",
       "      <td>...</td>\n",
       "      <td>...</td>\n",
       "    </tr>\n",
       "    <tr>\n",
       "      <th>3</th>\n",
       "      <td>CJT_GESAMTTYP</td>\n",
       "      <td>person</td>\n",
       "      <td>categorical</td>\n",
       "      <td>[0]</td>\n",
       "      <td>CJT_GESAMTTYP</td>\n",
       "      <td>4854</td>\n",
       "      <td>0.005446</td>\n",
       "    </tr>\n",
       "    <tr>\n",
       "      <th>19</th>\n",
       "      <td>LP_STATUS_FEIN</td>\n",
       "      <td>person</td>\n",
       "      <td>categorical</td>\n",
       "      <td>[0]</td>\n",
       "      <td>LP_STATUS_FEIN</td>\n",
       "      <td>4854</td>\n",
       "      <td>0.005446</td>\n",
       "    </tr>\n",
       "    <tr>\n",
       "      <th>20</th>\n",
       "      <td>LP_STATUS_GROB</td>\n",
       "      <td>person</td>\n",
       "      <td>categorical</td>\n",
       "      <td>[0]</td>\n",
       "      <td>LP_STATUS_GROB</td>\n",
       "      <td>4854</td>\n",
       "      <td>0.005446</td>\n",
       "    </tr>\n",
       "    <tr>\n",
       "      <th>23</th>\n",
       "      <td>RETOURTYP_BK_S</td>\n",
       "      <td>person</td>\n",
       "      <td>ordinal</td>\n",
       "      <td>[0]</td>\n",
       "      <td>RETOURTYP_BK_S</td>\n",
       "      <td>4854</td>\n",
       "      <td>0.005446</td>\n",
       "    </tr>\n",
       "    <tr>\n",
       "      <th>72</th>\n",
       "      <td>ONLINE_AFFINITAET</td>\n",
       "      <td>region_rr1</td>\n",
       "      <td>ordinal</td>\n",
       "      <td>[]</td>\n",
       "      <td>ONLINE_AFFINITAET</td>\n",
       "      <td>4854</td>\n",
       "      <td>0.005446</td>\n",
       "    </tr>\n",
       "    <tr>\n",
       "      <th>1</th>\n",
       "      <td>ALTERSKATEGORIE_GROB</td>\n",
       "      <td>person</td>\n",
       "      <td>ordinal</td>\n",
       "      <td>[-1, 0, 9]</td>\n",
       "      <td>ALTERSKATEGORIE_GROB</td>\n",
       "      <td>2881</td>\n",
       "      <td>0.003233</td>\n",
       "    </tr>\n",
       "    <tr>\n",
       "      <th>8</th>\n",
       "      <td>FINANZ_UNAUFFAELLIGER</td>\n",
       "      <td>person</td>\n",
       "      <td>ordinal</td>\n",
       "      <td>[-1]</td>\n",
       "      <td>FINANZ_UNAUFFAELLIGER</td>\n",
       "      <td>0</td>\n",
       "      <td>0.000000</td>\n",
       "    </tr>\n",
       "    <tr>\n",
       "      <th>10</th>\n",
       "      <td>FINANZTYP</td>\n",
       "      <td>person</td>\n",
       "      <td>categorical</td>\n",
       "      <td>[-1]</td>\n",
       "      <td>FINANZTYP</td>\n",
       "      <td>0</td>\n",
       "      <td>0.000000</td>\n",
       "    </tr>\n",
       "    <tr>\n",
       "      <th>9</th>\n",
       "      <td>FINANZ_HAUSBAUER</td>\n",
       "      <td>person</td>\n",
       "      <td>ordinal</td>\n",
       "      <td>[-1]</td>\n",
       "      <td>FINANZ_HAUSBAUER</td>\n",
       "      <td>0</td>\n",
       "      <td>0.000000</td>\n",
       "    </tr>\n",
       "    <tr>\n",
       "      <th>13</th>\n",
       "      <td>GREEN_AVANTGARDE</td>\n",
       "      <td>person</td>\n",
       "      <td>categorical</td>\n",
       "      <td>[]</td>\n",
       "      <td>GREEN_AVANTGARDE</td>\n",
       "      <td>0</td>\n",
       "      <td>0.000000</td>\n",
       "    </tr>\n",
       "    <tr>\n",
       "      <th>5</th>\n",
       "      <td>FINANZ_SPARER</td>\n",
       "      <td>person</td>\n",
       "      <td>ordinal</td>\n",
       "      <td>[-1]</td>\n",
       "      <td>FINANZ_SPARER</td>\n",
       "      <td>0</td>\n",
       "      <td>0.000000</td>\n",
       "    </tr>\n",
       "    <tr>\n",
       "      <th>4</th>\n",
       "      <td>FINANZ_MINIMALIST</td>\n",
       "      <td>person</td>\n",
       "      <td>ordinal</td>\n",
       "      <td>[-1]</td>\n",
       "      <td>FINANZ_MINIMALIST</td>\n",
       "      <td>0</td>\n",
       "      <td>0.000000</td>\n",
       "    </tr>\n",
       "    <tr>\n",
       "      <th>6</th>\n",
       "      <td>FINANZ_VORSORGER</td>\n",
       "      <td>person</td>\n",
       "      <td>ordinal</td>\n",
       "      <td>[-1]</td>\n",
       "      <td>FINANZ_VORSORGER</td>\n",
       "      <td>0</td>\n",
       "      <td>0.000000</td>\n",
       "    </tr>\n",
       "    <tr>\n",
       "      <th>7</th>\n",
       "      <td>FINANZ_ANLEGER</td>\n",
       "      <td>person</td>\n",
       "      <td>ordinal</td>\n",
       "      <td>[-1]</td>\n",
       "      <td>FINANZ_ANLEGER</td>\n",
       "      <td>0</td>\n",
       "      <td>0.000000</td>\n",
       "    </tr>\n",
       "    <tr>\n",
       "      <th>2</th>\n",
       "      <td>ANREDE_KZ</td>\n",
       "      <td>person</td>\n",
       "      <td>categorical</td>\n",
       "      <td>[-1, 0]</td>\n",
       "      <td>ANREDE_KZ</td>\n",
       "      <td>0</td>\n",
       "      <td>0.000000</td>\n",
       "    </tr>\n",
       "    <tr>\n",
       "      <th>35</th>\n",
       "      <td>SEMIO_KAEM</td>\n",
       "      <td>person</td>\n",
       "      <td>ordinal</td>\n",
       "      <td>[-1, 9]</td>\n",
       "      <td>SEMIO_KAEM</td>\n",
       "      <td>0</td>\n",
       "      <td>0.000000</td>\n",
       "    </tr>\n",
       "    <tr>\n",
       "      <th>24</th>\n",
       "      <td>SEMIO_SOZ</td>\n",
       "      <td>person</td>\n",
       "      <td>ordinal</td>\n",
       "      <td>[-1, 9]</td>\n",
       "      <td>SEMIO_SOZ</td>\n",
       "      <td>0</td>\n",
       "      <td>0.000000</td>\n",
       "    </tr>\n",
       "    <tr>\n",
       "      <th>36</th>\n",
       "      <td>SEMIO_PFLICHT</td>\n",
       "      <td>person</td>\n",
       "      <td>ordinal</td>\n",
       "      <td>[-1, 9]</td>\n",
       "      <td>SEMIO_PFLICHT</td>\n",
       "      <td>0</td>\n",
       "      <td>0.000000</td>\n",
       "    </tr>\n",
       "    <tr>\n",
       "      <th>25</th>\n",
       "      <td>SEMIO_FAM</td>\n",
       "      <td>person</td>\n",
       "      <td>ordinal</td>\n",
       "      <td>[-1, 9]</td>\n",
       "      <td>SEMIO_FAM</td>\n",
       "      <td>0</td>\n",
       "      <td>0.000000</td>\n",
       "    </tr>\n",
       "    <tr>\n",
       "      <th>26</th>\n",
       "      <td>SEMIO_REL</td>\n",
       "      <td>person</td>\n",
       "      <td>ordinal</td>\n",
       "      <td>[-1, 9]</td>\n",
       "      <td>SEMIO_REL</td>\n",
       "      <td>0</td>\n",
       "      <td>0.000000</td>\n",
       "    </tr>\n",
       "    <tr>\n",
       "      <th>27</th>\n",
       "      <td>SEMIO_MAT</td>\n",
       "      <td>person</td>\n",
       "      <td>ordinal</td>\n",
       "      <td>[-1, 9]</td>\n",
       "      <td>SEMIO_MAT</td>\n",
       "      <td>0</td>\n",
       "      <td>0.000000</td>\n",
       "    </tr>\n",
       "    <tr>\n",
       "      <th>28</th>\n",
       "      <td>SEMIO_VERT</td>\n",
       "      <td>person</td>\n",
       "      <td>ordinal</td>\n",
       "      <td>[-1, 9]</td>\n",
       "      <td>SEMIO_VERT</td>\n",
       "      <td>0</td>\n",
       "      <td>0.000000</td>\n",
       "    </tr>\n",
       "    <tr>\n",
       "      <th>29</th>\n",
       "      <td>SEMIO_LUST</td>\n",
       "      <td>person</td>\n",
       "      <td>ordinal</td>\n",
       "      <td>[-1, 9]</td>\n",
       "      <td>SEMIO_LUST</td>\n",
       "      <td>0</td>\n",
       "      <td>0.000000</td>\n",
       "    </tr>\n",
       "    <tr>\n",
       "      <th>30</th>\n",
       "      <td>SEMIO_ERL</td>\n",
       "      <td>person</td>\n",
       "      <td>ordinal</td>\n",
       "      <td>[-1, 9]</td>\n",
       "      <td>SEMIO_ERL</td>\n",
       "      <td>0</td>\n",
       "      <td>0.000000</td>\n",
       "    </tr>\n",
       "    <tr>\n",
       "      <th>31</th>\n",
       "      <td>SEMIO_KULT</td>\n",
       "      <td>person</td>\n",
       "      <td>ordinal</td>\n",
       "      <td>[-1, 9]</td>\n",
       "      <td>SEMIO_KULT</td>\n",
       "      <td>0</td>\n",
       "      <td>0.000000</td>\n",
       "    </tr>\n",
       "    <tr>\n",
       "      <th>32</th>\n",
       "      <td>SEMIO_RAT</td>\n",
       "      <td>person</td>\n",
       "      <td>ordinal</td>\n",
       "      <td>[-1, 9]</td>\n",
       "      <td>SEMIO_RAT</td>\n",
       "      <td>0</td>\n",
       "      <td>0.000000</td>\n",
       "    </tr>\n",
       "    <tr>\n",
       "      <th>33</th>\n",
       "      <td>SEMIO_KRIT</td>\n",
       "      <td>person</td>\n",
       "      <td>ordinal</td>\n",
       "      <td>[-1, 9]</td>\n",
       "      <td>SEMIO_KRIT</td>\n",
       "      <td>0</td>\n",
       "      <td>0.000000</td>\n",
       "    </tr>\n",
       "    <tr>\n",
       "      <th>34</th>\n",
       "      <td>SEMIO_DOM</td>\n",
       "      <td>person</td>\n",
       "      <td>ordinal</td>\n",
       "      <td>[-1, 9]</td>\n",
       "      <td>SEMIO_DOM</td>\n",
       "      <td>0</td>\n",
       "      <td>0.000000</td>\n",
       "    </tr>\n",
       "    <tr>\n",
       "      <th>37</th>\n",
       "      <td>SEMIO_TRADV</td>\n",
       "      <td>person</td>\n",
       "      <td>ordinal</td>\n",
       "      <td>[-1, 9]</td>\n",
       "      <td>SEMIO_TRADV</td>\n",
       "      <td>0</td>\n",
       "      <td>0.000000</td>\n",
       "    </tr>\n",
       "    <tr>\n",
       "      <th>42</th>\n",
       "      <td>ZABEOTYP</td>\n",
       "      <td>person</td>\n",
       "      <td>categorical</td>\n",
       "      <td>[-1, 9]</td>\n",
       "      <td>ZABEOTYP</td>\n",
       "      <td>0</td>\n",
       "      <td>0.000000</td>\n",
       "    </tr>\n",
       "  </tbody>\n",
       "</table>\n",
       "<p>85 rows × 7 columns</p>\n",
       "</div>"
      ],
      "text/plain": [
       "                attribute information_level         type missing_or_unknown  \\\n",
       "40               TITEL_KZ            person  categorical            [-1, 0]   \n",
       "0                AGER_TYP            person  categorical            [-1, 0]   \n",
       "47           KK_KUNDENTYP         household  categorical               [-1]   \n",
       "64           KBA05_BAUMAX     microcell_rr3        mixed            [-1, 0]   \n",
       "11            GEBURTSJAHR            person      numeric                [0]   \n",
       "43               ALTER_HH         household     interval                [0]   \n",
       "70                    KKK        region_rr1      ordinal            [-1, 0]   \n",
       "73               REGIOTYP        region_rr1      ordinal            [-1, 0]   \n",
       "48         W_KEIT_KIND_HH         household      ordinal            [-1, 0]   \n",
       "60            KBA05_ANTG1     microcell_rr3      ordinal               [-1]   \n",
       "61            KBA05_ANTG2     microcell_rr3      ordinal               [-1]   \n",
       "62            KBA05_ANTG3     microcell_rr3      ordinal               [-1]   \n",
       "63            KBA05_ANTG4     microcell_rr3      ordinal               [-1]   \n",
       "65              KBA05_GBZ     microcell_rr3      ordinal            [-1, 0]   \n",
       "71             MOBI_REGIO        region_rr1      ordinal                 []   \n",
       "77             PLZ8_ANTG3    macrocell_plz8      ordinal               [-1]   \n",
       "76             PLZ8_ANTG2    macrocell_plz8      ordinal               [-1]   \n",
       "81               PLZ8_GBZ    macrocell_plz8      ordinal               [-1]   \n",
       "80               PLZ8_HHZ    macrocell_plz8      ordinal               [-1]   \n",
       "75             PLZ8_ANTG1    macrocell_plz8      ordinal               [-1]   \n",
       "79            PLZ8_BAUMAX    macrocell_plz8        mixed            [-1, 0]   \n",
       "78             PLZ8_ANTG4    macrocell_plz8      ordinal               [-1]   \n",
       "41               VERS_TYP            person  categorical               [-1]   \n",
       "14             HEALTH_TYP            person      ordinal            [-1, 0]   \n",
       "38            SHOPPER_TYP            person  categorical               [-1]   \n",
       "21       NATIONALITAET_KZ            person  categorical            [-1, 0]   \n",
       "22  PRAEGENDE_JUGENDJAHRE            person        mixed            [-1, 0]   \n",
       "74       KBA13_ANZAHL_PKW    macrocell_plz8      numeric                 []   \n",
       "50    ANZ_HAUSHALTE_AKTIV          building      numeric                [0]   \n",
       "59        CAMEO_INTL_2015     microcell_rr4        mixed           [-1, XX]   \n",
       "..                    ...               ...          ...                ...   \n",
       "3           CJT_GESAMTTYP            person  categorical                [0]   \n",
       "19         LP_STATUS_FEIN            person  categorical                [0]   \n",
       "20         LP_STATUS_GROB            person  categorical                [0]   \n",
       "23         RETOURTYP_BK_S            person      ordinal                [0]   \n",
       "72      ONLINE_AFFINITAET        region_rr1      ordinal                 []   \n",
       "1    ALTERSKATEGORIE_GROB            person      ordinal         [-1, 0, 9]   \n",
       "8   FINANZ_UNAUFFAELLIGER            person      ordinal               [-1]   \n",
       "10              FINANZTYP            person  categorical               [-1]   \n",
       "9        FINANZ_HAUSBAUER            person      ordinal               [-1]   \n",
       "13       GREEN_AVANTGARDE            person  categorical                 []   \n",
       "5           FINANZ_SPARER            person      ordinal               [-1]   \n",
       "4       FINANZ_MINIMALIST            person      ordinal               [-1]   \n",
       "6        FINANZ_VORSORGER            person      ordinal               [-1]   \n",
       "7          FINANZ_ANLEGER            person      ordinal               [-1]   \n",
       "2               ANREDE_KZ            person  categorical            [-1, 0]   \n",
       "35             SEMIO_KAEM            person      ordinal            [-1, 9]   \n",
       "24              SEMIO_SOZ            person      ordinal            [-1, 9]   \n",
       "36          SEMIO_PFLICHT            person      ordinal            [-1, 9]   \n",
       "25              SEMIO_FAM            person      ordinal            [-1, 9]   \n",
       "26              SEMIO_REL            person      ordinal            [-1, 9]   \n",
       "27              SEMIO_MAT            person      ordinal            [-1, 9]   \n",
       "28             SEMIO_VERT            person      ordinal            [-1, 9]   \n",
       "29             SEMIO_LUST            person      ordinal            [-1, 9]   \n",
       "30              SEMIO_ERL            person      ordinal            [-1, 9]   \n",
       "31             SEMIO_KULT            person      ordinal            [-1, 9]   \n",
       "32              SEMIO_RAT            person      ordinal            [-1, 9]   \n",
       "33             SEMIO_KRIT            person      ordinal            [-1, 9]   \n",
       "34              SEMIO_DOM            person      ordinal            [-1, 9]   \n",
       "37            SEMIO_TRADV            person      ordinal            [-1, 9]   \n",
       "42               ZABEOTYP            person  categorical            [-1, 9]   \n",
       "\n",
       "                    index  missing_count  missing_p  \n",
       "40               TITEL_KZ         889061   0.997576  \n",
       "0                AGER_TYP         685843   0.769554  \n",
       "47           KK_KUNDENTYP         584612   0.655967  \n",
       "64           KBA05_BAUMAX         476524   0.534687  \n",
       "11            GEBURTSJAHR         392318   0.440203  \n",
       "43               ALTER_HH         310267   0.348137  \n",
       "70                    KKK         158064   0.177357  \n",
       "73               REGIOTYP         158064   0.177357  \n",
       "48         W_KEIT_KIND_HH         147988   0.166051  \n",
       "60            KBA05_ANTG1         133324   0.149597  \n",
       "61            KBA05_ANTG2         133324   0.149597  \n",
       "62            KBA05_ANTG3         133324   0.149597  \n",
       "63            KBA05_ANTG4         133324   0.149597  \n",
       "65              KBA05_GBZ         133324   0.149597  \n",
       "71             MOBI_REGIO         133324   0.149597  \n",
       "77             PLZ8_ANTG3         116515   0.130736  \n",
       "76             PLZ8_ANTG2         116515   0.130736  \n",
       "81               PLZ8_GBZ         116515   0.130736  \n",
       "80               PLZ8_HHZ         116515   0.130736  \n",
       "75             PLZ8_ANTG1         116515   0.130736  \n",
       "79            PLZ8_BAUMAX         116515   0.130736  \n",
       "78             PLZ8_ANTG4         116515   0.130736  \n",
       "41               VERS_TYP         111196   0.124768  \n",
       "14             HEALTH_TYP         111196   0.124768  \n",
       "38            SHOPPER_TYP         111196   0.124768  \n",
       "21       NATIONALITAET_KZ         108315   0.121536  \n",
       "22  PRAEGENDE_JUGENDJAHRE         108164   0.121366  \n",
       "74       KBA13_ANZAHL_PKW         105800   0.118714  \n",
       "50    ANZ_HAUSHALTE_AKTIV          99611   0.111769  \n",
       "59        CAMEO_INTL_2015          99352   0.111479  \n",
       "..                    ...            ...        ...  \n",
       "3           CJT_GESAMTTYP           4854   0.005446  \n",
       "19         LP_STATUS_FEIN           4854   0.005446  \n",
       "20         LP_STATUS_GROB           4854   0.005446  \n",
       "23         RETOURTYP_BK_S           4854   0.005446  \n",
       "72      ONLINE_AFFINITAET           4854   0.005446  \n",
       "1    ALTERSKATEGORIE_GROB           2881   0.003233  \n",
       "8   FINANZ_UNAUFFAELLIGER              0   0.000000  \n",
       "10              FINANZTYP              0   0.000000  \n",
       "9        FINANZ_HAUSBAUER              0   0.000000  \n",
       "13       GREEN_AVANTGARDE              0   0.000000  \n",
       "5           FINANZ_SPARER              0   0.000000  \n",
       "4       FINANZ_MINIMALIST              0   0.000000  \n",
       "6        FINANZ_VORSORGER              0   0.000000  \n",
       "7          FINANZ_ANLEGER              0   0.000000  \n",
       "2               ANREDE_KZ              0   0.000000  \n",
       "35             SEMIO_KAEM              0   0.000000  \n",
       "24              SEMIO_SOZ              0   0.000000  \n",
       "36          SEMIO_PFLICHT              0   0.000000  \n",
       "25              SEMIO_FAM              0   0.000000  \n",
       "26              SEMIO_REL              0   0.000000  \n",
       "27              SEMIO_MAT              0   0.000000  \n",
       "28             SEMIO_VERT              0   0.000000  \n",
       "29             SEMIO_LUST              0   0.000000  \n",
       "30              SEMIO_ERL              0   0.000000  \n",
       "31             SEMIO_KULT              0   0.000000  \n",
       "32              SEMIO_RAT              0   0.000000  \n",
       "33             SEMIO_KRIT              0   0.000000  \n",
       "34              SEMIO_DOM              0   0.000000  \n",
       "37            SEMIO_TRADV              0   0.000000  \n",
       "42               ZABEOTYP              0   0.000000  \n",
       "\n",
       "[85 rows x 7 columns]"
      ]
     },
     "execution_count": 18,
     "metadata": {},
     "output_type": "execute_result"
    }
   ],
   "source": [
    "feat_info_with_missing.sort_values(by='missing_p',ascending=False, inplace=False)"
   ]
  },
  {
   "cell_type": "markdown",
   "metadata": {},
   "source": [
    "#### Discussion 1.1.2: Assess Missing Data in Each Column\n",
    "\n",
    "(Double click this cell and replace this text with your own text, reporting your observations regarding the amount of missing data in each column. Are there any patterns in missing values? Which columns were removed from the dataset?)\n",
    "\n",
    "There were 6 columns that had more than 30% of data missing. These were considered as outliers and were dropped. Most of columns had missing data less than 20%. When checking the feature info, there wasn't any pattern observed related to missing data ratio. "
   ]
  },
  {
   "cell_type": "markdown",
   "metadata": {},
   "source": [
    "#### Step 1.1.3: Assess Missing Data in Each Row\n",
    "\n",
    "Now, you'll perform a similar assessment for the rows of the dataset. How much data is missing in each row? As with the columns, you should see some groups of points that have a very different numbers of missing values. Divide the data into two subsets: one for data points that are above some threshold for missing values, and a second subset for points below that threshold.\n",
    "\n",
    "In order to know what to do with the outlier rows, we should see if the distribution of data values on columns that are not missing data (or are missing very little data) are similar or different between the two groups. Select at least five of these columns and compare the distribution of values.\n",
    "- You can use seaborn's [`countplot()`](https://seaborn.pydata.org/generated/seaborn.countplot.html) function to create a bar chart of code frequencies and matplotlib's [`subplot()`](https://matplotlib.org/api/_as_gen/matplotlib.pyplot.subplot.html) function to put bar charts for the two subplots side by side.\n",
    "- To reduce repeated code, you might want to write a function that can perform this comparison, taking as one of its arguments a column to be compared.\n",
    "\n",
    "Depending on what you observe in your comparison, this will have implications on how you approach your conclusions later in the analysis. If the distributions of non-missing features look similar between the data with many missing values and the data with few or no missing values, then we could argue that simply dropping those points from the analysis won't present a major issue. On the other hand, if the data with many missing values looks very different from the data with few or no missing values, then we should make a note on those data as special. We'll revisit these data later on. **Either way, you should continue your analysis for now using just the subset of the data with few or no missing values.**"
   ]
  },
  {
   "cell_type": "code",
   "execution_count": 19,
   "metadata": {},
   "outputs": [],
   "source": [
    "# How much data is missing in each row of the dataset?\n",
    "missing_data_row = azdias.isnull().sum(axis=1)\n",
    "missing_p_row = missing_data_row/azdias.shape[1]"
   ]
  },
  {
   "cell_type": "code",
   "execution_count": 20,
   "metadata": {},
   "outputs": [
    {
     "data": {
      "image/png": "[encoded data removed]",
      "text/plain": [
       "<matplotlib.figure.Figure at 0x7f99f5012438>"
      ]
     },
     "metadata": {
      "needs_background": "light"
     },
     "output_type": "display_data"
    }
   ],
   "source": [
    "# data missing ratio plot for rows\n",
    "plt.hist(missing_p_row, bins = 25)\n",
    "plt.xlabel('Missing Ratio')\n",
    "plt.ylabel('Counts')\n",
    "plt.show()"
   ]
  },
  {
   "cell_type": "code",
   "execution_count": 21,
   "metadata": {},
   "outputs": [],
   "source": [
    "# Write code to divide the data into two subsets based on the number of missing\n",
    "# values in each row."
   ]
  },
  {
   "cell_type": "code",
   "execution_count": 22,
   "metadata": {},
   "outputs": [
    {
     "data": {
      "text/plain": [
       "(144112, 79)"
      ]
     },
     "execution_count": 22,
     "metadata": {},
     "output_type": "execute_result"
    }
   ],
   "source": [
    "more_missing_data = azdias[missing_p_row>0.1].reset_index(drop=True)\n",
    "more_missing_data.shape"
   ]
  },
  {
   "cell_type": "code",
   "execution_count": 23,
   "metadata": {},
   "outputs": [
    {
     "data": {
      "text/plain": [
       "(747109, 79)"
      ]
     },
     "execution_count": 23,
     "metadata": {},
     "output_type": "execute_result"
    }
   ],
   "source": [
    "few_missing_data = azdias[missing_p_row<=0.1].reset_index(drop=True)\n",
    "few_missing_data.shape"
   ]
  },
  {
   "cell_type": "code",
   "execution_count": 24,
   "metadata": {},
   "outputs": [
    {
     "data": {
      "text/plain": [
       "array([70,  7, 37, 56, 50])"
      ]
     },
     "execution_count": 24,
     "metadata": {},
     "output_type": "execute_result"
    }
   ],
   "source": [
    "# Compare the distribution of values for at least five columns where there are\n",
    "# no or few missing values, between the two subsets.\n",
    "\n",
    "#set seed \n",
    "np.random.seed(40)\n",
    "sample_col_idx = np.random.randint(azdias.shape[1], size=5)\n",
    "sample_col_idx"
   ]
  },
  {
   "cell_type": "code",
   "execution_count": 25,
   "metadata": {},
   "outputs": [],
   "source": [
    "sample_few_missing = few_missing_data.iloc[:,sample_col_idx]\n",
    "sample_more_missing = more_missing_data.iloc[:,sample_col_idx]"
   ]
  },
  {
   "cell_type": "code",
   "execution_count": null,
   "metadata": {},
   "outputs": [],
   "source": [
    "# for idx in sample_col_idx:\n",
    "#     fig = plt.figure(figsize=(20, 5))\n",
    "#     fig.suptitle(azdias.columns[idx])\n",
    "#     ax1 = fig.add_subplot(121)\n",
    "#     ax1.title.set_text('More_missing_data')\n",
    "#     sns.countplot(more_missing_data[azdias.columns[idx]])\n",
    "#     ax2 = fig.add_subplot(122)\n",
    "#     ax2.title.set_text('few_missing_data')\n",
    "#     sns.countplot(few_missing_data[azdias.columns[idx]])\n",
    "#     plt.show();"
   ]
  },
  {
   "cell_type": "code",
   "execution_count": 26,
   "metadata": {},
   "outputs": [
    {
     "data": {
      "image/png": "[encoded data removed]",
      "text/plain": [
       "<matplotlib.figure.Figure at 0x7f99f4770dd8>"
      ]
     },
     "metadata": {
      "needs_background": "light"
     },
     "output_type": "display_data"
    },
    {
     "data": {
      "image/png": "[encoded data removed]",
      "text/plain": [
       "<matplotlib.figure.Figure at 0x7f99ee28a5c0>"
      ]
     },
     "metadata": {
      "needs_background": "light"
     },
     "output_type": "display_data"
    },
    {
     "data": {
      "image/png": "[encoded data removed]",
      "text/plain": [
       "<matplotlib.figure.Figure at 0x7f99f4605908>"
      ]
     },
     "metadata": {
      "needs_background": "light"
     },
     "output_type": "display_data"
    },
    {
     "data": {
      "image/png": "[encoded data removed]",
      "text/plain": [
       "<matplotlib.figure.Figure at 0x7f99f4551160>"
      ]
     },
     "metadata": {
      "needs_background": "light"
     },
     "output_type": "display_data"
    },
    {
     "data": {
      "image/png": "[encoded data removed]",
      "text/plain": [
       "<matplotlib.figure.Figure at 0x7f99f45b9438>"
      ]
     },
     "metadata": {
      "needs_background": "light"
     },
     "output_type": "display_data"
    }
   ],
   "source": [
    "for idx in sample_col_idx:\n",
    "    \n",
    "    fig = plt.figure(figsize=(25, 5))\n",
    "    fig.suptitle(azdias.columns[idx])\n",
    "    \n",
    "    ax1 = fig.add_subplot(121)\n",
    "    ax1.title.set_text('More_missing_data')\n",
    "    sns.countplot(more_missing_data[azdias.columns[idx]])\n",
    "#     ax1.set_ylim([0, 250000])\n",
    "    \n",
    "    ax2 = fig.add_subplot(122)\n",
    "    ax2.title.set_text('few_missing_data')\n",
    "    sns.countplot(few_missing_data[azdias.columns[idx]])\n",
    "#     ax2.set_ylim([0, 250000])\n",
    "    \n",
    "#     ax3 = fig.add_subplot(143)\n",
    "#     p_more = lambda i: len(i) / float(len(more_missing_data[azdias.columns[idx]])) * 100\n",
    "#     sns.barplot(x=more_missing_data[azdias.columns[idx]], y=more_missing_data[azdias.columns[idx]],  estimator=p_more)\n",
    "#     ax3.title.set_text('More_missing_data (normalized)')\n",
    "# #     (pd.Series(more_missing_data[azdias.columns[idx]]).value_counts(normalize=True, sort=False)*100).plot.bar()\n",
    "#     ax3.set(ylabel=\"Percent\")\n",
    "#     ax3.set_ylim([0, 50])\n",
    "    \n",
    "#     ax4 = fig.add_subplot(144)\n",
    "#     p_few = lambda i: len(i) / float(len(few_missing_data[azdias.columns[idx]])) * 100\n",
    "#     sns.barplot(x=few_missing_data[azdias.columns[idx]], y=few_missing_data[azdias.columns[idx]],  estimator=p_few)\n",
    "#     ax4.title.set_text('few_missing_data (normalized)')\n",
    "# #     (pd.Series(few_missing_data[azdias.columns[idx]]).value_counts(normalize=True, sort=False)*100).plot.bar()\n",
    "#     ax4.set(ylabel=\"Percent\")\n",
    "#     ax4.set_ylim([0, 50])\n",
    "    \n",
    "    plt.show();      "
   ]
  },
  {
   "cell_type": "markdown",
   "metadata": {},
   "source": [
    "#### Discussion 1.1.3: Assess Missing Data in Each Row\n",
    "\n",
    "(Double-click this cell and replace this text with your own text, reporting your observations regarding missing data in rows. Are the data with lots of missing values are qualitatively different from data with few or no missing values?)\n",
    "\n",
    "Data is defined as a \"few missing\" when it has less than or equal to 10% of missing features. If the data has more than 10% of missing feature, it was defined as \"more missing\". \n",
    "\n",
    "Five features were manually compared. Out of all five compared, the distrubution of few missing features and more missing features for four of them look similar. They are 'PLZ8_ANTG2', 'SOHO_KZ', 'KBA05_ANTG2', and 'OST_WEST_KZ'. The patterns generally look similar when comparting between few missing features and more missing features. This shows the data is qualitatively similar between the rows. \n",
    "\n",
    "However, for 'FINANZ_UNAUFFAELLIGER', the distribution looked significantly different. More missing data for 'FINANZ_UNAUFFAELLIGER' was left-skewed, where few missing data was right-skewed. This shows the data for more missing feature is qualitativey different from data with few missing features."
   ]
  },
  {
   "cell_type": "markdown",
   "metadata": {},
   "source": [
    "### Step 1.2: Select and Re-Encode Features\n",
    "\n",
    "Checking for missing data isn't the only way in which you can prepare a dataset for analysis. Since the unsupervised learning techniques to be used will only work on data that is encoded numerically, you need to make a few encoding changes or additional assumptions to be able to make progress. In addition, while almost all of the values in the dataset are encoded using numbers, not all of them represent numeric values. Check the third column of the feature summary (`feat_info`) for a summary of types of measurement.\n",
    "- For numeric and interval data, these features can be kept without changes.\n",
    "- Most of the variables in the dataset are ordinal in nature. While ordinal values may technically be non-linear in spacing, make the simplifying assumption that the ordinal variables can be treated as being interval in nature (that is, kept without any changes).\n",
    "- Special handling may be necessary for the remaining two variable types: categorical, and 'mixed'.\n",
    "\n",
    "In the first two parts of this sub-step, you will perform an investigation of the categorical and mixed-type features and make a decision on each of them, whether you will keep, drop, or re-encode each. Then, in the last part, you will create a new data frame with only the selected and engineered columns.\n",
    "\n",
    "Data wrangling is often the trickiest part of the data analysis process, and there's a lot of it to be done here. But stick with it: once you're done with this step, you'll be ready to get to the machine learning parts of the project!"
   ]
  },
  {
   "cell_type": "code",
   "execution_count": 27,
   "metadata": {},
   "outputs": [
    {
     "name": "stderr",
     "output_type": "stream",
     "text": [
      "/opt/conda/lib/python3.6/site-packages/ipykernel_launcher.py:11: SettingWithCopyWarning: \n",
      "A value is trying to be set on a copy of a slice from a DataFrame\n",
      "\n",
      "See the caveats in the documentation: http://pandas.pydata.org/pandas-docs/stable/indexing.html#indexing-view-versus-copy\n",
      "  # This is added back by InteractiveShellApp.init_path()\n"
     ]
    },
    {
     "data": {
      "text/html": [
       "<div>\n",
       "<style scoped>\n",
       "    .dataframe tbody tr th:only-of-type {\n",
       "        vertical-align: middle;\n",
       "    }\n",
       "\n",
       "    .dataframe tbody tr th {\n",
       "        vertical-align: top;\n",
       "    }\n",
       "\n",
       "    .dataframe thead th {\n",
       "        text-align: right;\n",
       "    }\n",
       "</style>\n",
       "<table border=\"1\" class=\"dataframe\">\n",
       "  <thead>\n",
       "    <tr style=\"text-align: right;\">\n",
       "      <th></th>\n",
       "      <th>unique_type</th>\n",
       "      <th>type_in_removed_col</th>\n",
       "    </tr>\n",
       "  </thead>\n",
       "  <tbody>\n",
       "    <tr>\n",
       "      <th>0</th>\n",
       "      <td>categorical</td>\n",
       "      <td>3.0</td>\n",
       "    </tr>\n",
       "    <tr>\n",
       "      <th>1</th>\n",
       "      <td>ordinal</td>\n",
       "      <td>0.0</td>\n",
       "    </tr>\n",
       "    <tr>\n",
       "      <th>2</th>\n",
       "      <td>numeric</td>\n",
       "      <td>1.0</td>\n",
       "    </tr>\n",
       "    <tr>\n",
       "      <th>3</th>\n",
       "      <td>mixed</td>\n",
       "      <td>1.0</td>\n",
       "    </tr>\n",
       "    <tr>\n",
       "      <th>4</th>\n",
       "      <td>interval</td>\n",
       "      <td>1.0</td>\n",
       "    </tr>\n",
       "  </tbody>\n",
       "</table>\n",
       "</div>"
      ],
      "text/plain": [
       "   unique_type  type_in_removed_col\n",
       "0  categorical                  3.0\n",
       "1      ordinal                  0.0\n",
       "2      numeric                  1.0\n",
       "3        mixed                  1.0\n",
       "4     interval                  1.0"
      ]
     },
     "execution_count": 27,
     "metadata": {},
     "output_type": "execute_result"
    }
   ],
   "source": [
    "# How many features are there of each data type?\n",
    "    \n",
    "unique_types = pd.concat([pd.DataFrame(feat_info.type.unique(),columns=['unique_type']),\n",
    "                          pd.DataFrame(np.zeros(len(feat_info.type.unique())),columns=['type_in_removed_col'])],axis=1)\n",
    "\n",
    "\n",
    "for removed_col in outlier_col:\n",
    "    removed_type = feat_info[feat_info['attribute']==removed_col].iloc[0]['type']\n",
    "    for n in np.arange(unique_types.shape[0]):\n",
    "        if unique_types['unique_type'][n]==removed_type:\n",
    "            unique_types['type_in_removed_col'][n] = unique_types['type_in_removed_col'][n]+1\n",
    "\n",
    "unique_types"
   ]
  },
  {
   "cell_type": "code",
   "execution_count": 28,
   "metadata": {},
   "outputs": [
    {
     "name": "stdout",
     "output_type": "stream",
     "text": [
      "categorical type count:  18\n",
      "ordinal type count:  49\n",
      "numeric type count:  6\n",
      "mixed type count:  6\n",
      "interval type count:  0\n"
     ]
    }
   ],
   "source": [
    "for unique_type in feat_info.type.unique():\n",
    "    u_remove = int(unique_types['type_in_removed_col'][unique_types.index[unique_types['unique_type']==unique_type].tolist()[0]])\n",
    "    u_type = sum(feat_info['type']==unique_type) - u_remove\n",
    "    print('{} type count: '.format(unique_type), u_type)"
   ]
  },
  {
   "cell_type": "markdown",
   "metadata": {},
   "source": [
    "#### Step 1.2.1: Re-Encode Categorical Features\n",
    "\n",
    "For categorical data, you would ordinarily need to encode the levels as dummy variables. Depending on the number of categories, perform one of the following:\n",
    "- For binary (two-level) categoricals that take numeric values, you can keep them without needing to do anything.\n",
    "- There is one binary variable that takes on non-numeric values. For this one, you need to re-encode the values as numbers or create a dummy variable.\n",
    "- For multi-level categoricals (three or more values), you can choose to encode the values using multiple dummy variables (e.g. via [OneHotEncoder](http://scikit-learn.org/stable/modules/generated/sklearn.preprocessing.OneHotEncoder.html)), or (to keep things straightforward) just drop them from the analysis. As always, document your choices in the Discussion section."
   ]
  },
  {
   "cell_type": "code",
   "execution_count": 29,
   "metadata": {},
   "outputs": [
    {
     "data": {
      "text/plain": [
       "(79, 4)"
      ]
     },
     "execution_count": 29,
     "metadata": {},
     "output_type": "execute_result"
    }
   ],
   "source": [
    "# Assess categorical variables: which are binary, which are multi-level, and\n",
    "# which one needs to be re-encoded?\n",
    "\n",
    "# Drop removed columns \n",
    "for removed_col in outlier_col:\n",
    "    feat_info=feat_info[feat_info['attribute']!=removed_col]\n",
    "feat_info.shape"
   ]
  },
  {
   "cell_type": "code",
   "execution_count": 30,
   "metadata": {},
   "outputs": [],
   "source": [
    "feat_categorical = feat_info[feat_info.type == 'categorical']['attribute']"
   ]
  },
  {
   "cell_type": "code",
   "execution_count": 31,
   "metadata": {},
   "outputs": [],
   "source": [
    "binary_categories = []\n",
    "multi_categories = []\n",
    "for attb in feat_categorical:\n",
    "    if few_missing_data[attb].nunique() > 2:\n",
    "        multi_categories.append(attb)\n",
    "    else:\n",
    "        binary_categories.append(attb)"
   ]
  },
  {
   "cell_type": "code",
   "execution_count": 32,
   "metadata": {},
   "outputs": [],
   "source": [
    "# There is one binary cateogry with non-numerical value \n",
    "few_missing_data['OST_WEST_KZ'].replace(['W', 'O'], [1, 0], inplace=True)"
   ]
  },
  {
   "cell_type": "code",
   "execution_count": 36,
   "metadata": {},
   "outputs": [
    {
     "data": {
      "text/plain": [
       "['CJT_GESAMTTYP',\n",
       " 'FINANZTYP',\n",
       " 'GFK_URLAUBERTYP',\n",
       " 'LP_FAMILIE_FEIN',\n",
       " 'LP_FAMILIE_GROB',\n",
       " 'LP_STATUS_FEIN',\n",
       " 'LP_STATUS_GROB',\n",
       " 'NATIONALITAET_KZ',\n",
       " 'SHOPPER_TYP',\n",
       " 'ZABEOTYP',\n",
       " 'GEBAEUDETYP',\n",
       " 'CAMEO_DEUG_2015',\n",
       " 'CAMEO_DEU_2015']"
      ]
     },
     "execution_count": 36,
     "metadata": {},
     "output_type": "execute_result"
    }
   ],
   "source": [
    "multi_categories"
   ]
  },
  {
   "cell_type": "code",
   "execution_count": 37,
   "metadata": {},
   "outputs": [],
   "source": [
    "# Re-encode categorical variable(s) to be kept in the analysis.\n",
    "# For convenience, the multi-level variables will be dropped \n",
    "few_missing_data.drop(multi_categories, axis = 1, inplace=True)\n",
    "\n",
    "# few_missing_data = pd.get_dummies(few_missing_data, columns=multi_categories)"
   ]
  },
  {
   "cell_type": "code",
   "execution_count": 38,
   "metadata": {},
   "outputs": [
    {
     "data": {
      "text/plain": [
       "(747109, 66)"
      ]
     },
     "execution_count": 38,
     "metadata": {},
     "output_type": "execute_result"
    }
   ],
   "source": [
    "few_missing_data.shape"
   ]
  },
  {
   "cell_type": "markdown",
   "metadata": {},
   "source": [
    "#### Discussion 1.2.1: Re-Encode Categorical Features\n",
    "\n",
    "(Double-click this cell and replace this text with your own text, reporting your findings and decisions regarding categorical features. Which ones did you keep, which did you drop, and what engineering steps did you perform?)\n",
    "\n",
    "A binary category feature, 'OST_WEST_KZ', was encoded with 1 and 0 because it only had non-numerical values. Multi-level categories were dropped for convenience."
   ]
  },
  {
   "cell_type": "markdown",
   "metadata": {},
   "source": [
    "#### Step 1.2.2: Engineer Mixed-Type Features\n",
    "\n",
    "There are a handful of features that are marked as \"mixed\" in the feature summary that require special treatment in order to be included in the analysis. There are two in particular that deserve attention; the handling of the rest are up to your own choices:\n",
    "- \"PRAEGENDE_JUGENDJAHRE\" combines information on three dimensions: generation by decade, movement (mainstream vs. avantgarde), and nation (east vs. west). While there aren't enough levels to disentangle east from west, you should create two new variables to capture the other two dimensions: an interval-type variable for decade, and a binary variable for movement.\n",
    "- \"CAMEO_INTL_2015\" combines information on two axes: wealth and life stage. Break up the two-digit codes by their 'tens'-place and 'ones'-place digits into two new ordinal variables (which, for the purposes of this project, is equivalent to just treating them as their raw numeric values).\n",
    "- If you decide to keep or engineer new features around the other mixed-type features, make sure you note your steps in the Discussion section.\n",
    "\n",
    "Be sure to check `Data_Dictionary.md` for the details needed to finish these tasks."
   ]
  },
  {
   "cell_type": "code",
   "execution_count": 39,
   "metadata": {},
   "outputs": [
    {
     "data": {
      "text/plain": [
       "15      LP_LEBENSPHASE_FEIN\n",
       "16      LP_LEBENSPHASE_GROB\n",
       "22    PRAEGENDE_JUGENDJAHRE\n",
       "56                 WOHNLAGE\n",
       "59          CAMEO_INTL_2015\n",
       "79              PLZ8_BAUMAX\n",
       "Name: attribute, dtype: object"
      ]
     },
     "execution_count": 39,
     "metadata": {},
     "output_type": "execute_result"
    }
   ],
   "source": [
    "feat_mix = feat_info[feat_info.type == 'mixed']['attribute']\n",
    "feat_mix"
   ]
  },
  {
   "cell_type": "code",
   "execution_count": 40,
   "metadata": {},
   "outputs": [],
   "source": [
    "# Investigate \"PRAEGENDE_JUGENDJAHRE\" and engineer two new variables.\n",
    "\n",
    "# Dominating movement of person's youth (avantgarde vs. mainstream; east vs. west)\n",
    "# - -1: unknown\n",
    "# -  0: unknown\n",
    "# -  1: 40s - war years (Mainstream, E+W)\n",
    "# -  2: 40s - reconstruction years (Avantgarde, E+W)\n",
    "# -  3: 50s - economic miracle (Mainstream, E+W)\n",
    "# -  4: 50s - milk bar / Individualisation (Avantgarde, E+W)\n",
    "# -  5: 60s - economic miracle (Mainstream, E+W)\n",
    "# -  6: 60s - generation 68 / student protestors (Avantgarde, W)\n",
    "# -  7: 60s - opponents to the building of the Wall (Avantgarde, E)\n",
    "# -  8: 70s - family orientation (Mainstream, E+W)\n",
    "# -  9: 70s - peace movement (Avantgarde, E+W)\n",
    "# - 10: 80s - Generation Golf (Mainstream, W)\n",
    "# - 11: 80s - ecological awareness (Avantgarde, W)\n",
    "# - 12: 80s - FDJ / communist party youth organisation (Mainstream, E)\n",
    "# - 13: 80s - Swords into ploughshares (Avantgarde, E)\n",
    "# - 14: 90s - digital media kids (Mainstream, E+W)\n",
    "# - 15: 90s - ecological awareness (Avantgarde, E+W)\n",
    "\n",
    "# Movement \n",
    "\n",
    "mov = []\n",
    "movement_n = 0 \n",
    "for n in few_missing_data['PRAEGENDE_JUGENDJAHRE']:\n",
    "    if n == np.nan:\n",
    "        movement_n = np.nan\n",
    "    elif n in [1,3,5,8,10,12,14]:\n",
    "        movement_n = 1\n",
    "    else:\n",
    "        movement_n = 0\n",
    "    mov.append(movement_n)\n",
    "# 0 = avantgarde\n",
    "# 1 = mainstream\n",
    "\n",
    "few_missing_data['PRAEGENDE_JUGENDJAHRE_MOVEMENT']=mov\n",
    "\n",
    "\n",
    "# Generation \n",
    "gen = []\n",
    "gen_n = 0 \n",
    "for n in few_missing_data['PRAEGENDE_JUGENDJAHRE']:\n",
    "    if n in [1, 2]:\n",
    "        gen_n = 0\n",
    "    elif n in [3, 4]:\n",
    "        gen_n = 1\n",
    "    elif n in [5, 6, 7]:\n",
    "        gen_n = 2\n",
    "    elif n in [8, 9]:\n",
    "        gen_n = 3\n",
    "    elif n in [10, 11, 12, 13]:\n",
    "        gen_n = 4\n",
    "    elif n in [10, 11, 12, 13]:\n",
    "        gen_n = 5\n",
    "    else:\n",
    "        gen_n = np.nan\n",
    "    gen.append(gen_n)\n",
    "\n",
    "# 0 = 40s\n",
    "# 1 = 50s\n",
    "# 2 = 60s\n",
    "# 3 = 70s\n",
    "# 4 = 80s\n",
    "# 5 = 90s\n",
    "\n",
    "few_missing_data['PRAEGENDE_JUGENDJAHRE_GENERATION']=gen\n"
   ]
  },
  {
   "cell_type": "code",
   "execution_count": 42,
   "metadata": {},
   "outputs": [],
   "source": [
    "# Investigate \"CAMEO_INTL_2015\" and engineer two new variables.\n",
    "# German CAMEO: Wealth / Life Stage Typology, mapped to international code\n",
    "# - -1: unknown\n",
    "# - 11: Wealthy Households - Pre-Family Couples & Singles\n",
    "# - 12: Wealthy Households - Young Couples With Children\n",
    "# - 13: Wealthy Households - Families With School Age Children\n",
    "# - 14: Wealthy Households - Older Families &  Mature Couples\n",
    "# - 15: Wealthy Households - Elders In Retirement\n",
    "# - 21: Prosperous Households - Pre-Family Couples & Singles\n",
    "# - 22: Prosperous Households - Young Couples With Children\n",
    "# - 23: Prosperous Households - Families With School Age Children\n",
    "# - 24: Prosperous Households - Older Families & Mature Couples\n",
    "# - 25: Prosperous Households - Elders In Retirement\n",
    "# - 31: Comfortable Households - Pre-Family Couples & Singles\n",
    "# - 32: Comfortable Households - Young Couples With Children\n",
    "# - 33: Comfortable Households - Families With School Age Children\n",
    "# - 34: Comfortable Households - Older Families & Mature Couples\n",
    "# - 35: Comfortable Households - Elders In Retirement\n",
    "# - 41: Less Affluent Households - Pre-Family Couples & Singles\n",
    "# - 42: Less Affluent Households - Young Couples With Children\n",
    "# - 43: Less Affluent Households - Families With School Age Children\n",
    "# - 44: Less Affluent Households - Older Families & Mature Couples\n",
    "# - 45: Less Affluent Households - Elders In Retirement\n",
    "# - 51: Poorer Households - Pre-Family Couples & Singles\n",
    "# - 52: Poorer Households - Young Couples With Children\n",
    "# - 53: Poorer Households - Families With School Age Children\n",
    "# - 54: Poorer Households - Older Families & Mature Couples\n",
    "# - 55: Poorer Households - Elders In Retirement\n",
    "# - XX: unknown\n",
    "    \n",
    "# wealth \n",
    "wealth = []\n",
    "wealth_n = 0 \n",
    "\n",
    "for n in few_missing_data['CAMEO_INTL_2015']:\n",
    "    if str(n).isnumeric():\n",
    "        if int(n) > 0:\n",
    "            wealth_n = int(str(n)[0]) # 1st digit\n",
    "        else:\n",
    "            wealth_n = np.nan\n",
    "    else:\n",
    "        wealth_n = np.nan\n",
    "    wealth.append(wealth_n)\n",
    "# 1 = wealthy\n",
    "# 2 = prosperous\n",
    "# 3 = comfortable\n",
    "# 4 = less affluent\n",
    "# 5 = poorer \n",
    "few_missing_data['CAMEO_INTL_2015_WEALTH']=wealth\n",
    "\n",
    "\n",
    "\n",
    "# life stage\n",
    "life = []\n",
    "life_n = 0 \n",
    "\n",
    "for n in few_missing_data['CAMEO_INTL_2015']:\n",
    "    if str(n).isnumeric():\n",
    "        if int(n) > 0:\n",
    "            life_n = int(str(n)[1:]) # 2nd digit\n",
    "        else:\n",
    "            life_n = np.nan\n",
    "    else:\n",
    "        life_n = np.nan\n",
    "    life.append(life_n)\n",
    "# 1 = Pre-Family Couples & Singles\n",
    "# 2 = Young Couples With Children\n",
    "# 3 = Families With School Age Children\n",
    "# 4 = Older Families &  Mature Couples\n",
    "# 5 = Elders In Retirement\n",
    "few_missing_data['CAMEO_INTL_2015_LIFESTAGE']=life"
   ]
  },
  {
   "cell_type": "code",
   "execution_count": 43,
   "metadata": {},
   "outputs": [],
   "source": [
    "# Drop original \n",
    "few_missing_data.drop(['PRAEGENDE_JUGENDJAHRE', 'CAMEO_INTL_2015'], axis = 1, inplace=True)"
   ]
  },
  {
   "cell_type": "code",
   "execution_count": 44,
   "metadata": {},
   "outputs": [],
   "source": [
    "# Drop other Mixed-types \n",
    "few_missing_data.drop(['LP_LEBENSPHASE_FEIN',\n",
    "            'LP_LEBENSPHASE_GROB',\n",
    "            'WOHNLAGE',\n",
    "            'PLZ8_BAUMAX'], axis = 1, inplace=True)"
   ]
  },
  {
   "cell_type": "markdown",
   "metadata": {},
   "source": [
    "#### Discussion 1.2.2: Engineer Mixed-Type Features\n",
    "\n",
    "(Double-click this cell and replace this text with your own text, reporting your findings and decisions regarding mixed-value features. Which ones did you keep, which did you drop, and what engineering steps did you perform?)\n",
    "\n",
    "'PRAEGENDE_JUGENDJAHRE' feature was separated into two different features, 'PRAEGENDE_JUGENDJAHRE_MOVEMENT' and 'PRAEGENDE_JUGENDJAHRE_GENERATION'. 'PRAEGENDE_JUGENDJAHRE_MOVEMENT' feature is a binary feature where 0 is the avantgarde and 1 is the mainstream. 'PRAEGENDE_JUGENDJAHRE_GENERATION' is a multi-level feature where 0 is 40s, 1 is 50s, 2 is 60s, 3 is 70s, 4 is 80s, and 5 is 90s.\n",
    "\n",
    "'CAMEO_INTL_2015' feature was separated into two different features, 'CAMEO_INTL_2015_WEALTH' and 'CAMEO_INTL_2015_LIFESTAGE'. 'CAMEO_INTL_2015_WEALTH' feature is a multi-level feature where 1 is wealthy, 2 is prosperous, 3 is comfortable, 4 is less affluent, and 5 is poorer. 'CAMEO_INTL_2015_LIFESTAGE' is a multi-level feature where 1 is Pre-Family Couples & Singles, 2 is Young Couples With Children, 3 is Families With School Age Children, 4 is Older Families &  Mature Couples, and 5 is Elders In Retirement.\n",
    "\n",
    "Rest of Mixed-type features were dropped as the instruction said they do not need much attention. "
   ]
  },
  {
   "cell_type": "markdown",
   "metadata": {},
   "source": [
    "#### Step 1.2.3: Complete Feature Selection\n",
    "\n",
    "In order to finish this step up, you need to make sure that your data frame now only has the columns that you want to keep. To summarize, the dataframe should consist of the following:\n",
    "- All numeric, interval, and ordinal type columns from the original dataset.\n",
    "- Binary categorical features (all numerically-encoded).\n",
    "- Engineered features from other multi-level categorical features and mixed features.\n",
    "\n",
    "Make sure that for any new columns that you have engineered, that you've excluded the original columns from the final dataset. Otherwise, their values will interfere with the analysis later on the project. For example, you should not keep \"PRAEGENDE_JUGENDJAHRE\", since its values won't be useful for the algorithm: only the values derived from it in the engineered features you created should be retained. As a reminder, your data should only be from **the subset with few or no missing values**."
   ]
  },
  {
   "cell_type": "code",
   "execution_count": 45,
   "metadata": {},
   "outputs": [
    {
     "data": {
      "text/plain": [
       "WOHNDAUER_2008                           0\n",
       "MIN_GEBAEUDEJAHR                         0\n",
       "ONLINE_AFFINITAET                        0\n",
       "HH_EINKOMMEN_SCORE                       0\n",
       "ANZ_TITEL                                0\n",
       "ANZ_PERSONEN                             0\n",
       "SOHO_KZ                                  0\n",
       "SEMIO_TRADV                              0\n",
       "SEMIO_PFLICHT                            0\n",
       "SEMIO_KAEM                               0\n",
       "SEMIO_DOM                                0\n",
       "SEMIO_KRIT                               0\n",
       "SEMIO_RAT                                0\n",
       "OST_WEST_KZ                              0\n",
       "SEMIO_ERL                                0\n",
       "SEMIO_LUST                               0\n",
       "SEMIO_KULT                               0\n",
       "SEMIO_MAT                                0\n",
       "ANREDE_KZ                                0\n",
       "FINANZ_MINIMALIST                        0\n",
       "FINANZ_SPARER                            0\n",
       "FINANZ_VORSORGER                         0\n",
       "SEMIO_VERT                               0\n",
       "FINANZ_UNAUFFAELLIGER                    0\n",
       "FINANZ_ANLEGER                           0\n",
       "GREEN_AVANTGARDE                         0\n",
       "PRAEGENDE_JUGENDJAHRE_MOVEMENT           0\n",
       "RETOURTYP_BK_S                           0\n",
       "SEMIO_SOZ                                0\n",
       "SEMIO_FAM                                0\n",
       "                                     ...  \n",
       "INNENSTADT                             485\n",
       "EWDICHTE                               485\n",
       "BALLRAUM                               485\n",
       "KBA13_ANZAHL_PKW                       732\n",
       "ALTERSKATEGORIE_GROB                  2469\n",
       "PLZ8_ANTG1                            2837\n",
       "PLZ8_GBZ                              2837\n",
       "PLZ8_HHZ                              2837\n",
       "PLZ8_ANTG4                            2837\n",
       "PLZ8_ANTG3                            2837\n",
       "PLZ8_ANTG2                            2837\n",
       "ANZ_HH_TITEL                          2995\n",
       "CAMEO_INTL_2015_LIFESTAGE             3231\n",
       "CAMEO_INTL_2015_WEALTH                3231\n",
       "ORTSGR_KLS9                           3654\n",
       "RELAT_AB                              3733\n",
       "ARBEIT                                3733\n",
       "ANZ_HAUSHALTE_AKTIV                   5316\n",
       "MOBI_REGIO                           10989\n",
       "KBA05_ANTG4                          10989\n",
       "KBA05_GBZ                            10989\n",
       "KBA05_ANTG2                          10989\n",
       "KBA05_ANTG1                          10989\n",
       "KBA05_ANTG3                          10989\n",
       "VERS_TYP                             24356\n",
       "HEALTH_TYP                           24356\n",
       "KKK                                  40420\n",
       "REGIOTYP                             40420\n",
       "W_KEIT_KIND_HH                       45413\n",
       "PRAEGENDE_JUGENDJAHRE_GENERATION    228609\n",
       "Length: 64, dtype: int64"
      ]
     },
     "execution_count": 45,
     "metadata": {},
     "output_type": "execute_result"
    }
   ],
   "source": [
    "# If there are other re-engineering tasks you need to perform, make sure you\n",
    "# take care of them here. (Dealing with missing data will come in step 2.1.)\n",
    "\n",
    "few_missing_data.isnull().sum().sort_values()\n",
    "# few_missing_data.isnull().sum().hist(bins=50)"
   ]
  },
  {
   "cell_type": "code",
   "execution_count": 46,
   "metadata": {},
   "outputs": [],
   "source": [
    "# Do whatever you need to in order to ensure that the dataframe only contains\n",
    "# the columns that should be passed to the algorithm functions.\n",
    "\n"
   ]
  },
  {
   "cell_type": "markdown",
   "metadata": {},
   "source": [
    "### Step 1.3: Create a Cleaning Function\n",
    "\n",
    "Even though you've finished cleaning up the general population demographics data, it's important to look ahead to the future and realize that you'll need to perform the same cleaning steps on the customer demographics data. In this substep, complete the function below to execute the main feature selection, encoding, and re-engineering steps you performed above. Then, when it comes to looking at the customer data in Step 3, you can just run this function on that DataFrame to get the trimmed dataset in a single step."
   ]
  },
  {
   "cell_type": "code",
   "execution_count": 53,
   "metadata": {},
   "outputs": [],
   "source": [
    "def clean_data(df):\n",
    "    \"\"\"\n",
    "    Perform feature trimming, re-encoding, and engineering for demographics\n",
    "    data\n",
    "    \n",
    "    INPUT: Demographics DataFrame\n",
    "    OUTPUT: Trimmed and cleaned demographics DataFrame\n",
    "    \"\"\"\n",
    "    \n",
    "    # Load in the feature summary file.\n",
    "    feat_info = pd.read_csv(\"AZDIAS_Feature_Summary.csv\", delimiter=\";\")\n",
    "    \n",
    "    # str to list\n",
    "    feat_info['missing_or_unknown'] = feat_info['missing_or_unknown'].apply(lambda x: x[1:-1].split(','))\n",
    "    \n",
    "    # Identify missing or unknown data values and convert them to NaNs.\n",
    "\n",
    "    for n in np.arange(feat_info.shape[0]):\n",
    "        attb = feat_info['attribute'][n]\n",
    "        nanvals = feat_info['missing_or_unknown'][n]\n",
    "        if nanvals != ['']:\n",
    "            for val in nanvals:\n",
    "                try:\n",
    "                    val = int(val)\n",
    "                except:\n",
    "                    val = val\n",
    "                df.loc[df[attb] == val,attb] = np.nan\n",
    "    \n",
    "    # Perform an assessment of how much missing data there is in each column of the dataset.\n",
    "    missing_data = df.isnull().sum()\n",
    "    missing_p = df.isnull().sum() / df.shape[0]\n",
    "    \n",
    "    outlier_col = list(missing_p[missing_p > 0.3].index)\n",
    "    # Drop 6 outliers \n",
    "    df.drop(list(outlier_col),axis=1,inplace=True)\n",
    "    \n",
    "    feat_info_with_missing = feat_info\n",
    "    missing_table = pd.concat([pd.DataFrame(missing_data,columns=['missing_count']),\n",
    "                               pd.DataFrame(missing_p,columns=['missing_p'])], axis=1)\n",
    "    missing_table.name = 'attribute'\n",
    "    missing_table.reset_index(inplace=True)\n",
    "    feat_info_with_missing = pd.concat([feat_info_with_missing,missing_table], axis=1)\n",
    "    \n",
    "    # How much data is missing in each row of the dataset?\n",
    "    missing_data_row = df.isnull().sum(axis=1)\n",
    "    missing_p_row = missing_data_row/df.shape[1]\n",
    "    more_missing_data = df[missing_p_row>0.1].reset_index(drop=True)\n",
    "    few_missing_data = df[missing_p_row<=0.1].reset_index(drop=True)\n",
    "\n",
    "    \n",
    "    # How many features are there of each data type?\n",
    "    unique_types = pd.concat([pd.DataFrame(feat_info.type.unique(),columns=['unique_type']),\n",
    "                          pd.DataFrame(np.zeros(len(feat_info.type.unique())),columns=['type_in_removed_col'])],axis=1)\n",
    "\n",
    "    for removed_col in outlier_col:\n",
    "        removed_type = feat_info[feat_info['attribute']==removed_col].iloc[0]['type']\n",
    "        for n in np.arange(unique_types.shape[0]):\n",
    "            if unique_types['unique_type'][n]==removed_type:\n",
    "                unique_types['type_in_removed_col'][n] = unique_types['type_in_removed_col'][n]+1\n",
    "\n",
    "    for unique_type in feat_info.type.unique():\n",
    "        u_remove = int(unique_types['type_in_removed_col'][unique_types.index[unique_types['unique_type']==unique_type].tolist()[0]])\n",
    "        u_type = sum(feat_info['type']==unique_type) - u_remove\n",
    "\n",
    "    # Drop removed columns \n",
    "    for removed_col in outlier_col:\n",
    "        feat_info=feat_info[feat_info['attribute']!=removed_col]\n",
    "    \n",
    "    \n",
    "    # Assess categorical variables: which are binary, which are multi-level, and\n",
    "    # which one needs to be re-encoded?\n",
    "    feat_categorical = feat_info[feat_info.type == 'categorical']['attribute']\n",
    "    binary_categories = []\n",
    "    multi_categories = []\n",
    "    for attb in feat_categorical:\n",
    "        if few_missing_data[attb].nunique() > 2:\n",
    "            multi_categories.append(attb)\n",
    "        else:\n",
    "            binary_categories.append(attb)\n",
    "    few_missing_data['OST_WEST_KZ'].replace(['W', 'O'], [1, 0], inplace=True)\n",
    "    few_missing_data.drop(multi_categories, axis = 1, inplace=True)\n",
    "    \n",
    "    \n",
    "    #clean Mixed type \n",
    "    feat_mix = feat_info[feat_info.type == 'mixed']['attribute']\n",
    "\n",
    "    # Investigate \"PRAEGENDE_JUGENDJAHRE\" and engineer two new variables.\n",
    "    # Movement \n",
    "\n",
    "    mov = []\n",
    "    movement_n = 0 \n",
    "    for n in few_missing_data['PRAEGENDE_JUGENDJAHRE']:\n",
    "        if n == np.nan:\n",
    "            movement_n = np.nan\n",
    "        elif n in [1,3,5,8,10,12,14]:\n",
    "            movement_n = 1\n",
    "        else:\n",
    "            movement_n = 0\n",
    "        mov.append(movement_n)\n",
    "    # 0 = avantgarde\n",
    "    # 1 = mainstream\n",
    "\n",
    "    few_missing_data['PRAEGENDE_JUGENDJAHRE_MOVEMENT']=mov\n",
    "\n",
    "    # Generation \n",
    "    gen = []\n",
    "    gen_n = 0 \n",
    "    for n in few_missing_data['PRAEGENDE_JUGENDJAHRE']:\n",
    "        if n in [1, 2]:\n",
    "            gen_n = 0\n",
    "        elif n in [3, 4]:\n",
    "            gen_n = 1\n",
    "        elif n in [5, 6, 7]:\n",
    "            gen_n = 2\n",
    "        elif n in [8, 9]:\n",
    "            gen_n = 3\n",
    "        elif n in [10, 11, 12, 13]:\n",
    "            gen_n = 4\n",
    "        elif n in [10, 11, 12, 13]:\n",
    "            gen_n = 5\n",
    "        else:\n",
    "            gen_n = np.nan\n",
    "        gen.append(gen_n)\n",
    "\n",
    "    # 0 = 40s\n",
    "    # 1 = 50s\n",
    "    # 2 = 60s\n",
    "    # 3 = 70s\n",
    "    # 4 = 80s\n",
    "    # 5 = 90s\n",
    "\n",
    "    few_missing_data['PRAEGENDE_JUGENDJAHRE_GENERATION']=gen\n",
    "    \n",
    "    # Investigate \"CAMEO_INTL_2015\" and engineer two new variables.\n",
    "    # wealth \n",
    "    wealth = []\n",
    "    wealth_n = 0 \n",
    "\n",
    "    for n in few_missing_data['CAMEO_INTL_2015']:\n",
    "        if str(n).isnumeric():\n",
    "            if int(n) > 0:\n",
    "                wealth_n = int(str(n)[0]) # 1st digit\n",
    "            else:\n",
    "                wealth_n = np.nan\n",
    "        else:\n",
    "            wealth_n = np.nan\n",
    "        wealth.append(wealth_n)\n",
    "    # 1 = wealthy\n",
    "    # 2 = prosperous\n",
    "    # 3 = comfortable\n",
    "    # 4 = less affluent\n",
    "    # 5 = poorer \n",
    "    few_missing_data['CAMEO_INTL_2015_WEALTH']=wealth\n",
    "\n",
    "    # life stage\n",
    "    life = []\n",
    "    life_n = 0 \n",
    "\n",
    "    for n in few_missing_data['CAMEO_INTL_2015']:\n",
    "        if str(n).isnumeric():\n",
    "            if int(n) > 0:\n",
    "                life_n = int(str(n)[1:]) # 2nd digit\n",
    "            else:\n",
    "                life_n = np.nan\n",
    "        else:\n",
    "            life_n = np.nan\n",
    "        life.append(life_n)\n",
    "    # 1 = Pre-Family Couples & Singles\n",
    "    # 2 = Young Couples With Children\n",
    "    # 3 = Families With School Age Children\n",
    "    # 4 = Older Families &  Mature Couples\n",
    "    # 5 = Elders In Retirement\n",
    "    few_missing_data['CAMEO_INTL_2015_LIFESTAGE']=life\n",
    "    \n",
    "    # Drop original \n",
    "    few_missing_data.drop(['PRAEGENDE_JUGENDJAHRE', 'CAMEO_INTL_2015'], axis = 1, inplace=True)\n",
    "    \n",
    "    # Drop other Mixed-types \n",
    "    few_missing_data.drop(['LP_LEBENSPHASE_FEIN',\n",
    "                'LP_LEBENSPHASE_GROB',\n",
    "                'WOHNLAGE',\n",
    "                'PLZ8_BAUMAX'], axis = 1, inplace=True)\n",
    "    \n",
    "    \n",
    "    \n",
    "    # Return the cleaned dataframe.\n",
    "    \n",
    "    return few_missing_data"
   ]
  },
  {
   "cell_type": "code",
   "execution_count": 54,
   "metadata": {},
   "outputs": [
    {
     "name": "stderr",
     "output_type": "stream",
     "text": [
      "/opt/conda/lib/python3.6/site-packages/ipykernel_launcher.py:59: SettingWithCopyWarning: \n",
      "A value is trying to be set on a copy of a slice from a DataFrame\n",
      "\n",
      "See the caveats in the documentation: http://pandas.pydata.org/pandas-docs/stable/indexing.html#indexing-view-versus-copy\n"
     ]
    }
   ],
   "source": [
    "# Test function \n",
    "azdias_test = pd.read_csv(\"Udacity_AZDIAS_Subset.csv\", delimiter=\";\")\n",
    "cleaned_test = clean_data(azdias_test)"
   ]
  },
  {
   "cell_type": "code",
   "execution_count": 55,
   "metadata": {},
   "outputs": [
    {
     "data": {
      "text/plain": [
       "WOHNDAUER_2008                           0\n",
       "MIN_GEBAEUDEJAHR                         0\n",
       "ONLINE_AFFINITAET                        0\n",
       "HH_EINKOMMEN_SCORE                       0\n",
       "ANZ_TITEL                                0\n",
       "ANZ_PERSONEN                             0\n",
       "SOHO_KZ                                  0\n",
       "SEMIO_TRADV                              0\n",
       "SEMIO_PFLICHT                            0\n",
       "SEMIO_KAEM                               0\n",
       "SEMIO_DOM                                0\n",
       "SEMIO_KRIT                               0\n",
       "SEMIO_RAT                                0\n",
       "OST_WEST_KZ                              0\n",
       "SEMIO_ERL                                0\n",
       "SEMIO_LUST                               0\n",
       "SEMIO_KULT                               0\n",
       "SEMIO_MAT                                0\n",
       "ANREDE_KZ                                0\n",
       "FINANZ_MINIMALIST                        0\n",
       "FINANZ_SPARER                            0\n",
       "FINANZ_VORSORGER                         0\n",
       "SEMIO_VERT                               0\n",
       "FINANZ_UNAUFFAELLIGER                    0\n",
       "FINANZ_ANLEGER                           0\n",
       "GREEN_AVANTGARDE                         0\n",
       "PRAEGENDE_JUGENDJAHRE_MOVEMENT           0\n",
       "RETOURTYP_BK_S                           0\n",
       "SEMIO_SOZ                                0\n",
       "SEMIO_FAM                                0\n",
       "                                     ...  \n",
       "INNENSTADT                             485\n",
       "EWDICHTE                               485\n",
       "BALLRAUM                               485\n",
       "KBA13_ANZAHL_PKW                       732\n",
       "ALTERSKATEGORIE_GROB                  2469\n",
       "PLZ8_ANTG1                            2837\n",
       "PLZ8_GBZ                              2837\n",
       "PLZ8_HHZ                              2837\n",
       "PLZ8_ANTG4                            2837\n",
       "PLZ8_ANTG3                            2837\n",
       "PLZ8_ANTG2                            2837\n",
       "ANZ_HH_TITEL                          2995\n",
       "CAMEO_INTL_2015_LIFESTAGE             3231\n",
       "CAMEO_INTL_2015_WEALTH                3231\n",
       "ORTSGR_KLS9                           3654\n",
       "RELAT_AB                              3733\n",
       "ARBEIT                                3733\n",
       "ANZ_HAUSHALTE_AKTIV                   5316\n",
       "MOBI_REGIO                           10989\n",
       "KBA05_ANTG4                          10989\n",
       "KBA05_GBZ                            10989\n",
       "KBA05_ANTG2                          10989\n",
       "KBA05_ANTG1                          10989\n",
       "KBA05_ANTG3                          10989\n",
       "VERS_TYP                             24356\n",
       "HEALTH_TYP                           24356\n",
       "KKK                                  40420\n",
       "REGIOTYP                             40420\n",
       "W_KEIT_KIND_HH                       45413\n",
       "PRAEGENDE_JUGENDJAHRE_GENERATION    228609\n",
       "Length: 64, dtype: int64"
      ]
     },
     "execution_count": 55,
     "metadata": {},
     "output_type": "execute_result"
    }
   ],
   "source": [
    "cleaned_test.isnull().sum().sort_values()"
   ]
  },
  {
   "cell_type": "code",
   "execution_count": 56,
   "metadata": {},
   "outputs": [
    {
     "data": {
      "text/plain": [
       "(747109, 64)"
      ]
     },
     "execution_count": 56,
     "metadata": {},
     "output_type": "execute_result"
    }
   ],
   "source": [
    "cleaned_test.shape"
   ]
  },
  {
   "cell_type": "markdown",
   "metadata": {},
   "source": [
    "## Step 2: Feature Transformation\n",
    "\n",
    "### Step 2.1: Apply Feature Scaling\n",
    "\n",
    "Before we apply dimensionality reduction techniques to the data, we need to perform feature scaling so that the principal component vectors are not influenced by the natural differences in scale for features. Starting from this part of the project, you'll want to keep an eye on the [API reference page for sklearn](http://scikit-learn.org/stable/modules/classes.html) to help you navigate to all of the classes and functions that you'll need. In this substep, you'll need to check the following:\n",
    "\n",
    "- sklearn requires that data not have missing values in order for its estimators to work properly. So, before applying the scaler to your data, make sure that you've cleaned the DataFrame of the remaining missing values. This can be as simple as just removing all data points with missing data, or applying an [Imputer](http://scikit-learn.org/stable/modules/generated/sklearn.preprocessing.Imputer.html) to replace all missing values. You might also try a more complicated procedure where you temporarily remove missing values in order to compute the scaling parameters before re-introducing those missing values and applying imputation. Think about how much missing data you have and what possible effects each approach might have on your analysis, and justify your decision in the discussion section below.\n",
    "- For the actual scaling function, a [StandardScaler](http://scikit-learn.org/stable/modules/generated/sklearn.preprocessing.StandardScaler.html) instance is suggested, scaling each feature to mean 0 and standard deviation 1.\n",
    "- For these classes, you can make use of the `.fit_transform()` method to both fit a procedure to the data as well as apply the transformation to the data at the same time. Don't forget to keep the fit sklearn objects handy, since you'll be applying them to the customer demographics data towards the end of the project."
   ]
  },
  {
   "cell_type": "code",
   "execution_count": 57,
   "metadata": {},
   "outputs": [
    {
     "data": {
      "text/plain": [
       "ALTERSKATEGORIE_GROB                0\n",
       "KONSUMNAEHE                         0\n",
       "MIN_GEBAEUDEJAHR                    0\n",
       "OST_WEST_KZ                         0\n",
       "KBA05_ANTG1                         0\n",
       "KBA05_ANTG2                         0\n",
       "KBA05_ANTG3                         0\n",
       "KBA05_ANTG4                         0\n",
       "KBA05_GBZ                           0\n",
       "BALLRAUM                            0\n",
       "EWDICHTE                            0\n",
       "INNENSTADT                          0\n",
       "GEBAEUDETYP_RASTER                  0\n",
       "KKK                                 0\n",
       "ANZ_HH_TITEL                        0\n",
       "MOBI_REGIO                          0\n",
       "REGIOTYP                            0\n",
       "KBA13_ANZAHL_PKW                    0\n",
       "PLZ8_ANTG1                          0\n",
       "PLZ8_ANTG2                          0\n",
       "PLZ8_ANTG3                          0\n",
       "PLZ8_ANTG4                          0\n",
       "PLZ8_HHZ                            0\n",
       "PLZ8_GBZ                            0\n",
       "ARBEIT                              0\n",
       "ORTSGR_KLS9                         0\n",
       "RELAT_AB                            0\n",
       "PRAEGENDE_JUGENDJAHRE_MOVEMENT      0\n",
       "PRAEGENDE_JUGENDJAHRE_GENERATION    0\n",
       "ONLINE_AFFINITAET                   0\n",
       "                                   ..\n",
       "FINANZ_MINIMALIST                   0\n",
       "FINANZ_SPARER                       0\n",
       "FINANZ_VORSORGER                    0\n",
       "FINANZ_ANLEGER                      0\n",
       "FINANZ_UNAUFFAELLIGER               0\n",
       "FINANZ_HAUSBAUER                    0\n",
       "GREEN_AVANTGARDE                    0\n",
       "HEALTH_TYP                          0\n",
       "RETOURTYP_BK_S                      0\n",
       "SEMIO_SOZ                           0\n",
       "SEMIO_FAM                           0\n",
       "SEMIO_REL                           0\n",
       "SEMIO_MAT                           0\n",
       "SEMIO_VERT                          0\n",
       "SEMIO_LUST                          0\n",
       "SEMIO_ERL                           0\n",
       "SEMIO_KULT                          0\n",
       "SEMIO_RAT                           0\n",
       "SEMIO_KRIT                          0\n",
       "SEMIO_DOM                           0\n",
       "SEMIO_KAEM                          0\n",
       "SEMIO_PFLICHT                       0\n",
       "SEMIO_TRADV                         0\n",
       "SOHO_KZ                             0\n",
       "VERS_TYP                            0\n",
       "ANZ_PERSONEN                        0\n",
       "ANZ_TITEL                           0\n",
       "HH_EINKOMMEN_SCORE                  0\n",
       "CAMEO_INTL_2015_WEALTH              0\n",
       "CAMEO_INTL_2015_LIFESTAGE           0\n",
       "Length: 64, dtype: int64"
      ]
     },
     "execution_count": 57,
     "metadata": {},
     "output_type": "execute_result"
    }
   ],
   "source": [
    "# If you've not yet cleaned the dataset of all NaN values, then investigate and\n",
    "# do that now.\n",
    "\n",
    "# drop all rows with missing data\n",
    "cleaned_test = cleaned_test.dropna()\n",
    "cleaned_test.isnull().sum().sort_values()"
   ]
  },
  {
   "cell_type": "code",
   "execution_count": 58,
   "metadata": {},
   "outputs": [
    {
     "data": {
      "text/plain": [
       "(444999, 64)"
      ]
     },
     "execution_count": 58,
     "metadata": {},
     "output_type": "execute_result"
    }
   ],
   "source": [
    "cleaned_test.shape"
   ]
  },
  {
   "cell_type": "code",
   "execution_count": 59,
   "metadata": {},
   "outputs": [],
   "source": [
    "# Apply feature scaling to the general population demographics data.\n",
    "\n",
    "ss = StandardScaler()\n",
    "scaler_data = ss.fit_transform(cleaned_test)"
   ]
  },
  {
   "cell_type": "code",
   "execution_count": 60,
   "metadata": {},
   "outputs": [
    {
     "data": {
      "text/html": [
       "<div>\n",
       "<style scoped>\n",
       "    .dataframe tbody tr th:only-of-type {\n",
       "        vertical-align: middle;\n",
       "    }\n",
       "\n",
       "    .dataframe tbody tr th {\n",
       "        vertical-align: top;\n",
       "    }\n",
       "\n",
       "    .dataframe thead th {\n",
       "        text-align: right;\n",
       "    }\n",
       "</style>\n",
       "<table border=\"1\" class=\"dataframe\">\n",
       "  <thead>\n",
       "    <tr style=\"text-align: right;\">\n",
       "      <th></th>\n",
       "      <th>0</th>\n",
       "      <th>1</th>\n",
       "      <th>2</th>\n",
       "      <th>3</th>\n",
       "      <th>4</th>\n",
       "      <th>5</th>\n",
       "      <th>6</th>\n",
       "      <th>7</th>\n",
       "      <th>8</th>\n",
       "      <th>9</th>\n",
       "      <th>...</th>\n",
       "      <th>54</th>\n",
       "      <th>55</th>\n",
       "      <th>56</th>\n",
       "      <th>57</th>\n",
       "      <th>58</th>\n",
       "      <th>59</th>\n",
       "      <th>60</th>\n",
       "      <th>61</th>\n",
       "      <th>62</th>\n",
       "      <th>63</th>\n",
       "    </tr>\n",
       "  </thead>\n",
       "  <tbody>\n",
       "    <tr>\n",
       "      <th>count</th>\n",
       "      <td>4.449990e+05</td>\n",
       "      <td>4.449990e+05</td>\n",
       "      <td>4.449990e+05</td>\n",
       "      <td>4.449990e+05</td>\n",
       "      <td>4.449990e+05</td>\n",
       "      <td>4.449990e+05</td>\n",
       "      <td>4.449990e+05</td>\n",
       "      <td>4.449990e+05</td>\n",
       "      <td>4.449990e+05</td>\n",
       "      <td>4.449990e+05</td>\n",
       "      <td>...</td>\n",
       "      <td>4.449990e+05</td>\n",
       "      <td>4.449990e+05</td>\n",
       "      <td>4.449990e+05</td>\n",
       "      <td>4.449990e+05</td>\n",
       "      <td>4.449990e+05</td>\n",
       "      <td>4.449990e+05</td>\n",
       "      <td>4.449990e+05</td>\n",
       "      <td>4.449990e+05</td>\n",
       "      <td>4.449990e+05</td>\n",
       "      <td>4.449990e+05</td>\n",
       "    </tr>\n",
       "    <tr>\n",
       "      <th>mean</th>\n",
       "      <td>1.478571e-16</td>\n",
       "      <td>-2.847367e-17</td>\n",
       "      <td>8.529725e-17</td>\n",
       "      <td>1.217346e-16</td>\n",
       "      <td>-2.199095e-16</td>\n",
       "      <td>-1.837835e-17</td>\n",
       "      <td>-4.585805e-17</td>\n",
       "      <td>-5.208529e-17</td>\n",
       "      <td>1.823464e-17</td>\n",
       "      <td>-1.370313e-16</td>\n",
       "      <td>...</td>\n",
       "      <td>-1.002746e-17</td>\n",
       "      <td>-5.449636e-17</td>\n",
       "      <td>6.802065e-17</td>\n",
       "      <td>-2.117741e-16</td>\n",
       "      <td>2.041258e-16</td>\n",
       "      <td>-5.880752e-17</td>\n",
       "      <td>-1.823464e-17</td>\n",
       "      <td>1.181579e-18</td>\n",
       "      <td>1.545634e-16</td>\n",
       "      <td>-1.455897e-16</td>\n",
       "    </tr>\n",
       "    <tr>\n",
       "      <th>std</th>\n",
       "      <td>1.000001e+00</td>\n",
       "      <td>1.000001e+00</td>\n",
       "      <td>1.000001e+00</td>\n",
       "      <td>1.000001e+00</td>\n",
       "      <td>1.000001e+00</td>\n",
       "      <td>1.000001e+00</td>\n",
       "      <td>1.000001e+00</td>\n",
       "      <td>1.000001e+00</td>\n",
       "      <td>1.000001e+00</td>\n",
       "      <td>1.000001e+00</td>\n",
       "      <td>...</td>\n",
       "      <td>1.000001e+00</td>\n",
       "      <td>1.000001e+00</td>\n",
       "      <td>1.000001e+00</td>\n",
       "      <td>1.000001e+00</td>\n",
       "      <td>1.000001e+00</td>\n",
       "      <td>1.000001e+00</td>\n",
       "      <td>1.000001e+00</td>\n",
       "      <td>1.000001e+00</td>\n",
       "      <td>1.000001e+00</td>\n",
       "      <td>1.000001e+00</td>\n",
       "    </tr>\n",
       "    <tr>\n",
       "      <th>min</th>\n",
       "      <td>-2.862549e+00</td>\n",
       "      <td>-1.004200e+00</td>\n",
       "      <td>-2.162334e+00</td>\n",
       "      <td>-9.166847e-01</td>\n",
       "      <td>-2.838629e+00</td>\n",
       "      <td>-1.012442e+00</td>\n",
       "      <td>-9.303752e-01</td>\n",
       "      <td>-1.510692e+00</td>\n",
       "      <td>-5.821499e-01</td>\n",
       "      <td>-1.578486e+00</td>\n",
       "      <td>...</td>\n",
       "      <td>-9.636772e-01</td>\n",
       "      <td>-2.708068e+00</td>\n",
       "      <td>-2.145200e+00</td>\n",
       "      <td>-2.203396e+00</td>\n",
       "      <td>-1.895650e+00</td>\n",
       "      <td>-1.549233e+00</td>\n",
       "      <td>-1.717771e+00</td>\n",
       "      <td>-2.267332e+00</td>\n",
       "      <td>-1.559103e+00</td>\n",
       "      <td>-1.307480e+00</td>\n",
       "    </tr>\n",
       "    <tr>\n",
       "      <th>25%</th>\n",
       "      <td>-2.512273e-01</td>\n",
       "      <td>-1.004200e+00</td>\n",
       "      <td>-4.448582e-01</td>\n",
       "      <td>-9.166847e-01</td>\n",
       "      <td>-5.620713e-02</td>\n",
       "      <td>-1.012442e+00</td>\n",
       "      <td>-9.303752e-01</td>\n",
       "      <td>-7.790984e-01</td>\n",
       "      <td>-5.821499e-01</td>\n",
       "      <td>-2.412601e-01</td>\n",
       "      <td>...</td>\n",
       "      <td>-9.636772e-01</td>\n",
       "      <td>-6.291965e-01</td>\n",
       "      <td>-3.368668e-01</td>\n",
       "      <td>-1.895735e-01</td>\n",
       "      <td>-5.855916e-01</td>\n",
       "      <td>-8.118011e-01</td>\n",
       "      <td>-1.717771e+00</td>\n",
       "      <td>-5.449877e-01</td>\n",
       "      <td>-8.752989e-01</td>\n",
       "      <td>-1.307480e+00</td>\n",
       "    </tr>\n",
       "    <tr>\n",
       "      <th>50%</th>\n",
       "      <td>-2.512273e-01</td>\n",
       "      <td>9.958177e-01</td>\n",
       "      <td>4.138798e-01</td>\n",
       "      <td>1.878083e-02</td>\n",
       "      <td>-5.620713e-02</td>\n",
       "      <td>-1.837320e-01</td>\n",
       "      <td>5.086589e-02</td>\n",
       "      <td>-4.750440e-02</td>\n",
       "      <td>-5.821499e-01</td>\n",
       "      <td>-2.412601e-01</td>\n",
       "      <td>...</td>\n",
       "      <td>4.198547e-01</td>\n",
       "      <td>-6.291965e-01</td>\n",
       "      <td>-3.368668e-01</td>\n",
       "      <td>-1.895735e-01</td>\n",
       "      <td>-1.489054e-01</td>\n",
       "      <td>-7.436971e-02</td>\n",
       "      <td>5.821499e-01</td>\n",
       "      <td>3.161844e-01</td>\n",
       "      <td>4.923093e-01</td>\n",
       "      <td>2.741184e-02</td>\n",
       "    </tr>\n",
       "    <tr>\n",
       "      <th>75%</th>\n",
       "      <td>1.054433e+00</td>\n",
       "      <td>9.958177e-01</td>\n",
       "      <td>1.272618e+00</td>\n",
       "      <td>9.542464e-01</td>\n",
       "      <td>8.712668e-01</td>\n",
       "      <td>6.449782e-01</td>\n",
       "      <td>1.032107e+00</td>\n",
       "      <td>6.840896e-01</td>\n",
       "      <td>1.717771e+00</td>\n",
       "      <td>1.095965e+00</td>\n",
       "      <td>...</td>\n",
       "      <td>4.198547e-01</td>\n",
       "      <td>4.102394e-01</td>\n",
       "      <td>5.672998e-01</td>\n",
       "      <td>8.173376e-01</td>\n",
       "      <td>7.244669e-01</td>\n",
       "      <td>6.630617e-01</td>\n",
       "      <td>5.821499e-01</td>\n",
       "      <td>1.177356e+00</td>\n",
       "      <td>1.176113e+00</td>\n",
       "      <td>6.948577e-01</td>\n",
       "    </tr>\n",
       "    <tr>\n",
       "      <th>max</th>\n",
       "      <td>1.054433e+00</td>\n",
       "      <td>9.958177e-01</td>\n",
       "      <td>1.272618e+00</td>\n",
       "      <td>2.825177e+00</td>\n",
       "      <td>8.712668e-01</td>\n",
       "      <td>2.302398e+00</td>\n",
       "      <td>2.994589e+00</td>\n",
       "      <td>1.415684e+00</td>\n",
       "      <td>1.717771e+00</td>\n",
       "      <td>1.095965e+00</td>\n",
       "      <td>...</td>\n",
       "      <td>1.803387e+00</td>\n",
       "      <td>1.449675e+00</td>\n",
       "      <td>1.471466e+00</td>\n",
       "      <td>1.824249e+00</td>\n",
       "      <td>1.597839e+00</td>\n",
       "      <td>1.400493e+00</td>\n",
       "      <td>5.821499e-01</td>\n",
       "      <td>1.177356e+00</td>\n",
       "      <td>1.176113e+00</td>\n",
       "      <td>1.362304e+00</td>\n",
       "    </tr>\n",
       "  </tbody>\n",
       "</table>\n",
       "<p>8 rows × 64 columns</p>\n",
       "</div>"
      ],
      "text/plain": [
       "                 0             1             2             3             4   \\\n",
       "count  4.449990e+05  4.449990e+05  4.449990e+05  4.449990e+05  4.449990e+05   \n",
       "mean   1.478571e-16 -2.847367e-17  8.529725e-17  1.217346e-16 -2.199095e-16   \n",
       "std    1.000001e+00  1.000001e+00  1.000001e+00  1.000001e+00  1.000001e+00   \n",
       "min   -2.862549e+00 -1.004200e+00 -2.162334e+00 -9.166847e-01 -2.838629e+00   \n",
       "25%   -2.512273e-01 -1.004200e+00 -4.448582e-01 -9.166847e-01 -5.620713e-02   \n",
       "50%   -2.512273e-01  9.958177e-01  4.138798e-01  1.878083e-02 -5.620713e-02   \n",
       "75%    1.054433e+00  9.958177e-01  1.272618e+00  9.542464e-01  8.712668e-01   \n",
       "max    1.054433e+00  9.958177e-01  1.272618e+00  2.825177e+00  8.712668e-01   \n",
       "\n",
       "                 5             6             7             8             9   \\\n",
       "count  4.449990e+05  4.449990e+05  4.449990e+05  4.449990e+05  4.449990e+05   \n",
       "mean  -1.837835e-17 -4.585805e-17 -5.208529e-17  1.823464e-17 -1.370313e-16   \n",
       "std    1.000001e+00  1.000001e+00  1.000001e+00  1.000001e+00  1.000001e+00   \n",
       "min   -1.012442e+00 -9.303752e-01 -1.510692e+00 -5.821499e-01 -1.578486e+00   \n",
       "25%   -1.012442e+00 -9.303752e-01 -7.790984e-01 -5.821499e-01 -2.412601e-01   \n",
       "50%   -1.837320e-01  5.086589e-02 -4.750440e-02 -5.821499e-01 -2.412601e-01   \n",
       "75%    6.449782e-01  1.032107e+00  6.840896e-01  1.717771e+00  1.095965e+00   \n",
       "max    2.302398e+00  2.994589e+00  1.415684e+00  1.717771e+00  1.095965e+00   \n",
       "\n",
       "           ...                 54            55            56            57  \\\n",
       "count      ...       4.449990e+05  4.449990e+05  4.449990e+05  4.449990e+05   \n",
       "mean       ...      -1.002746e-17 -5.449636e-17  6.802065e-17 -2.117741e-16   \n",
       "std        ...       1.000001e+00  1.000001e+00  1.000001e+00  1.000001e+00   \n",
       "min        ...      -9.636772e-01 -2.708068e+00 -2.145200e+00 -2.203396e+00   \n",
       "25%        ...      -9.636772e-01 -6.291965e-01 -3.368668e-01 -1.895735e-01   \n",
       "50%        ...       4.198547e-01 -6.291965e-01 -3.368668e-01 -1.895735e-01   \n",
       "75%        ...       4.198547e-01  4.102394e-01  5.672998e-01  8.173376e-01   \n",
       "max        ...       1.803387e+00  1.449675e+00  1.471466e+00  1.824249e+00   \n",
       "\n",
       "                 58            59            60            61            62  \\\n",
       "count  4.449990e+05  4.449990e+05  4.449990e+05  4.449990e+05  4.449990e+05   \n",
       "mean   2.041258e-16 -5.880752e-17 -1.823464e-17  1.181579e-18  1.545634e-16   \n",
       "std    1.000001e+00  1.000001e+00  1.000001e+00  1.000001e+00  1.000001e+00   \n",
       "min   -1.895650e+00 -1.549233e+00 -1.717771e+00 -2.267332e+00 -1.559103e+00   \n",
       "25%   -5.855916e-01 -8.118011e-01 -1.717771e+00 -5.449877e-01 -8.752989e-01   \n",
       "50%   -1.489054e-01 -7.436971e-02  5.821499e-01  3.161844e-01  4.923093e-01   \n",
       "75%    7.244669e-01  6.630617e-01  5.821499e-01  1.177356e+00  1.176113e+00   \n",
       "max    1.597839e+00  1.400493e+00  5.821499e-01  1.177356e+00  1.176113e+00   \n",
       "\n",
       "                 63  \n",
       "count  4.449990e+05  \n",
       "mean  -1.455897e-16  \n",
       "std    1.000001e+00  \n",
       "min   -1.307480e+00  \n",
       "25%   -1.307480e+00  \n",
       "50%    2.741184e-02  \n",
       "75%    6.948577e-01  \n",
       "max    1.362304e+00  \n",
       "\n",
       "[8 rows x 64 columns]"
      ]
     },
     "execution_count": 60,
     "metadata": {},
     "output_type": "execute_result"
    }
   ],
   "source": [
    "pd.DataFrame(scaler_data).describe()"
   ]
  },
  {
   "cell_type": "markdown",
   "metadata": {},
   "source": [
    "### Discussion 2.1: Apply Feature Scaling\n",
    "\n",
    "(Double-click this cell and replace this text with your own text, reporting your decisions regarding feature scaling.)\n",
    "\n",
    "First, all missing values were dropped before scalinFor the scaling function, StandardScaler was used to scale each feature. This normalize each feature to have mean of 0 and standard deviation of 1. "
   ]
  },
  {
   "cell_type": "markdown",
   "metadata": {},
   "source": [
    "### Step 2.2: Perform Dimensionality Reduction\n",
    "\n",
    "On your scaled data, you are now ready to apply dimensionality reduction techniques.\n",
    "\n",
    "- Use sklearn's [PCA](http://scikit-learn.org/stable/modules/generated/sklearn.decomposition.PCA.html) class to apply principal component analysis on the data, thus finding the vectors of maximal variance in the data. To start, you should not set any parameters (so all components are computed) or set a number of components that is at least half the number of features (so there's enough features to see the general trend in variability).\n",
    "- Check out the ratio of variance explained by each principal component as well as the cumulative variance explained. Try plotting the cumulative or sequential values using matplotlib's [`plot()`](https://matplotlib.org/api/_as_gen/matplotlib.pyplot.plot.html) function. Based on what you find, select a value for the number of transformed features you'll retain for the clustering part of the project.\n",
    "- Once you've made a choice for the number of components to keep, make sure you re-fit a PCA instance to perform the decided-on transformation."
   ]
  },
  {
   "cell_type": "code",
   "execution_count": 61,
   "metadata": {},
   "outputs": [],
   "source": [
    "# Apply PCA to the data.\n",
    "\n",
    "pca = PCA()\n",
    "pca_data = pca.fit_transform(scaler_data)"
   ]
  },
  {
   "cell_type": "code",
   "execution_count": 62,
   "metadata": {},
   "outputs": [
    {
     "data": {
      "image/png": "[encoded data removed]",
      "text/plain": [
       "<matplotlib.figure.Figure at 0x7f99f4637390>"
      ]
     },
     "metadata": {
      "needs_background": "light"
     },
     "output_type": "display_data"
    }
   ],
   "source": [
    "# Investigate the variance accounted for by each principal component.\n",
    "\n",
    "\n",
    "# The following function is from the helper_functions.py (Class material)\n",
    "\n",
    "def scree_plot(pca):\n",
    "    '''\n",
    "    Creates a scree plot associated with the principal components \n",
    "    \n",
    "    INPUT: pca - the result of instantian of PCA in scikit learn\n",
    "            \n",
    "    OUTPUT:\n",
    "            None\n",
    "    '''\n",
    "    num_components=len(pca.explained_variance_ratio_)\n",
    "    ind = np.arange(num_components)\n",
    "    vals = pca.explained_variance_ratio_\n",
    " \n",
    "    plt.figure(figsize=(10, 6))\n",
    "    ax = plt.subplot(111)\n",
    "    cumvals = np.cumsum(vals)\n",
    "    ax.bar(ind, vals)\n",
    "    ax.plot(ind, cumvals)\n",
    "    for i in range(num_components):\n",
    "        ax.annotate(r\"%s%%\" % ((str(vals[i]*100)[:4])), (ind[i]+0.2, vals[i]), va=\"bottom\", ha=\"center\", fontsize=12)\n",
    " \n",
    "    ax.xaxis.set_tick_params(width=0)\n",
    "    ax.yaxis.set_tick_params(width=2, length=12)\n",
    " \n",
    "    ax.set_xlabel(\"Principal Component\")\n",
    "    ax.set_ylabel(\"Variance Explained\")\n",
    "    plt.title('Explained Variance Per Principal Component')\n",
    "    \n",
    "scree_plot(pca)\n"
   ]
  },
  {
   "cell_type": "code",
   "execution_count": 65,
   "metadata": {},
   "outputs": [
    {
     "name": "stdout",
     "output_type": "stream",
     "text": [
      "Percent of variance explained by the first princimal component 16.9 %\n",
      "Percent of variance explained by the first 5 princimal component 48.18 %.\n",
      "Percent of variance explained by the first 10 princimal component 61.59 %.\n",
      "Percent of variance explained by the first 20 princimal component 77.81 %.\n",
      "Percent of variance explained by the first 30 princimal component 87.61 %.\n",
      "Percent of variance explained by the first 40 princimal component 93.66 %.\n",
      "Percent of variance explained by the first 50 princimal component 97.39 %.\n",
      "Percent of variance explained by the first 60 princimal component 99.66 %.\n"
     ]
    }
   ],
   "source": [
    "print('Percent of variance explained by the first princimal component', round(pca.explained_variance_ratio_[0]*100,2),'%')\n",
    "print('Percent of variance explained by the first 5 princimal component', \n",
    "      round(sum(pca.explained_variance_ratio_[:5]*100),2),'%.')\n",
    "print('Percent of variance explained by the first 10 princimal component', \n",
    "      round(sum(pca.explained_variance_ratio_[:10]*100),2),'%.')\n",
    "print('Percent of variance explained by the first 20 princimal component', \n",
    "      round(sum(pca.explained_variance_ratio_[:20]*100),2),'%.')\n",
    "print('Percent of variance explained by the first 30 princimal component', \n",
    "      round(sum(pca.explained_variance_ratio_[:30]*100),2),'%.')\n",
    "print('Percent of variance explained by the first 40 princimal component', \n",
    "      round(sum(pca.explained_variance_ratio_[:40]*100),2),'%.')\n",
    "print('Percent of variance explained by the first 50 princimal component', \n",
    "      round(sum(pca.explained_variance_ratio_[:50]*100),2),'%.')\n",
    "print('Percent of variance explained by the first 60 princimal component', \n",
    "      round(sum(pca.explained_variance_ratio_[:60]*100),2),'%.')"
   ]
  },
  {
   "cell_type": "code",
   "execution_count": 66,
   "metadata": {},
   "outputs": [],
   "source": [
    "# Re-apply PCA to the data while selecting for number of components to retain.\n",
    "pca_re = PCA(n_components=30)\n",
    "pca_data_re = pca_re.fit_transform(scaler_data)"
   ]
  },
  {
   "cell_type": "code",
   "execution_count": 67,
   "metadata": {},
   "outputs": [
    {
     "data": {
      "image/png": "[encoded data removed]",
      "text/plain": [
       "<matplotlib.figure.Figure at 0x7f99f4726240>"
      ]
     },
     "metadata": {
      "needs_background": "light"
     },
     "output_type": "display_data"
    }
   ],
   "source": [
    "scree_plot(pca_re)"
   ]
  },
  {
   "cell_type": "markdown",
   "metadata": {},
   "source": [
    "### Discussion 2.2: Perform Dimensionality Reduction\n",
    "\n",
    "(Double-click this cell and replace this text with your own text, reporting your findings and decisions regarding dimensionality reduction. How many principal components / transformed features are you retaining for the next step of the analysis?)\n",
    "\n",
    "As it is shown in the plot above, explained variance rapidly increase in the beginning, but it slows down as it have more principal components. Dimensions is decided to be reduced to 30 as it still has nearly 90% of variance explained about the data. "
   ]
  },
  {
   "cell_type": "markdown",
   "metadata": {},
   "source": [
    "### Step 2.3: Interpret Principal Components\n",
    "\n",
    "Now that we have our transformed principal components, it's a nice idea to check out the weight of each variable on the first few components to see if they can be interpreted in some fashion.\n",
    "\n",
    "As a reminder, each principal component is a unit vector that points in the direction of highest variance (after accounting for the variance captured by earlier principal components). The further a weight is from zero, the more the principal component is in the direction of the corresponding feature. If two features have large weights of the same sign (both positive or both negative), then increases in one tend expect to be associated with increases in the other. To contrast, features with different signs can be expected to show a negative correlation: increases in one variable should result in a decrease in the other.\n",
    "\n",
    "- To investigate the features, you should map each weight to their corresponding feature name, then sort the features according to weight. The most interesting features for each principal component, then, will be those at the beginning and end of the sorted list. Use the data dictionary document to help you understand these most prominent features, their relationships, and what a positive or negative value on the principal component might indicate.\n",
    "- You should investigate and interpret feature associations from the first three principal components in this substep. To help facilitate this, you should write a function that you can call at any time to print the sorted list of feature weights, for the *i*-th principal component. This might come in handy in the next step of the project, when you interpret the tendencies of the discovered clusters."
   ]
  },
  {
   "cell_type": "code",
   "execution_count": 68,
   "metadata": {},
   "outputs": [],
   "source": [
    "# Map weights for the first principal component to corresponding feature names\n",
    "# and then print the linked values, sorted by weight.\n",
    "# HINT: Try defining a function here or in a new cell that you can reuse in the\n",
    "# other cells.\n",
    "\n",
    "def pca_weights(df, pca,n_comp):\n",
    "    # PCA components\n",
    "    components = pd.DataFrame(np.round(pca.components_, 4), columns=df.keys()).iloc[n_comp-1]\n",
    "    components.sort_values(inplace=True);    \n",
    "    fig = plt.figure(figsize=(10, 8));\n",
    "#     ax1 = fig.add_subplot(121)\n",
    "#     components.head(5).plot(kind='bar')\n",
    "#     ax2 = fig.add_subplot(122)\n",
    "#     components.tail(5).plot(kind='bar')\n",
    "    pd.concat([components.head(5),components.tail(5)]).plot(kind='bar');\n",
    "    plt.show();\n",
    "    \n",
    "    return components;"
   ]
  },
  {
   "cell_type": "code",
   "execution_count": 166,
   "metadata": {},
   "outputs": [
    {
     "data": {
      "image/png": "[encoded data removed]",
      "text/plain": [
       "<matplotlib.figure.Figure at 0x7f99f46af630>"
      ]
     },
     "metadata": {
      "needs_background": "light"
     },
     "output_type": "display_data"
    },
    {
     "name": "stdout",
     "output_type": "stream",
     "text": [
      "ALTERSKATEGORIE_GROB                0.0000\n",
      "ANZ_HH_TITEL                        0.0000\n",
      "KONSUMNAEHE                        -0.0000\n",
      "MIN_GEBAEUDEJAHR                   -0.0000\n",
      "OST_WEST_KZ                        -0.0000\n",
      "KBA05_ANTG1                         0.0000\n",
      "KBA05_ANTG2                         0.0000\n",
      "KBA05_ANTG3                         0.0000\n",
      "KBA05_ANTG4                         0.0000\n",
      "KBA05_GBZ                          -0.0000\n",
      "BALLRAUM                            0.0000\n",
      "EWDICHTE                           -0.0000\n",
      "INNENSTADT                          0.0000\n",
      "GEBAEUDETYP_RASTER                  0.0000\n",
      "ANZ_HAUSHALTE_AKTIV                -0.0000\n",
      "KKK                                -0.0000\n",
      "ONLINE_AFFINITAET                   0.0000\n",
      "REGIOTYP                            0.0000\n",
      "KBA13_ANZAHL_PKW                    0.0000\n",
      "PLZ8_ANTG1                         -0.0000\n",
      "PLZ8_ANTG2                          0.0000\n",
      "PLZ8_ANTG3                         -0.0000\n",
      "PLZ8_ANTG4                         -0.0000\n",
      "PLZ8_HHZ                           -0.0000\n",
      "PLZ8_GBZ                            0.0000\n",
      "ARBEIT                              0.0000\n",
      "ORTSGR_KLS9                         0.0000\n",
      "RELAT_AB                           -0.0000\n",
      "PRAEGENDE_JUGENDJAHRE_GENERATION    0.0000\n",
      "MOBI_REGIO                         -0.0000\n",
      "                                     ...  \n",
      "FINANZ_MINIMALIST                   0.0000\n",
      "FINANZ_SPARER                      -0.0000\n",
      "FINANZ_VORSORGER                   -0.0000\n",
      "FINANZ_ANLEGER                     -0.0000\n",
      "FINANZ_UNAUFFAELLIGER               0.0000\n",
      "FINANZ_HAUSBAUER                   -0.0000\n",
      "HEALTH_TYP                          0.0000\n",
      "RETOURTYP_BK_S                      0.0000\n",
      "SEMIO_SOZ                           0.0000\n",
      "SEMIO_FAM                          -0.0000\n",
      "SEMIO_REL                          -0.0000\n",
      "W_KEIT_KIND_HH                      0.0000\n",
      "SEMIO_MAT                           0.0000\n",
      "SEMIO_LUST                         -0.0000\n",
      "ANZ_TITEL                           0.0000\n",
      "ANZ_PERSONEN                        0.0000\n",
      "VERS_TYP                            0.0000\n",
      "SOHO_KZ                            -0.0000\n",
      "SEMIO_TRADV                        -0.0000\n",
      "SEMIO_VERT                          0.0000\n",
      "SEMIO_PFLICHT                       0.0000\n",
      "SEMIO_DOM                          -0.0000\n",
      "SEMIO_KRIT                         -0.0000\n",
      "SEMIO_RAT                           0.0000\n",
      "SEMIO_KULT                         -0.0000\n",
      "SEMIO_ERL                           0.0000\n",
      "SEMIO_KAEM                          0.0000\n",
      "CAMEO_INTL_2015_LIFESTAGE           0.0000\n",
      "GREEN_AVANTGARDE                    0.7071\n",
      "PRAEGENDE_JUGENDJAHRE_MOVEMENT      0.7071\n",
      "Name: 63, Length: 64, dtype: float64\n"
     ]
    }
   ],
   "source": [
    "# Check first components\n",
    "p0 = pca_weights(cleaned_test, pca, 0)\n",
    "print(p0)"
   ]
  },
  {
   "cell_type": "code",
   "execution_count": 167,
   "metadata": {},
   "outputs": [
    {
     "name": "stdout",
     "output_type": "stream",
     "text": [
      "10 most weighted feature in the third component:\n",
      "ALTERSKATEGORIE_GROB    0.0\n",
      "ANZ_HH_TITEL            0.0\n",
      "KONSUMNAEHE            -0.0\n",
      "MIN_GEBAEUDEJAHR       -0.0\n",
      "OST_WEST_KZ            -0.0\n",
      "Name: 63, dtype: float64\n",
      "SEMIO_ERL                         0.0000\n",
      "SEMIO_KAEM                        0.0000\n",
      "CAMEO_INTL_2015_LIFESTAGE         0.0000\n",
      "GREEN_AVANTGARDE                  0.7071\n",
      "PRAEGENDE_JUGENDJAHRE_MOVEMENT    0.7071\n",
      "Name: 63, dtype: float64\n"
     ]
    }
   ],
   "source": [
    "print(\"10 most weighted feature in the first component:\")\n",
    "print(p0.head(5))\n",
    "print(p0.tail(5))"
   ]
  },
  {
   "cell_type": "code",
   "execution_count": 69,
   "metadata": {},
   "outputs": [
    {
     "data": {
      "image/png": "[encoded data removed]",
      "text/plain": [
       "<matplotlib.figure.Figure at 0x7f99f51a2d68>"
      ]
     },
     "metadata": {
      "needs_background": "light"
     },
     "output_type": "display_data"
    },
    {
     "name": "stdout",
     "output_type": "stream",
     "text": [
      "MOBI_REGIO                         -0.2577\n",
      "KBA05_ANTG1                        -0.2411\n",
      "PLZ8_ANTG1                         -0.2383\n",
      "KBA05_GBZ                          -0.2326\n",
      "FINANZ_MINIMALIST                  -0.2232\n",
      "PLZ8_GBZ                           -0.1783\n",
      "KONSUMNAEHE                        -0.1721\n",
      "INNENSTADT                         -0.1706\n",
      "BALLRAUM                           -0.1308\n",
      "GEBAEUDETYP_RASTER                 -0.1208\n",
      "GREEN_AVANTGARDE                   -0.1202\n",
      "CAMEO_INTL_2015_LIFESTAGE          -0.1199\n",
      "ONLINE_AFFINITAET                  -0.0936\n",
      "ANZ_PERSONEN                       -0.0927\n",
      "KBA13_ANZAHL_PKW                   -0.0832\n",
      "ALTERSKATEGORIE_GROB               -0.0768\n",
      "FINANZ_VORSORGER                   -0.0756\n",
      "OST_WEST_KZ                        -0.0620\n",
      "SEMIO_LUST                         -0.0464\n",
      "MIN_GEBAEUDEJAHR                   -0.0415\n",
      "WOHNDAUER_2008                     -0.0380\n",
      "SEMIO_VERT                         -0.0373\n",
      "SEMIO_ERL                          -0.0283\n",
      "SOHO_KZ                            -0.0028\n",
      "ANZ_TITEL                          -0.0021\n",
      "KBA05_ANTG2                         0.0101\n",
      "ANREDE_KZ                           0.0118\n",
      "FINANZ_ANLEGER                      0.0126\n",
      "FINANZ_UNAUFFAELLIGER               0.0175\n",
      "VERS_TYP                            0.0260\n",
      "                                     ...  \n",
      "SEMIO_DOM                           0.0368\n",
      "PLZ8_HHZ                            0.0393\n",
      "ANZ_HH_TITEL                        0.0402\n",
      "PRAEGENDE_JUGENDJAHRE_GENERATION    0.0442\n",
      "KKK                                 0.0445\n",
      "W_KEIT_KIND_HH                      0.0448\n",
      "SEMIO_FAM                           0.0481\n",
      "SEMIO_TRADV                         0.0489\n",
      "SEMIO_REL                           0.0506\n",
      "SEMIO_KAEM                          0.0534\n",
      "SEMIO_RAT                           0.0550\n",
      "RETOURTYP_BK_S                      0.0577\n",
      "SEMIO_MAT                           0.0644\n",
      "SEMIO_PFLICHT                       0.0648\n",
      "REGIOTYP                            0.0763\n",
      "FINANZ_SPARER                       0.1033\n",
      "PRAEGENDE_JUGENDJAHRE_MOVEMENT      0.1202\n",
      "RELAT_AB                            0.1413\n",
      "ANZ_HAUSHALTE_AKTIV                 0.1452\n",
      "KBA05_ANTG3                         0.1467\n",
      "ARBEIT                              0.1515\n",
      "FINANZ_HAUSBAUER                    0.1588\n",
      "PLZ8_ANTG2                          0.1609\n",
      "KBA05_ANTG4                         0.1649\n",
      "EWDICHTE                            0.2023\n",
      "ORTSGR_KLS9                         0.2043\n",
      "HH_EINKOMMEN_SCORE                  0.2081\n",
      "CAMEO_INTL_2015_WEALTH              0.2152\n",
      "PLZ8_ANTG4                          0.2294\n",
      "PLZ8_ANTG3                          0.2372\n",
      "Name: 0, Length: 64, dtype: float64\n"
     ]
    }
   ],
   "source": [
    "# Check second components\n",
    "\n",
    "p1 = pca_weights(cleaned_test, pca, 1);\n",
    "print(p1);"
   ]
  },
  {
   "cell_type": "code",
   "execution_count": 70,
   "metadata": {},
   "outputs": [
    {
     "name": "stdout",
     "output_type": "stream",
     "text": [
      "10 most weighted feature in the first component:\n",
      "MOBI_REGIO          -0.2577\n",
      "KBA05_ANTG1         -0.2411\n",
      "PLZ8_ANTG1          -0.2383\n",
      "KBA05_GBZ           -0.2326\n",
      "FINANZ_MINIMALIST   -0.2232\n",
      "Name: 0, dtype: float64\n",
      "ORTSGR_KLS9               0.2043\n",
      "HH_EINKOMMEN_SCORE        0.2081\n",
      "CAMEO_INTL_2015_WEALTH    0.2152\n",
      "PLZ8_ANTG4                0.2294\n",
      "PLZ8_ANTG3                0.2372\n",
      "Name: 0, dtype: float64\n"
     ]
    }
   ],
   "source": [
    "print(\"10 most weighted feature in the second component:\")\n",
    "print(p1.head(5))\n",
    "print(p1.tail(5))"
   ]
  },
  {
   "cell_type": "code",
   "execution_count": 123,
   "metadata": {},
   "outputs": [
    {
     "data": {
      "image/png": "[encoded data removed]",
      "text/plain": [
       "<matplotlib.figure.Figure at 0x7f99f43ec470>"
      ]
     },
     "metadata": {
      "needs_background": "light"
     },
     "output_type": "display_data"
    },
    {
     "name": "stdout",
     "output_type": "stream",
     "text": [
      "SEMIO_ERL                          -0.2682\n",
      "ALTERSKATEGORIE_GROB               -0.2644\n",
      "FINANZ_VORSORGER                   -0.2297\n",
      "ANREDE_KZ                          -0.1767\n",
      "FINANZ_HAUSBAUER                   -0.1762\n",
      "SEMIO_LUST                         -0.1649\n",
      "SEMIO_KAEM                         -0.1507\n",
      "SEMIO_KRIT                         -0.1451\n",
      "W_KEIT_KIND_HH                     -0.1285\n",
      "RETOURTYP_BK_S                     -0.0829\n",
      "SEMIO_DOM                          -0.0777\n",
      "WOHNDAUER_2008                     -0.0403\n",
      "CAMEO_INTL_2015_LIFESTAGE          -0.0348\n",
      "VERS_TYP                           -0.0331\n",
      "ARBEIT                             -0.0329\n",
      "PLZ8_ANTG3                         -0.0329\n",
      "ORTSGR_KLS9                        -0.0320\n",
      "EWDICHTE                           -0.0314\n",
      "PLZ8_ANTG4                         -0.0301\n",
      "KBA05_ANTG4                        -0.0265\n",
      "RELAT_AB                           -0.0261\n",
      "ANZ_HAUSHALTE_AKTIV                -0.0245\n",
      "CAMEO_INTL_2015_WEALTH             -0.0233\n",
      "REGIOTYP                           -0.0212\n",
      "HH_EINKOMMEN_SCORE                 -0.0194\n",
      "KBA05_ANTG3                        -0.0191\n",
      "PLZ8_ANTG2                         -0.0190\n",
      "ANZ_HH_TITEL                       -0.0167\n",
      "KKK                                -0.0150\n",
      "PRAEGENDE_JUGENDJAHRE_MOVEMENT     -0.0141\n",
      "                                     ...  \n",
      "FINANZ_MINIMALIST                   0.0070\n",
      "KBA05_ANTG2                         0.0096\n",
      "KONSUMNAEHE                         0.0137\n",
      "GREEN_AVANTGARDE                    0.0141\n",
      "KBA13_ANZAHL_PKW                    0.0152\n",
      "BALLRAUM                            0.0179\n",
      "MIN_GEBAEUDEJAHR                    0.0191\n",
      "OST_WEST_KZ                         0.0236\n",
      "INNENSTADT                          0.0240\n",
      "KBA05_ANTG1                         0.0258\n",
      "MOBI_REGIO                          0.0296\n",
      "PLZ8_GBZ                            0.0297\n",
      "PLZ8_ANTG1                          0.0300\n",
      "ANZ_PERSONEN                        0.0326\n",
      "KBA05_GBZ                           0.0359\n",
      "ONLINE_AFFINITAET                   0.0951\n",
      "HEALTH_TYP                          0.1118\n",
      "FINANZ_ANLEGER                      0.1235\n",
      "SEMIO_VERT                          0.1426\n",
      "SEMIO_SOZ                           0.1488\n",
      "SEMIO_RAT                           0.1529\n",
      "FINANZ_UNAUFFAELLIGER               0.1827\n",
      "SEMIO_MAT                           0.1987\n",
      "FINANZ_SPARER                       0.2274\n",
      "PRAEGENDE_JUGENDJAHRE_GENERATION    0.2283\n",
      "SEMIO_PFLICHT                       0.2357\n",
      "SEMIO_FAM                           0.2393\n",
      "SEMIO_TRADV                         0.2421\n",
      "SEMIO_KULT                          0.2801\n",
      "SEMIO_REL                           0.3024\n",
      "Name: 1, Length: 64, dtype: float64\n"
     ]
    }
   ],
   "source": [
    "# Map weights for the third principal component to corresponding feature names\n",
    "# and then print the linked values, sorted by weight.\n",
    "# Check third components\n",
    "\n",
    "p2 = pca_weights(cleaned_test, pca, 2)\n",
    "print(p2)\n"
   ]
  },
  {
   "cell_type": "code",
   "execution_count": 72,
   "metadata": {},
   "outputs": [
    {
     "name": "stdout",
     "output_type": "stream",
     "text": [
      "10 most weighted feature in the second component:\n",
      "SEMIO_ERL              -0.2682\n",
      "ALTERSKATEGORIE_GROB   -0.2644\n",
      "FINANZ_VORSORGER       -0.2297\n",
      "ANREDE_KZ              -0.1767\n",
      "FINANZ_HAUSBAUER       -0.1762\n",
      "Name: 1, dtype: float64\n",
      "SEMIO_PFLICHT    0.2357\n",
      "SEMIO_FAM        0.2393\n",
      "SEMIO_TRADV      0.2421\n",
      "SEMIO_KULT       0.2801\n",
      "SEMIO_REL        0.3024\n",
      "Name: 1, dtype: float64\n"
     ]
    }
   ],
   "source": [
    "print(\"10 most weighted feature in the third component:\")\n",
    "print(p2.head(5))\n",
    "print(p2.tail(5))"
   ]
  },
  {
   "cell_type": "code",
   "execution_count": 73,
   "metadata": {},
   "outputs": [
    {
     "data": {
      "image/png": "[encoded data removed]",
      "text/plain": [
       "<matplotlib.figure.Figure at 0x7f99f5085e48>"
      ]
     },
     "metadata": {
      "needs_background": "light"
     },
     "output_type": "display_data"
    },
    {
     "name": "stdout",
     "output_type": "stream",
     "text": [
      "SEMIO_VERT                         -0.3103\n",
      "SEMIO_SOZ                          -0.2077\n",
      "SEMIO_FAM                          -0.1970\n",
      "SEMIO_KULT                         -0.1833\n",
      "FINANZ_VORSORGER                   -0.1660\n",
      "ALTERSKATEGORIE_GROB               -0.1628\n",
      "FINANZ_MINIMALIST                  -0.1612\n",
      "W_KEIT_KIND_HH                     -0.1439\n",
      "RETOURTYP_BK_S                     -0.1337\n",
      "SEMIO_LUST                         -0.1235\n",
      "EWDICHTE                           -0.0599\n",
      "ORTSGR_KLS9                        -0.0583\n",
      "PLZ8_ANTG3                         -0.0501\n",
      "VERS_TYP                           -0.0493\n",
      "PLZ8_ANTG4                         -0.0490\n",
      "GREEN_AVANTGARDE                   -0.0478\n",
      "SEMIO_REL                          -0.0371\n",
      "ARBEIT                             -0.0369\n",
      "RELAT_AB                           -0.0358\n",
      "WOHNDAUER_2008                     -0.0347\n",
      "PLZ8_ANTG2                         -0.0346\n",
      "FINANZ_HAUSBAUER                   -0.0299\n",
      "KBA05_ANTG4                        -0.0276\n",
      "ANZ_HAUSHALTE_AKTIV                -0.0271\n",
      "CAMEO_INTL_2015_WEALTH             -0.0214\n",
      "ANZ_HH_TITEL                       -0.0180\n",
      "ANZ_TITEL                          -0.0128\n",
      "SEMIO_MAT                          -0.0123\n",
      "KBA05_ANTG3                        -0.0078\n",
      "PLZ8_HHZ                           -0.0078\n",
      "                                     ...  \n",
      "OST_WEST_KZ                         0.0122\n",
      "KBA05_ANTG2                         0.0138\n",
      "MIN_GEBAEUDEJAHR                    0.0184\n",
      "KBA05_ANTG1                         0.0203\n",
      "KBA13_ANZAHL_PKW                    0.0215\n",
      "KKK                                 0.0245\n",
      "KBA05_GBZ                           0.0277\n",
      "MOBI_REGIO                          0.0288\n",
      "GEBAEUDETYP_RASTER                  0.0291\n",
      "HH_EINKOMMEN_SCORE                  0.0315\n",
      "HEALTH_TYP                          0.0320\n",
      "PLZ8_GBZ                            0.0384\n",
      "KONSUMNAEHE                         0.0420\n",
      "BALLRAUM                            0.0448\n",
      "PRAEGENDE_JUGENDJAHRE_MOVEMENT      0.0478\n",
      "PLZ8_ANTG1                          0.0480\n",
      "INNENSTADT                          0.0525\n",
      "ONLINE_AFFINITAET                   0.0556\n",
      "SEMIO_TRADV                         0.1046\n",
      "FINANZ_UNAUFFAELLIGER               0.1252\n",
      "SEMIO_PFLICHT                       0.1409\n",
      "SEMIO_ERL                           0.1579\n",
      "FINANZ_SPARER                       0.1680\n",
      "PRAEGENDE_JUGENDJAHRE_GENERATION    0.1693\n",
      "SEMIO_KRIT                          0.2380\n",
      "SEMIO_RAT                           0.2422\n",
      "FINANZ_ANLEGER                      0.2566\n",
      "SEMIO_DOM                           0.2963\n",
      "SEMIO_KAEM                          0.3178\n",
      "ANREDE_KZ                           0.3269\n",
      "Name: 2, Length: 64, dtype: float64\n"
     ]
    }
   ],
   "source": [
    "# Map weights for the forth principal component to corresponding feature names\n",
    "# and then print the linked values, sorted by weight.\n",
    "#Check forth component \n",
    "p3 = pca_weights(cleaned_test, pca, 3)\n",
    "print(p3)\n"
   ]
  },
  {
   "cell_type": "code",
   "execution_count": 74,
   "metadata": {
    "scrolled": true
   },
   "outputs": [
    {
     "name": "stdout",
     "output_type": "stream",
     "text": [
      "10 most weighted feature in the third component:\n",
      "SEMIO_VERT         -0.3103\n",
      "SEMIO_SOZ          -0.2077\n",
      "SEMIO_FAM          -0.1970\n",
      "SEMIO_KULT         -0.1833\n",
      "FINANZ_VORSORGER   -0.1660\n",
      "Name: 2, dtype: float64\n",
      "SEMIO_RAT         0.2422\n",
      "FINANZ_ANLEGER    0.2566\n",
      "SEMIO_DOM         0.2963\n",
      "SEMIO_KAEM        0.3178\n",
      "ANREDE_KZ         0.3269\n",
      "Name: 2, dtype: float64\n"
     ]
    }
   ],
   "source": [
    "print(\"10 most weighted feature in the third component:\")\n",
    "print(p3.head(5))\n",
    "print(p3.tail(5))"
   ]
  },
  {
   "cell_type": "markdown",
   "metadata": {},
   "source": [
    "### Discussion 2.3: Interpret Principal Components\n",
    "\n",
    "(Double-click this cell and replace this text with your own text, reporting your observations from detailed investigation of the first few principal components generated. Can we interpret positive and negative values from them in a meaningful way?)\n",
    "\n",
    "10 most weighted features were analyzed in the first four principal components.Interestingly, the first principal component is heavily weighted on just two features, GREEN_AVANTGARDE(Membership in environmental sustainability as part of youth) and\n",
    "PRAEGENDE_JUGENDJAHRE(Dominating movement of person's youth), which shows youth is playing significant role. It indicates being a member of Green Avantgarde forms a strong and clear cluster of the population as well as dominating movement of person's youth\n",
    "\n",
    "The second principal component is heavily towards on the microcell features in both positive and negative values. Exmaples are: Movement patterns in RR1 region features, Number of buildings in the microcell, Number of 1-2 family houses in the microcell. However, micro cell was not the only feature weighed. Social status, Estimated household net income, or Financial typology were also observed in the second principal component. \n",
    "\n",
    "Compare to the second principal component, the third and the fprtj principal component's heavy weight was focused on Person-level features (i.e. Estimated age based on given name analysis, FINANZ_VORSORGER, ZABEOTYP_3.0, Personality typology, etc.)\n",
    "\n",
    "Positive and negative values do not have as much information as it would be in other type of data. It's magnitude matters more.\n",
    "\n"
   ]
  },
  {
   "cell_type": "code",
   "execution_count": null,
   "metadata": {},
   "outputs": [],
   "source": []
  },
  {
   "cell_type": "code",
   "execution_count": null,
   "metadata": {},
   "outputs": [],
   "source": []
  },
  {
   "cell_type": "markdown",
   "metadata": {},
   "source": [
    "## Step 3: Clustering\n",
    "\n",
    "### Step 3.1: Apply Clustering to General Population\n",
    "\n",
    "You've assessed and cleaned the demographics data, then scaled and transformed them. Now, it's time to see how the data clusters in the principal components space. In this substep, you will apply k-means clustering to the dataset and use the average within-cluster distances from each point to their assigned cluster's centroid to decide on a number of clusters to keep.\n",
    "\n",
    "- Use sklearn's [KMeans](http://scikit-learn.org/stable/modules/generated/sklearn.cluster.KMeans.html#sklearn.cluster.KMeans) class to perform k-means clustering on the PCA-transformed data.\n",
    "- Then, compute the average difference from each point to its assigned cluster's center. **Hint**: The KMeans object's `.score()` method might be useful here, but note that in sklearn, scores tend to be defined so that larger is better. Try applying it to a small, toy dataset, or use an internet search to help your understanding.\n",
    "- Perform the above two steps for a number of different cluster counts. You can then see how the average distance decreases with an increasing number of clusters. However, each additional cluster provides a smaller net benefit. Use this fact to select a final number of clusters in which to group the data. **Warning**: because of the large size of the dataset, it can take a long time for the algorithm to resolve. The more clusters to fit, the longer the algorithm will take. You should test for cluster counts through at least 10 clusters to get the full picture, but you shouldn't need to test for a number of clusters above about 30.\n",
    "- Once you've selected a final number of clusters to use, re-fit a KMeans instance to perform the clustering operation. Make sure that you also obtain the cluster assignments for the general demographics data, since you'll be using them in the final Step 3.3."
   ]
  },
  {
   "cell_type": "code",
   "execution_count": 75,
   "metadata": {},
   "outputs": [],
   "source": [
    "# creating a smaller dataset \n",
    "np.random.seed(40)\n",
    "pca_data_re_subset = pca_data_re[np.random.choice(pca_data_re.shape[0], int(pca_data_re.shape[0]*0.10), replace=False)]\n"
   ]
  },
  {
   "cell_type": "code",
   "execution_count": 76,
   "metadata": {},
   "outputs": [
    {
     "data": {
      "image/png": "[encoded data removed]",
      "text/plain": [
       "<matplotlib.figure.Figure at 0x7f99f4692e10>"
      ]
     },
     "metadata": {
      "needs_background": "light"
     },
     "output_type": "display_data"
    }
   ],
   "source": [
    "# Over a number of different cluster counts...\n",
    "    # run k-means clustering on the data and...\n",
    "    # compute the average within-cluster distances.\n",
    "# Investigate the change in within-cluster distance across number of clusters.\n",
    "# HINT: Use matplotlib's plot function to visualize this relationship.\n",
    "def get_kmeans_score(data, center):\n",
    "    kmeans = KMeans(n_clusters=center)\n",
    "    model = kmeans.fit(data)\n",
    "    score = np.abs(model.score(data))\n",
    "    return score\n",
    "\n",
    "scores  = [] \n",
    "centers = list(range(1,20))\n",
    "\n",
    "\n",
    "for n in centers:\n",
    "    scores.append(get_kmeans_score(pca_data_re_subset, n))\n",
    "    \n",
    "plt.plot(centers, scores, linestyle='--', marker='o', color='b');\n",
    "plt.xlabel('K');\n",
    "plt.ylabel('Sum of Squared Errors (SSE)');\n",
    "plt.title('SSE vs. K');"
   ]
  },
  {
   "cell_type": "code",
   "execution_count": 77,
   "metadata": {},
   "outputs": [],
   "source": [
    "# Re-fit the k-means model with the selected number of clusters and obtain\n",
    "# cluster predictions for the general population demographics data.\n",
    "\n",
    "kmeans = KMeans(n_clusters = 5)\n",
    "cluster_predict = kmeans.fit_predict(pca_data_re_subset)"
   ]
  },
  {
   "cell_type": "code",
   "execution_count": 78,
   "metadata": {},
   "outputs": [],
   "source": [
    "# plt.figure(figsize=(16,12))\n",
    "# plt.scatter(pca_data_re_subset[:,0], pca_data_re_subset[:,1], c=cluster_predict, edgecolor='black', lw=1.5, s=100, cmap=plt.get_cmap('viridis'))\n",
    "# plt.show()"
   ]
  },
  {
   "cell_type": "markdown",
   "metadata": {},
   "source": [
    "### Discussion 3.1: Apply Clustering to General Population\n",
    "\n",
    "(Double-click this cell and replace this text with your own text, reporting your findings and decisions regarding clustering. Into how many clusters have you decided to segment the population?)\n",
    "\n",
    "\"K\" represents the number of cluster. SSE is \"Sum of Squared Errors\". As observed in the plot, error rapidly decreases as K increases in the beginning. Elbow method suggests, the elbow would be a efficient number of \"k\" for this dataset. The elbow is observed at k = 5. "
   ]
  },
  {
   "cell_type": "markdown",
   "metadata": {},
   "source": [
    "### Step 3.2: Apply All Steps to the Customer Data\n",
    "\n",
    "Now that you have clusters and cluster centers for the general population, it's time to see how the customer data maps on to those clusters. Take care to not confuse this for re-fitting all of the models to the customer data. Instead, you're going to use the fits from the general population to clean, transform, and cluster the customer data. In the last step of the project, you will interpret how the general population fits apply to the customer data.\n",
    "\n",
    "- Don't forget when loading in the customers data, that it is semicolon (`;`) delimited.\n",
    "- Apply the same feature wrangling, selection, and engineering steps to the customer demographics using the `clean_data()` function you created earlier. (You can assume that the customer demographics data has similar meaning behind missing data patterns as the general demographics data.)\n",
    "- Use the sklearn objects from the general demographics data, and apply their transformations to the customers data. That is, you should not be using a `.fit()` or `.fit_transform()` method to re-fit the old objects, nor should you be creating new sklearn objects! Carry the data through the feature scaling, PCA, and clustering steps, obtaining cluster assignments for all of the data in the customer demographics data."
   ]
  },
  {
   "cell_type": "code",
   "execution_count": 146,
   "metadata": {},
   "outputs": [],
   "source": [
    "# Load in the customer demographics data.\n",
    "customers = pd.read_csv('Udacity_CUSTOMERS_Subset.csv', delimiter=';')"
   ]
  },
  {
   "cell_type": "code",
   "execution_count": 147,
   "metadata": {},
   "outputs": [
    {
     "name": "stderr",
     "output_type": "stream",
     "text": [
      "/opt/conda/lib/python3.6/site-packages/ipykernel_launcher.py:59: SettingWithCopyWarning: \n",
      "A value is trying to be set on a copy of a slice from a DataFrame\n",
      "\n",
      "See the caveats in the documentation: http://pandas.pydata.org/pandas-docs/stable/indexing.html#indexing-view-versus-copy\n"
     ]
    }
   ],
   "source": [
    "# Apply preprocessing, feature transformation, and clustering from the general\n",
    "# demographics onto the customer data, obtaining cluster predictions for the\n",
    "# customer demographics data.\n",
    "\n",
    "#Clean Data\n",
    "customers_clean = clean_data(customers)\n"
   ]
  },
  {
   "cell_type": "code",
   "execution_count": 148,
   "metadata": {},
   "outputs": [
    {
     "data": {
      "text/plain": [
       "(135599, 62)"
      ]
     },
     "execution_count": 148,
     "metadata": {},
     "output_type": "execute_result"
    }
   ],
   "source": [
    "customers_clean.shape"
   ]
  },
  {
   "cell_type": "code",
   "execution_count": 149,
   "metadata": {},
   "outputs": [],
   "source": [
    "# drop NA\n",
    "customers_clean = customers_clean.dropna()"
   ]
  },
  {
   "cell_type": "code",
   "execution_count": 150,
   "metadata": {},
   "outputs": [],
   "source": [
    "# Feature tranasformation \n",
    "ss_cus = StandardScaler()\n",
    "scaler_cus_data = ss_cus.fit_transform(customers_clean)"
   ]
  },
  {
   "cell_type": "code",
   "execution_count": 151,
   "metadata": {},
   "outputs": [],
   "source": [
    "# PCA \n",
    "pca_cus = PCA(n_components = 5)\n",
    "pca_cusdata = pca_cus.fit_transform(scaler_cus_data)"
   ]
  },
  {
   "cell_type": "code",
   "execution_count": 152,
   "metadata": {},
   "outputs": [],
   "source": [
    "#clustering \n",
    "# scores_cus  = [] \n",
    "# centers_cus = list(range(1,10))\n",
    "\n",
    "\n",
    "# for n in centers_cus:\n",
    "#     scores_cus.append(get_kmeans_score(customers_clean, n))\n",
    "    \n",
    "# plt.plot(centers_cus, scores_cus, linestyle='--', marker='o', color='b');\n",
    "# plt.xlabel('K');\n",
    "# plt.ylabel('Sum of Squared Errors (SSE)');\n",
    "# plt.title('SSE vs. K');"
   ]
  },
  {
   "cell_type": "code",
   "execution_count": 153,
   "metadata": {},
   "outputs": [],
   "source": [
    "kmeans_cus = KMeans(n_clusters = 5)\n",
    "cluster_predict_cus = kmeans_cus.fit_predict(scaler_cus_data)"
   ]
  },
  {
   "cell_type": "markdown",
   "metadata": {},
   "source": [
    "### Step 3.3: Compare Customer Data to Demographics Data\n",
    "\n",
    "At this point, you have clustered data based on demographics of the general population of Germany, and seen how the customer data for a mail-order sales company maps onto those demographic clusters. In this final substep, you will compare the two cluster distributions to see where the strongest customer base for the company is.\n",
    "\n",
    "Consider the proportion of persons in each cluster for the general population, and the proportions for the customers. If we think the company's customer base to be universal, then the cluster assignment proportions should be fairly similar between the two. If there are only particular segments of the population that are interested in the company's products, then we should see a mismatch from one to the other. If there is a higher proportion of persons in a cluster for the customer data compared to the general population (e.g. 5% of persons are assigned to a cluster for the general population, but 15% of the customer data is closest to that cluster's centroid) then that suggests the people in that cluster to be a target audience for the company. On the other hand, the proportion of the data in a cluster being larger in the general population than the customer data (e.g. only 2% of customers closest to a population centroid that captures 6% of the data) suggests that group of persons to be outside of the target demographics.\n",
    "\n",
    "Take a look at the following points in this step:\n",
    "\n",
    "- Compute the proportion of data points in each cluster for the general population and the customer data. Visualizations will be useful here: both for the individual dataset proportions, but also to visualize the ratios in cluster representation between groups. Seaborn's [`countplot()`](https://seaborn.pydata.org/generated/seaborn.countplot.html) or [`barplot()`](https://seaborn.pydata.org/generated/seaborn.barplot.html) function could be handy.\n",
    "  - Recall the analysis you performed in step 1.1.3 of the project, where you separated out certain data points from the dataset if they had more than a specified threshold of missing values. If you found that this group was qualitatively different from the main bulk of the data, you should treat this as an additional data cluster in this analysis. Make sure that you account for the number of data points in this subset, for both the general population and customer datasets, when making your computations!\n",
    "- Which cluster or clusters are overrepresented in the customer dataset compared to the general population? Select at least one such cluster and infer what kind of people might be represented by that cluster. Use the principal component interpretations from step 2.3 or look at additional components to help you make this inference. Alternatively, you can use the `.inverse_transform()` method of the PCA and StandardScaler objects to transform centroids back to the original data space and interpret the retrieved values directly.\n",
    "- Perform a similar investigation for the underrepresented clusters. Which cluster or clusters are underrepresented in the customer dataset compared to the general population, and what kinds of people are typified by these clusters?"
   ]
  },
  {
   "cell_type": "code",
   "execution_count": 86,
   "metadata": {},
   "outputs": [],
   "source": [
    "# Compare the proportion of data in each cluster for the customer data to the\n",
    "# proportion of data in each cluster for the general population."
   ]
  },
  {
   "cell_type": "code",
   "execution_count": 154,
   "metadata": {},
   "outputs": [],
   "source": [
    "# Compare the proportion of data in each cluster for the customer data to the\n",
    "# proportion of data in each cluster for the general population.\n",
    "cluster_predict = pd.Series(cluster_predict)\n",
    "pop_cluster = cluster_predict.value_counts().sort_index()\n",
    "pop_cluster = pd.Series(pop_cluster)\n",
    "\n",
    "cluster_predict_cus = pd.Series(cluster_predict_cus)\n",
    "customer_cluster = cluster_predict_cus.value_counts().sort_index()\n",
    "customer_cluster = pd.Series(customer_cluster)\n",
    "\n",
    "\n",
    "# Missing rows from population dataset\n",
    "# pop_missing = high_nan_rows.shape[0]\n",
    "\n",
    "# Missing rows from customer dataset\n",
    "# customer_mssing = cust_high_nan_rows_clean.shape[0]\n",
    "#custm"
   ]
  },
  {
   "cell_type": "code",
   "execution_count": 155,
   "metadata": {},
   "outputs": [],
   "source": [
    "population_all = pd.concat([pop_cluster, customer_cluster], axis=1).reset_index()\n",
    "population_all.columns= ['k','population_cluster', 'customer_cluster']"
   ]
  },
  {
   "cell_type": "code",
   "execution_count": 156,
   "metadata": {},
   "outputs": [
    {
     "data": {
      "text/html": [
       "<div>\n",
       "<style scoped>\n",
       "    .dataframe tbody tr th:only-of-type {\n",
       "        vertical-align: middle;\n",
       "    }\n",
       "\n",
       "    .dataframe tbody tr th {\n",
       "        vertical-align: top;\n",
       "    }\n",
       "\n",
       "    .dataframe thead th {\n",
       "        text-align: right;\n",
       "    }\n",
       "</style>\n",
       "<table border=\"1\" class=\"dataframe\">\n",
       "  <thead>\n",
       "    <tr style=\"text-align: right;\">\n",
       "      <th></th>\n",
       "      <th>k</th>\n",
       "      <th>population_cluster</th>\n",
       "      <th>customer_cluster</th>\n",
       "      <th>population_prop</th>\n",
       "      <th>customer_prop</th>\n",
       "    </tr>\n",
       "  </thead>\n",
       "  <tbody>\n",
       "    <tr>\n",
       "      <th>0</th>\n",
       "      <td>0</td>\n",
       "      <td>5496</td>\n",
       "      <td>22707</td>\n",
       "      <td>0.123508</td>\n",
       "      <td>0.195280</td>\n",
       "    </tr>\n",
       "    <tr>\n",
       "      <th>1</th>\n",
       "      <td>1</td>\n",
       "      <td>8409</td>\n",
       "      <td>38223</td>\n",
       "      <td>0.188971</td>\n",
       "      <td>0.328718</td>\n",
       "    </tr>\n",
       "    <tr>\n",
       "      <th>2</th>\n",
       "      <td>2</td>\n",
       "      <td>9264</td>\n",
       "      <td>12770</td>\n",
       "      <td>0.208184</td>\n",
       "      <td>0.109822</td>\n",
       "    </tr>\n",
       "    <tr>\n",
       "      <th>3</th>\n",
       "      <td>3</td>\n",
       "      <td>11138</td>\n",
       "      <td>26047</td>\n",
       "      <td>0.250298</td>\n",
       "      <td>0.224004</td>\n",
       "    </tr>\n",
       "    <tr>\n",
       "      <th>4</th>\n",
       "      <td>4</td>\n",
       "      <td>10192</td>\n",
       "      <td>16532</td>\n",
       "      <td>0.229039</td>\n",
       "      <td>0.142175</td>\n",
       "    </tr>\n",
       "  </tbody>\n",
       "</table>\n",
       "</div>"
      ],
      "text/plain": [
       "   k  population_cluster  customer_cluster  population_prop  customer_prop\n",
       "0  0                5496             22707         0.123508       0.195280\n",
       "1  1                8409             38223         0.188971       0.328718\n",
       "2  2                9264             12770         0.208184       0.109822\n",
       "3  3               11138             26047         0.250298       0.224004\n",
       "4  4               10192             16532         0.229039       0.142175"
      ]
     },
     "execution_count": 156,
     "metadata": {},
     "output_type": "execute_result"
    }
   ],
   "source": [
    "population_all['population_prop'] = population_all['population_cluster'] / population_all['population_cluster'].sum()\n",
    "population_all['customer_prop'] = population_all['customer_cluster'] / population_all['customer_cluster'].sum()\n",
    "population_all"
   ]
  },
  {
   "cell_type": "code",
   "execution_count": 162,
   "metadata": {},
   "outputs": [
    {
     "data": {
      "image/png": "[encoded data removed]",
      "text/plain": [
       "<matplotlib.figure.Figure at 0x7f99f50ed908>"
      ]
     },
     "metadata": {
      "needs_background": "light"
     },
     "output_type": "display_data"
    }
   ],
   "source": [
    "population_all.plot(x='k', y=['population_prop', 'customer_prop'], kind='bar', figsize=(15, 7))\n",
    "plt.xlabel('Cluster ID')\n",
    "plt.ylabel('Proportion of persons')\n",
    "plt.show()"
   ]
  },
  {
   "cell_type": "code",
   "execution_count": 170,
   "metadata": {},
   "outputs": [
    {
     "data": {
      "text/plain": [
       "15    0.735993\n",
       "0     0.640682\n",
       "2     0.590275\n",
       "16    0.489370\n",
       "37    0.469371\n",
       "dtype: float64"
      ]
     },
     "execution_count": 170,
     "metadata": {},
     "output_type": "execute_result"
    }
   ],
   "source": [
    "# Cluster 1\n",
    "c1 = kmeans_cus.cluster_centers_[1]\n",
    "c1 = pd.Series(c1)\n",
    "c1.sort_values(ascending=False, inplace=True)\n",
    "c1.head(5)"
   ]
  },
  {
   "cell_type": "code",
   "execution_count": 177,
   "metadata": {},
   "outputs": [
    {
     "name": "stdout",
     "output_type": "stream",
     "text": [
      "SEMIO_VERT\n",
      "ALTERSKATEGORIE_GROB\n",
      "FINANZ_MINIMALIST\n",
      "SEMIO_LUST\n",
      "KBA05_ANTG1\n"
     ]
    }
   ],
   "source": [
    "print(customers_clean.columns[15])\n",
    "print(customers_clean.columns[0])\n",
    "print(customers_clean.columns[2])\n",
    "print(customers_clean.columns[16])\n",
    "print(customers_clean.columns[37])"
   ]
  },
  {
   "cell_type": "code",
   "execution_count": 180,
   "metadata": {},
   "outputs": [
    {
     "data": {
      "text/plain": [
       "1     1.464398\n",
       "22    1.200273\n",
       "20    1.079468\n",
       "17    1.009767\n",
       "21    0.931987\n",
       "dtype: float64"
      ]
     },
     "execution_count": 180,
     "metadata": {},
     "output_type": "execute_result"
    }
   ],
   "source": [
    "c0 = kmeans_cus.cluster_centers_[0]\n",
    "c0 = pd.Series(c0)\n",
    "c0.sort_values(ascending=False, inplace=True)\n",
    "c0.head(5)"
   ]
  },
  {
   "cell_type": "code",
   "execution_count": 182,
   "metadata": {},
   "outputs": [
    {
     "name": "stdout",
     "output_type": "stream",
     "text": [
      "RETOURTYP_BK_S\n",
      "SEMIO_KAEM\n",
      "SEMIO_KRIT\n",
      "SEMIO_ERL\n",
      "SEMIO_DOM\n"
     ]
    }
   ],
   "source": [
    "print(customers_clean.columns[1])\n",
    "print(customers_clean.columns[22])\n",
    "print(customers_clean.columns[20])\n",
    "print(customers_clean.columns[17])\n",
    "print(customers_clean.columns[21])"
   ]
  },
  {
   "cell_type": "code",
   "execution_count": 168,
   "metadata": {},
   "outputs": [
    {
     "data": {
      "image/png": "[encoded data removed]",
      "text/plain": [
       "<matplotlib.figure.Figure at 0x7f99f46b3e48>"
      ]
     },
     "metadata": {
      "needs_background": "light"
     },
     "output_type": "display_data"
    },
    {
     "name": "stdout",
     "output_type": "stream",
     "text": [
      "10 most weighted feature in the first component:\n",
      "PLZ8_HHZ           -0.5408\n",
      "KBA13_ANZAHL_PKW   -0.5362\n",
      "PLZ8_GBZ           -0.4274\n",
      "OST_WEST_KZ        -0.1530\n",
      "FINANZ_VORSORGER   -0.1169\n",
      "Name: 4, dtype: float64\n",
      "ALTERSKATEGORIE_GROB    0.0954\n",
      "KONSUMNAEHE             0.1055\n",
      "FINANZ_ANLEGER          0.1083\n",
      "RELAT_AB                0.1181\n",
      "ARBEIT                  0.1228\n",
      "Name: 4, dtype: float64\n"
     ]
    }
   ],
   "source": [
    "p0_cus = pca_weights(customers_clean, pca_cus, 0)\n",
    "\n",
    "print(\"10 most weighted feature in the first component:\")\n",
    "print(p0_cus.head(5))\n",
    "print(p0_cus.tail(5))"
   ]
  },
  {
   "cell_type": "code",
   "execution_count": 163,
   "metadata": {},
   "outputs": [
    {
     "data": {
      "image/png": "[encoded data removed]",
      "text/plain": [
       "<matplotlib.figure.Figure at 0x7f99f509f7b8>"
      ]
     },
     "metadata": {
      "needs_background": "light"
     },
     "output_type": "display_data"
    },
    {
     "name": "stdout",
     "output_type": "stream",
     "text": [
      "10 most weighted feature in the first component:\n",
      "FINANZ_MINIMALIST   -0.2475\n",
      "MOBI_REGIO          -0.2451\n",
      "KBA05_ANTG1         -0.2235\n",
      "KBA05_GBZ           -0.2164\n",
      "PLZ8_ANTG1          -0.2132\n",
      "Name: 0, dtype: float64\n",
      "CAMEO_INTL_2015_WEALTH    0.1882\n",
      "HH_EINKOMMEN_SCORE        0.1964\n",
      "PLZ8_ANTG4                0.1985\n",
      "PLZ8_ANTG3                0.2114\n",
      "FINANZ_HAUSBAUER          0.2280\n",
      "Name: 0, dtype: float64\n"
     ]
    }
   ],
   "source": [
    "p1_cus = pca_weights(customers_clean, pca_cus, 1)\n",
    "\n",
    "print(\"10 most weighted feature in the second component:\")\n",
    "print(p1_cus.head(5))\n",
    "print(p1_cus.tail(5))"
   ]
  },
  {
   "cell_type": "code",
   "execution_count": 169,
   "metadata": {},
   "outputs": [
    {
     "data": {
      "image/png": "[encoded data removed]",
      "text/plain": [
       "<matplotlib.figure.Figure at 0x7f99f5181a20>"
      ]
     },
     "metadata": {
      "needs_background": "light"
     },
     "output_type": "display_data"
    },
    {
     "name": "stdout",
     "output_type": "stream",
     "text": [
      "10 most weighted feature in the third component:\n",
      "ANREDE_KZ    -0.3138\n",
      "SEMIO_KAEM   -0.3024\n",
      "SEMIO_KRIT   -0.2519\n",
      "SEMIO_ERL    -0.2484\n",
      "SEMIO_DOM    -0.2348\n",
      "Name: 1, dtype: float64\n",
      "SEMIO_SOZ     0.1971\n",
      "SEMIO_REL     0.1995\n",
      "SEMIO_FAM     0.2492\n",
      "SEMIO_KULT    0.2688\n",
      "SEMIO_VERT    0.2876\n",
      "Name: 1, dtype: float64\n"
     ]
    }
   ],
   "source": [
    "p2_cus = pca_weights(customers_clean, pca_cus, 2)\n",
    "\n",
    "print(\"10 most weighted feature in the third component:\")\n",
    "print(p2_cus.head(5))\n",
    "print(p2_cus.tail(5))"
   ]
  },
  {
   "cell_type": "code",
   "execution_count": 143,
   "metadata": {},
   "outputs": [
    {
     "data": {
      "text/plain": [
       "PCA(copy=True, iterated_power='auto', n_components=5, random_state=None,\n",
       "  svd_solver='auto', tol=0.0, whiten=False)"
      ]
     },
     "execution_count": 143,
     "metadata": {},
     "output_type": "execute_result"
    }
   ],
   "source": [
    "pca_cus"
   ]
  },
  {
   "cell_type": "markdown",
   "metadata": {},
   "source": [
    "#What kinds of people are part of a cluster that is overrepresented in the\n",
    "#customer data compared to the general population?\n",
    "\n",
    "Based on the obervation, we can see various features are playing major role in representing customer data, including Personality typology, Estimated age based on names, financial topology, property type and so on. This shows in the Cluster 1. When looking the first component, customer data showed very heavy weight on PLZ8 macro-cell features. This is a difference standing out when compare to the general population because in general population micro-cell playoed more significant role in distinguish customber groups. Macro-cell feature may have been overrepresented compareto general population. \n",
    "\n",
    "When looking the Cluster 0, people-level features get more weight, which is a similar pattern oberrved in the general population, indicating personal features like gender, personality etc is still very important to understand both customer and general population. \n",
    "\n",
    "Considering GREEN_AVANTGARDE and PRAEGENDE_JUGENDJAHRE was such a strong feature for general population, it may be underrepresented. \n",
    "\n",
    "\n"
   ]
  },
  {
   "cell_type": "markdown",
   "metadata": {},
   "source": [
    "### Discussion 3.3: Compare Customer Data to Demographics Data\n",
    "\n",
    "(Double-click this cell and replace this text with your own text, reporting findings and conclusions from the clustering analysis. Can we describe segments of the population that are relatively popular with the mail-order company, or relatively unpopular with the company?)\n",
    "\n",
    "Customer PCA analysis indicates that mail-order company is popular in PLZ8 regions especially among smaller household size, and smaller household count regions. Noticible interest is also observed from higher affinity customers. However it seems to be less hindered by postal location. "
   ]
  },
  {
   "cell_type": "markdown",
   "metadata": {},
   "source": [
    "> Congratulations on making it this far in the project! Before you finish, make sure to check through the entire notebook from top to bottom to make sure that your analysis follows a logical flow and all of your findings are documented in **Discussion** cells. Once you've checked over all of your work, you should export the notebook as an HTML document to submit for evaluation. You can do this from the menu, navigating to **File -> Download as -> HTML (.html)**. You will submit both that document and this notebook for your project submission."
   ]
  },
  {
   "cell_type": "code",
   "execution_count": null,
   "metadata": {},
   "outputs": [],
   "source": []
  }
 ],
 "metadata": {
  "kernelspec": {
   "display_name": "Python 3",
   "language": "python",
   "name": "python3"
  },
  "language_info": {
   "codemirror_mode": {
    "name": "ipython",
    "version": 3
   },
   "file_extension": ".py",
   "mimetype": "text/x-python",
   "name": "python",
   "nbconvert_exporter": "python",
   "pygments_lexer": "ipython3",
   "version": "3.6.3"
  }
 },
 "nbformat": 4,
 "nbformat_minor": 2
}
